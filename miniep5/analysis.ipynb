{
 "cells": [
  {
   "cell_type": "code",
   "execution_count": 7,
   "metadata": {},
   "outputs": [],
   "source": [
    "import json\n",
    "import glob\n",
    "import pandas as pd\n",
    "import plotly.express as px\n",
    "import plotly.graph_objs as go"
   ]
  },
  {
   "cell_type": "code",
   "execution_count": 8,
   "metadata": {},
   "outputs": [],
   "source": [
    "def prep_json(d):\n",
    "    d = d['results'][0]\n",
    "    if sum(d['exit_codes']) != 0:\n",
    "        raise ValueError('exit_codes != 0')\n",
    "    d = {'num_ifs': params[0],\n",
    "        'num_threads': params[1],\n",
    "        'array_size': params[2],\n",
    "        'n': len(d['times'])} | d\n",
    "    d['ci'] = 1.960 * d['stddev'] / (d['n']**0.5)\n",
    "    _ = d.pop('command')\n",
    "    _ = d.pop('times')\n",
    "    _ = d.pop('exit_codes')\n",
    "    return d"
   ]
  },
  {
   "cell_type": "code",
   "execution_count": 9,
   "metadata": {},
   "outputs": [
    {
     "data": {
      "text/html": [
       "<div>\n",
       "<style scoped>\n",
       "    .dataframe tbody tr th:only-of-type {\n",
       "        vertical-align: middle;\n",
       "    }\n",
       "\n",
       "    .dataframe tbody tr th {\n",
       "        vertical-align: top;\n",
       "    }\n",
       "\n",
       "    .dataframe thead th {\n",
       "        text-align: right;\n",
       "    }\n",
       "</style>\n",
       "<table border=\"1\" class=\"dataframe\">\n",
       "  <thead>\n",
       "    <tr style=\"text-align: right;\">\n",
       "      <th></th>\n",
       "      <th>num_ifs</th>\n",
       "      <th>num_threads</th>\n",
       "      <th>array_size</th>\n",
       "      <th>n</th>\n",
       "      <th>mean</th>\n",
       "      <th>stddev</th>\n",
       "      <th>median</th>\n",
       "      <th>user</th>\n",
       "      <th>system</th>\n",
       "      <th>min</th>\n",
       "      <th>max</th>\n",
       "      <th>ci</th>\n",
       "    </tr>\n",
       "  </thead>\n",
       "  <tbody>\n",
       "    <tr>\n",
       "      <th>198</th>\n",
       "      <td>0</td>\n",
       "      <td>1</td>\n",
       "      <td>1</td>\n",
       "      <td>100</td>\n",
       "      <td>0.002824</td>\n",
       "      <td>0.000227</td>\n",
       "      <td>0.002852</td>\n",
       "      <td>0.000968</td>\n",
       "      <td>0.000871</td>\n",
       "      <td>0.002248</td>\n",
       "      <td>0.003385</td>\n",
       "      <td>0.000044</td>\n",
       "    </tr>\n",
       "    <tr>\n",
       "      <th>155</th>\n",
       "      <td>0</td>\n",
       "      <td>1</td>\n",
       "      <td>10</td>\n",
       "      <td>100</td>\n",
       "      <td>0.002715</td>\n",
       "      <td>0.000210</td>\n",
       "      <td>0.002729</td>\n",
       "      <td>0.000932</td>\n",
       "      <td>0.000755</td>\n",
       "      <td>0.002178</td>\n",
       "      <td>0.003462</td>\n",
       "      <td>0.000041</td>\n",
       "    </tr>\n",
       "    <tr>\n",
       "      <th>495</th>\n",
       "      <td>0</td>\n",
       "      <td>1</td>\n",
       "      <td>100</td>\n",
       "      <td>100</td>\n",
       "      <td>0.002754</td>\n",
       "      <td>0.000221</td>\n",
       "      <td>0.002768</td>\n",
       "      <td>0.000973</td>\n",
       "      <td>0.000770</td>\n",
       "      <td>0.002219</td>\n",
       "      <td>0.003369</td>\n",
       "      <td>0.000043</td>\n",
       "    </tr>\n",
       "    <tr>\n",
       "      <th>383</th>\n",
       "      <td>0</td>\n",
       "      <td>1</td>\n",
       "      <td>1000</td>\n",
       "      <td>100</td>\n",
       "      <td>0.003173</td>\n",
       "      <td>0.000190</td>\n",
       "      <td>0.003188</td>\n",
       "      <td>0.001369</td>\n",
       "      <td>0.000766</td>\n",
       "      <td>0.002706</td>\n",
       "      <td>0.003788</td>\n",
       "      <td>0.000037</td>\n",
       "    </tr>\n",
       "    <tr>\n",
       "      <th>310</th>\n",
       "      <td>0</td>\n",
       "      <td>1</td>\n",
       "      <td>10000</td>\n",
       "      <td>100</td>\n",
       "      <td>0.007088</td>\n",
       "      <td>0.000187</td>\n",
       "      <td>0.007080</td>\n",
       "      <td>0.005165</td>\n",
       "      <td>0.000793</td>\n",
       "      <td>0.006622</td>\n",
       "      <td>0.007852</td>\n",
       "      <td>0.000037</td>\n",
       "    </tr>\n",
       "    <tr>\n",
       "      <th>...</th>\n",
       "      <td>...</td>\n",
       "      <td>...</td>\n",
       "      <td>...</td>\n",
       "      <td>...</td>\n",
       "      <td>...</td>\n",
       "      <td>...</td>\n",
       "      <td>...</td>\n",
       "      <td>...</td>\n",
       "      <td>...</td>\n",
       "      <td>...</td>\n",
       "      <td>...</td>\n",
       "      <td>...</td>\n",
       "    </tr>\n",
       "    <tr>\n",
       "      <th>219</th>\n",
       "      <td>10000</td>\n",
       "      <td>4096</td>\n",
       "      <td>100</td>\n",
       "      <td>100</td>\n",
       "      <td>0.193100</td>\n",
       "      <td>0.002592</td>\n",
       "      <td>0.193009</td>\n",
       "      <td>0.028526</td>\n",
       "      <td>0.318859</td>\n",
       "      <td>0.186807</td>\n",
       "      <td>0.199367</td>\n",
       "      <td>0.000508</td>\n",
       "    </tr>\n",
       "    <tr>\n",
       "      <th>443</th>\n",
       "      <td>10000</td>\n",
       "      <td>4096</td>\n",
       "      <td>1000</td>\n",
       "      <td>100</td>\n",
       "      <td>0.194090</td>\n",
       "      <td>0.002379</td>\n",
       "      <td>0.193790</td>\n",
       "      <td>0.029979</td>\n",
       "      <td>0.321537</td>\n",
       "      <td>0.187868</td>\n",
       "      <td>0.201080</td>\n",
       "      <td>0.000466</td>\n",
       "    </tr>\n",
       "    <tr>\n",
       "      <th>327</th>\n",
       "      <td>10000</td>\n",
       "      <td>4096</td>\n",
       "      <td>10000</td>\n",
       "      <td>100</td>\n",
       "      <td>0.197888</td>\n",
       "      <td>0.003360</td>\n",
       "      <td>0.197353</td>\n",
       "      <td>0.037236</td>\n",
       "      <td>0.326702</td>\n",
       "      <td>0.191389</td>\n",
       "      <td>0.210862</td>\n",
       "      <td>0.000658</td>\n",
       "    </tr>\n",
       "    <tr>\n",
       "      <th>212</th>\n",
       "      <td>10000</td>\n",
       "      <td>4096</td>\n",
       "      <td>100000</td>\n",
       "      <td>100</td>\n",
       "      <td>0.203358</td>\n",
       "      <td>0.003205</td>\n",
       "      <td>0.203274</td>\n",
       "      <td>0.077805</td>\n",
       "      <td>0.346546</td>\n",
       "      <td>0.196746</td>\n",
       "      <td>0.214141</td>\n",
       "      <td>0.000628</td>\n",
       "    </tr>\n",
       "    <tr>\n",
       "      <th>368</th>\n",
       "      <td>10000</td>\n",
       "      <td>4096</td>\n",
       "      <td>1000000</td>\n",
       "      <td>100</td>\n",
       "      <td>0.250761</td>\n",
       "      <td>0.007082</td>\n",
       "      <td>0.251942</td>\n",
       "      <td>0.637051</td>\n",
       "      <td>0.386394</td>\n",
       "      <td>0.235086</td>\n",
       "      <td>0.264447</td>\n",
       "      <td>0.001388</td>\n",
       "    </tr>\n",
       "  </tbody>\n",
       "</table>\n",
       "<p>546 rows × 12 columns</p>\n",
       "</div>"
      ],
      "text/plain": [
       "     num_ifs  num_threads  array_size    n      mean    stddev    median  \\\n",
       "198        0            1           1  100  0.002824  0.000227  0.002852   \n",
       "155        0            1          10  100  0.002715  0.000210  0.002729   \n",
       "495        0            1         100  100  0.002754  0.000221  0.002768   \n",
       "383        0            1        1000  100  0.003173  0.000190  0.003188   \n",
       "310        0            1       10000  100  0.007088  0.000187  0.007080   \n",
       "..       ...          ...         ...  ...       ...       ...       ...   \n",
       "219    10000         4096         100  100  0.193100  0.002592  0.193009   \n",
       "443    10000         4096        1000  100  0.194090  0.002379  0.193790   \n",
       "327    10000         4096       10000  100  0.197888  0.003360  0.197353   \n",
       "212    10000         4096      100000  100  0.203358  0.003205  0.203274   \n",
       "368    10000         4096     1000000  100  0.250761  0.007082  0.251942   \n",
       "\n",
       "         user    system       min       max        ci  \n",
       "198  0.000968  0.000871  0.002248  0.003385  0.000044  \n",
       "155  0.000932  0.000755  0.002178  0.003462  0.000041  \n",
       "495  0.000973  0.000770  0.002219  0.003369  0.000043  \n",
       "383  0.001369  0.000766  0.002706  0.003788  0.000037  \n",
       "310  0.005165  0.000793  0.006622  0.007852  0.000037  \n",
       "..        ...       ...       ...       ...       ...  \n",
       "219  0.028526  0.318859  0.186807  0.199367  0.000508  \n",
       "443  0.029979  0.321537  0.187868  0.201080  0.000466  \n",
       "327  0.037236  0.326702  0.191389  0.210862  0.000658  \n",
       "212  0.077805  0.346546  0.196746  0.214141  0.000628  \n",
       "368  0.637051  0.386394  0.235086  0.264447  0.001388  \n",
       "\n",
       "[546 rows x 12 columns]"
      ]
     },
     "execution_count": 9,
     "metadata": {},
     "output_type": "execute_result"
    }
   ],
   "source": [
    "out = 'out/20220731101132/'\n",
    "data = []\n",
    "for fpath in glob.iglob(out+'hf/*'):\n",
    "    fname, fext = fpath.split('/')[-1].split('.')\n",
    "    if fext == 'json':\n",
    "        params = [int(x) for x in fname.split('_')]\n",
    "        with open(fpath, 'r') as f:\n",
    "            data.append(prep_json(json.load(f)))\n",
    "df = pd.DataFrame(data).sort_values(['num_ifs','num_threads','array_size'])\n",
    "df"
   ]
  },
  {
   "cell_type": "code",
   "execution_count": 10,
   "metadata": {},
   "outputs": [],
   "source": [
    "def line(error_y_mode=None, **kwargs):\n",
    "    \"\"\"Extension of `plotly.express.line` to use error bands.\n",
    "    Source: https://stackoverflow.com/a/69594497\"\"\"\n",
    "    ERROR_MODES = {'bar','band','bars','bands',None}\n",
    "    if error_y_mode not in ERROR_MODES:\n",
    "        raise ValueError(f\"'error_y_mode' must be one of {ERROR_MODES}, received {repr(error_y_mode)}.\")\n",
    "    if error_y_mode in {'bar','bars',None}:\n",
    "        fig = px.line(**kwargs)\n",
    "    elif error_y_mode in {'band','bands'}:\n",
    "        if 'error_y' not in kwargs:\n",
    "            raise ValueError(f\"If you provide argument 'error_y_mode' you must also provide 'error_y'.\")\n",
    "        figure_with_error_bars = px.line(**kwargs)\n",
    "        fig = px.line(**{arg: val for arg,val in kwargs.items() if arg != 'error_y'})\n",
    "        for data in figure_with_error_bars.data:\n",
    "            x = list(data['x'])\n",
    "            y_upper = list(data['y'] + data['error_y']['array'])\n",
    "            y_lower = list(data['y'] - data['error_y']['array'] if data['error_y']['arrayminus'] is None else data['y'] - data['error_y']['arrayminus'])\n",
    "            color = f\"rgba({tuple(int(data['line']['color'].lstrip('#')[i:i+2], 16) for i in (0, 2, 4))},.3)\".replace('((','(').replace('),',',').replace(' ','')\n",
    "            fig.add_trace(\n",
    "                go.Scatter(\n",
    "                    x = x+x[::-1],\n",
    "                    y = y_upper+y_lower[::-1],\n",
    "                    fill = 'toself',\n",
    "                    fillcolor = color,\n",
    "                    line = dict(\n",
    "                        color = 'rgba(255,255,255,0)'\n",
    "                    ),\n",
    "                    hoverinfo = \"skip\",\n",
    "                    showlegend = False,\n",
    "                    legendgroup = data['legendgroup'],\n",
    "                    xaxis = data['xaxis'],\n",
    "                    yaxis = data['yaxis'],\n",
    "                )\n",
    "            )\n",
    "        # Reorder data as said here: https://stackoverflow.com/a/66854398/8849755\n",
    "        reordered_data = []\n",
    "        for i in range(int(len(fig.data)/2)):\n",
    "            reordered_data.append(fig.data[i+int(len(fig.data)/2)])\n",
    "            reordered_data.append(fig.data[i])\n",
    "        fig.data = tuple(reordered_data)\n",
    "    return fig"
   ]
  },
  {
   "cell_type": "code",
   "execution_count": 11,
   "metadata": {},
   "outputs": [
    {
     "data": {
      "text/plain": [
       "['#f0f921',\n",
       " '#fad625',\n",
       " '#fcb430',\n",
       " '#f89640',\n",
       " '#ed7953',\n",
       " '#dd5f65',\n",
       " '#cb4778',\n",
       " '#b52f8c',\n",
       " '#9c179e',\n",
       " '#7c06a6',\n",
       " '#5c02a3',\n",
       " '#380499',\n",
       " '#0d0887']"
      ]
     },
     "execution_count": 11,
     "metadata": {},
     "output_type": "execute_result"
    }
   ],
   "source": [
    "def rgb_to_hex(rgb):\n",
    "    return '%02x%02x%02x' % rgb\n",
    "\n",
    "n_colors = 13\n",
    "colors = px.colors.sample_colorscale(\n",
    "    'plasma_r', \n",
    "    [n/(n_colors -1) for n in range(n_colors)])\n",
    "colors = ['#'+rgb_to_hex(eval(c.lstrip('rgb'))) for c in colors]\n",
    "colors"
   ]
  },
  {
   "cell_type": "code",
   "execution_count": 12,
   "metadata": {},
   "outputs": [
    {
     "data": {
      "application/vnd.plotly.v1+json": {
       "config": {
        "plotlyServerURL": "https://plot.ly"
       },
       "data": [
        {
         "fill": "toself",
         "fillcolor": "rgba(240,249,33,.3)",
         "hoverinfo": "skip",
         "legendgroup": "1",
         "line": {
          "color": "rgba(255,255,255,0)"
         },
         "showlegend": false,
         "type": "scatter",
         "x": [
          0,
          1,
          10,
          100,
          1000,
          10000,
          10000,
          1000,
          100,
          10,
          1,
          0
         ],
         "xaxis": "x",
         "y": [
          0.0028681126363331,
          0.002917033369533968,
          0.0029514523872530853,
          0.0029968656616499835,
          0.002838771188406117,
          0.0030703830851397584,
          0.0029693613548602412,
          0.002702402151593885,
          0.002882676758350012,
          0.0028712991327469145,
          0.0027577901704660323,
          0.0027791243836669003
         ],
         "yaxis": "y"
        },
        {
         "hovertemplate": "num_threads=1<br>num_ifs=%{x}<br>mean=%{y}<extra></extra>",
         "legendgroup": "1",
         "line": {
          "color": "#f0f921",
          "dash": "solid"
         },
         "marker": {
          "symbol": "circle"
         },
         "mode": "lines",
         "name": "1",
         "orientation": "v",
         "showlegend": true,
         "type": "scatter",
         "x": [
          0,
          1,
          10,
          100,
          1000,
          10000
         ],
         "xaxis": "x",
         "y": [
          0.00282361851,
          0.00283741177,
          0.00291137576,
          0.0029397712099999977,
          0.002770586670000001,
          0.00301987222
         ],
         "yaxis": "y"
        },
        {
         "fill": "toself",
         "fillcolor": "rgba(250,214,37,.3)",
         "hoverinfo": "skip",
         "legendgroup": "2",
         "line": {
          "color": "rgba(255,255,255,0)"
         },
         "showlegend": false,
         "type": "scatter",
         "x": [
          0,
          1,
          10,
          100,
          1000,
          10000,
          10000,
          1000,
          100,
          10,
          1,
          0
         ],
         "xaxis": "x",
         "y": [
          0.0027188795267317077,
          0.0027132738874003828,
          0.0027986699435233776,
          0.0027453636088320982,
          0.0027525733962068077,
          0.003079616528074881,
          0.00299137363192512,
          0.002690561803793193,
          0.002672097471167905,
          0.002687490716476627,
          0.0026556803725996158,
          0.002635039893268296
         ],
         "yaxis": "y"
        },
        {
         "hovertemplate": "num_threads=2<br>num_ifs=%{x}<br>mean=%{y}<extra></extra>",
         "legendgroup": "2",
         "line": {
          "color": "#fad625",
          "dash": "solid"
         },
         "marker": {
          "symbol": "circle"
         },
         "mode": "lines",
         "name": "2",
         "orientation": "v",
         "showlegend": true,
         "type": "scatter",
         "x": [
          0,
          1,
          10,
          100,
          1000,
          10000
         ],
         "xaxis": "x",
         "y": [
          0.002676959710000002,
          0.0026844771299999993,
          0.0027430803300000023,
          0.0027087305400000017,
          0.0027215676000000005,
          0.0030354950800000006
         ],
         "yaxis": "y"
        },
        {
         "fill": "toself",
         "fillcolor": "rgba(252,180,48,.3)",
         "hoverinfo": "skip",
         "legendgroup": "4",
         "line": {
          "color": "rgba(255,255,255,0)"
         },
         "showlegend": false,
         "type": "scatter",
         "x": [
          0,
          1,
          10,
          100,
          1000,
          10000,
          10000,
          1000,
          100,
          10,
          1,
          0
         ],
         "xaxis": "x",
         "y": [
          0.002745239099501554,
          0.002711606458662529,
          0.0029024801868925945,
          0.0027636224764250707,
          0.002813266485271278,
          0.0030696065982523273,
          0.002989116401747673,
          0.002756019034728721,
          0.0027000243435749303,
          0.002847230333107404,
          0.002653739581337468,
          0.0026695036604984447
         ],
         "yaxis": "y"
        },
        {
         "hovertemplate": "num_threads=4<br>num_ifs=%{x}<br>mean=%{y}<extra></extra>",
         "legendgroup": "4",
         "line": {
          "color": "#fcb430",
          "dash": "solid"
         },
         "marker": {
          "symbol": "circle"
         },
         "mode": "lines",
         "name": "4",
         "orientation": "v",
         "showlegend": true,
         "type": "scatter",
         "x": [
          0,
          1,
          10,
          100,
          1000,
          10000
         ],
         "xaxis": "x",
         "y": [
          0.0027073713799999994,
          0.0026826730199999986,
          0.0028748552599999993,
          0.0027318234100000005,
          0.0027846427599999995,
          0.0030293615
         ],
         "yaxis": "y"
        },
        {
         "fill": "toself",
         "fillcolor": "rgba(248,150,64,.3)",
         "hoverinfo": "skip",
         "legendgroup": "8",
         "line": {
          "color": "rgba(255,255,255,0)"
         },
         "showlegend": false,
         "type": "scatter",
         "x": [
          0,
          1,
          10,
          100,
          1000,
          10000,
          10000,
          1000,
          100,
          10,
          1,
          0
         ],
         "xaxis": "x",
         "y": [
          0.002804545690286228,
          0.0028804456562841513,
          0.0028167252754392733,
          0.0028232304616226246,
          0.002786671909659052,
          0.0029963760486290147,
          0.002937970131370988,
          0.0027199043903409492,
          0.0027381352383773756,
          0.0027376978445607237,
          0.0028182017437158482,
          0.0027381291297137707
         ],
         "yaxis": "y"
        },
        {
         "hovertemplate": "num_threads=8<br>num_ifs=%{x}<br>mean=%{y}<extra></extra>",
         "legendgroup": "8",
         "line": {
          "color": "#f89640",
          "dash": "solid"
         },
         "marker": {
          "symbol": "circle"
         },
         "mode": "lines",
         "name": "8",
         "orientation": "v",
         "showlegend": true,
         "type": "scatter",
         "x": [
          0,
          1,
          10,
          100,
          1000,
          10000
         ],
         "xaxis": "x",
         "y": [
          0.0027713374099999992,
          0.0028493236999999998,
          0.0027772115599999985,
          0.00278068285,
          0.0027532881500000007,
          0.0029671730900000014
         ],
         "yaxis": "y"
        },
        {
         "fill": "toself",
         "fillcolor": "rgba(237,121,83,.3)",
         "hoverinfo": "skip",
         "legendgroup": "16",
         "line": {
          "color": "rgba(255,255,255,0)"
         },
         "showlegend": false,
         "type": "scatter",
         "x": [
          0,
          1,
          10,
          100,
          1000,
          10000,
          10000,
          1000,
          100,
          10,
          1,
          0
         ],
         "xaxis": "x",
         "y": [
          0.003058119819769868,
          0.0030568380503217217,
          0.00305321178037448,
          0.003231518750283863,
          0.003055507057441905,
          0.003170908565666174,
          0.0031048224343338256,
          0.0029747123225580953,
          0.0031447828097161392,
          0.0029721054996255246,
          0.0029760739696782805,
          0.0029754921002301303
         ],
         "yaxis": "y"
        },
        {
         "hovertemplate": "num_threads=16<br>num_ifs=%{x}<br>mean=%{y}<extra></extra>",
         "legendgroup": "16",
         "line": {
          "color": "#ed7953",
          "dash": "solid"
         },
         "marker": {
          "symbol": "circle"
         },
         "mode": "lines",
         "name": "16",
         "orientation": "v",
         "showlegend": true,
         "type": "scatter",
         "x": [
          0,
          1,
          10,
          100,
          1000,
          10000
         ],
         "xaxis": "x",
         "y": [
          0.003016805959999999,
          0.003016456010000001,
          0.0030126586400000023,
          0.003188150780000001,
          0.00301510969,
          0.0031378655
         ],
         "yaxis": "y"
        },
        {
         "fill": "toself",
         "fillcolor": "rgba(221,95,101,.3)",
         "hoverinfo": "skip",
         "legendgroup": "32",
         "line": {
          "color": "rgba(255,255,255,0)"
         },
         "showlegend": false,
         "type": "scatter",
         "x": [
          0,
          1,
          10,
          100,
          1000,
          10000,
          10000,
          1000,
          100,
          10,
          1,
          0
         ],
         "xaxis": "x",
         "y": [
          0.0032717363105158395,
          0.0034083054804410822,
          0.003460525284953598,
          0.0034670923498875544,
          0.003328843590932019,
          0.00333819460674349,
          0.0032426305332565095,
          0.0032554681890679766,
          0.003372774890112444,
          0.0033890426950464016,
          0.0033185362395589165,
          0.0031984711694841633
         ],
         "yaxis": "y"
        },
        {
         "hovertemplate": "num_threads=32<br>num_ifs=%{x}<br>mean=%{y}<extra></extra>",
         "legendgroup": "32",
         "line": {
          "color": "#dd5f65",
          "dash": "solid"
         },
         "marker": {
          "symbol": "circle"
         },
         "mode": "lines",
         "name": "32",
         "orientation": "v",
         "showlegend": true,
         "type": "scatter",
         "x": [
          0,
          1,
          10,
          100,
          1000,
          10000
         ],
         "xaxis": "x",
         "y": [
          0.0032351037400000014,
          0.0033634208599999994,
          0.0034247839899999998,
          0.0034199336199999993,
          0.003292155889999998,
          0.00329041257
         ],
         "yaxis": "y"
        },
        {
         "fill": "toself",
         "fillcolor": "rgba(203,71,120,.3)",
         "hoverinfo": "skip",
         "legendgroup": "64",
         "line": {
          "color": "rgba(255,255,255,0)"
         },
         "showlegend": false,
         "type": "scatter",
         "x": [
          0,
          1,
          10,
          100,
          1000,
          10000,
          10000,
          1000,
          100,
          10,
          1,
          0
         ],
         "xaxis": "x",
         "y": [
          0.00376542667644174,
          0.004253375004598755,
          0.003909026558236199,
          0.003985222988881975,
          0.00386450996832223,
          0.003948006129477865,
          0.0038341716505221326,
          0.0037957772116777692,
          0.003875866351118024,
          0.003822578321763804,
          0.004133041735401241,
          0.0036735103235582623
         ],
         "yaxis": "y"
        },
        {
         "hovertemplate": "num_threads=64<br>num_ifs=%{x}<br>mean=%{y}<extra></extra>",
         "legendgroup": "64",
         "line": {
          "color": "#cb4778",
          "dash": "solid"
         },
         "marker": {
          "symbol": "circle"
         },
         "mode": "lines",
         "name": "64",
         "orientation": "v",
         "showlegend": true,
         "type": "scatter",
         "x": [
          0,
          1,
          10,
          100,
          1000,
          10000
         ],
         "xaxis": "x",
         "y": [
          0.003719468500000001,
          0.004193208369999998,
          0.0038658024400000015,
          0.003930544669999999,
          0.0038301435899999996,
          0.0038910888899999986
         ],
         "yaxis": "y"
        },
        {
         "fill": "toself",
         "fillcolor": "rgba(181,47,140,.3)",
         "hoverinfo": "skip",
         "legendgroup": "128",
         "line": {
          "color": "rgba(255,255,255,0)"
         },
         "showlegend": false,
         "type": "scatter",
         "x": [
          0,
          1,
          10,
          100,
          1000,
          10000,
          10000,
          1000,
          100,
          10,
          1,
          0
         ],
         "xaxis": "x",
         "y": [
          0.004865848562173565,
          0.005123112372534425,
          0.004970085954018695,
          0.005087893931775209,
          0.0050884148683831565,
          0.005112848300470453,
          0.005014779719529543,
          0.004990001291616843,
          0.0049855426682247905,
          0.004845688145981304,
          0.005021576547465582,
          0.004771602637826432
         ],
         "yaxis": "y"
        },
        {
         "hovertemplate": "num_threads=128<br>num_ifs=%{x}<br>mean=%{y}<extra></extra>",
         "legendgroup": "128",
         "line": {
          "color": "#b52f8c",
          "dash": "solid"
         },
         "marker": {
          "symbol": "circle"
         },
         "mode": "lines",
         "name": "128",
         "orientation": "v",
         "showlegend": true,
         "type": "scatter",
         "x": [
          0,
          1,
          10,
          100,
          1000,
          10000
         ],
         "xaxis": "x",
         "y": [
          0.004818725599999999,
          0.005072344460000004,
          0.0049078870499999995,
          0.0050367183,
          0.0050392080799999996,
          0.005063814009999998
         ],
         "yaxis": "y"
        },
        {
         "fill": "toself",
         "fillcolor": "rgba(156,23,158,.3)",
         "hoverinfo": "skip",
         "legendgroup": "256",
         "line": {
          "color": "rgba(255,255,255,0)"
         },
         "showlegend": false,
         "type": "scatter",
         "x": [
          0,
          1,
          10,
          100,
          1000,
          10000,
          10000,
          1000,
          100,
          10,
          1,
          0
         ],
         "xaxis": "x",
         "y": [
          0.007512565936529924,
          0.007607551061189685,
          0.007594650364175219,
          0.007640185916775433,
          0.007386126296295538,
          0.0072522990326600225,
          0.0071344434473399835,
          0.007288050823704461,
          0.007468402403224565,
          0.007450235155824783,
          0.0074476459788103055,
          0.007378596283470073
         ],
         "yaxis": "y"
        },
        {
         "hovertemplate": "num_threads=256<br>num_ifs=%{x}<br>mean=%{y}<extra></extra>",
         "legendgroup": "256",
         "line": {
          "color": "#9c179e",
          "dash": "solid"
         },
         "marker": {
          "symbol": "circle"
         },
         "mode": "lines",
         "name": "256",
         "orientation": "v",
         "showlegend": true,
         "type": "scatter",
         "x": [
          0,
          1,
          10,
          100,
          1000,
          10000
         ],
         "xaxis": "x",
         "y": [
          0.007445581109999998,
          0.007527598519999995,
          0.007522442760000001,
          0.007554294159999999,
          0.00733708856,
          0.007193371240000003
         ],
         "yaxis": "y"
        },
        {
         "fill": "toself",
         "fillcolor": "rgba(124,6,166,.3)",
         "hoverinfo": "skip",
         "legendgroup": "512",
         "line": {
          "color": "rgba(255,255,255,0)"
         },
         "showlegend": false,
         "type": "scatter",
         "x": [
          0,
          1,
          10,
          100,
          1000,
          10000,
          10000,
          1000,
          100,
          10,
          1,
          0
         ],
         "xaxis": "x",
         "y": [
          0.012260898056073777,
          0.012517154966379779,
          0.012692479957257813,
          0.012352177485616109,
          0.012223003391293535,
          0.012193657621914744,
          0.011998495158085263,
          0.012052024668706474,
          0.012134978214383897,
          0.012468194322742187,
          0.012285856253620235,
          0.012039237443926227
         ],
         "yaxis": "y"
        },
        {
         "hovertemplate": "num_threads=512<br>num_ifs=%{x}<br>mean=%{y}<extra></extra>",
         "legendgroup": "512",
         "line": {
          "color": "#7c06a6",
          "dash": "solid"
         },
         "marker": {
          "symbol": "circle"
         },
         "mode": "lines",
         "name": "512",
         "orientation": "v",
         "showlegend": true,
         "type": "scatter",
         "x": [
          0,
          1,
          10,
          100,
          1000,
          10000
         ],
         "xaxis": "x",
         "y": [
          0.012150067750000002,
          0.012401505610000007,
          0.01258033714,
          0.012243577850000003,
          0.012137514030000005,
          0.012096076390000004
         ],
         "yaxis": "y"
        },
        {
         "fill": "toself",
         "fillcolor": "rgba(92,2,163,.3)",
         "hoverinfo": "skip",
         "legendgroup": "1024",
         "line": {
          "color": "rgba(255,255,255,0)"
         },
         "showlegend": false,
         "type": "scatter",
         "x": [
          0,
          1,
          10,
          100,
          1000,
          10000,
          10000,
          1000,
          100,
          10,
          1,
          0
         ],
         "xaxis": "x",
         "y": [
          0.025570662308025505,
          0.02594375925353372,
          0.02636754726645409,
          0.025302314343197914,
          0.02490949583993923,
          0.025565637203773663,
          0.02501080883622631,
          0.024347655120060766,
          0.024788918696802095,
          0.025622093993545907,
          0.02529439064646627,
          0.025041243431974506
         ],
         "yaxis": "y"
        },
        {
         "hovertemplate": "num_threads=1024<br>num_ifs=%{x}<br>mean=%{y}<extra></extra>",
         "legendgroup": "1024",
         "line": {
          "color": "#5c02a3",
          "dash": "solid"
         },
         "marker": {
          "symbol": "circle"
         },
         "mode": "lines",
         "name": "1024",
         "orientation": "v",
         "showlegend": true,
         "type": "scatter",
         "x": [
          0,
          1,
          10,
          100,
          1000,
          10000
         ],
         "xaxis": "x",
         "y": [
          0.025305952870000006,
          0.025619074949999994,
          0.02599482063,
          0.025045616520000005,
          0.024628575479999998,
          0.025288223019999986
         ],
         "yaxis": "y"
        },
        {
         "fill": "toself",
         "fillcolor": "rgba(56,4,153,.3)",
         "hoverinfo": "skip",
         "legendgroup": "2048",
         "line": {
          "color": "rgba(255,255,255,0)"
         },
         "showlegend": false,
         "type": "scatter",
         "x": [
          0,
          1,
          10,
          100,
          1000,
          10000,
          10000,
          1000,
          100,
          10,
          1,
          0
         ],
         "xaxis": "x",
         "y": [
          0.061349488914175576,
          0.06232008994894716,
          0.062354437393457494,
          0.062120764383496084,
          0.06015749233905874,
          0.06029250543135241,
          0.05915165208864753,
          0.05894699246094132,
          0.06057456199650397,
          0.06103131572654249,
          0.06058544257105281,
          0.05974232632582442
         ],
         "yaxis": "y"
        },
        {
         "hovertemplate": "num_threads=2048<br>num_ifs=%{x}<br>mean=%{y}<extra></extra>",
         "legendgroup": "2048",
         "line": {
          "color": "#380499",
          "dash": "solid"
         },
         "marker": {
          "symbol": "circle"
         },
         "mode": "lines",
         "name": "2048",
         "orientation": "v",
         "showlegend": true,
         "type": "scatter",
         "x": [
          0,
          1,
          10,
          100,
          1000,
          10000
         ],
         "xaxis": "x",
         "y": [
          0.06054590762,
          0.061452766259999986,
          0.06169287655999999,
          0.061347663190000026,
          0.05955224240000003,
          0.05972207875999997
         ],
         "yaxis": "y"
        },
        {
         "fill": "toself",
         "fillcolor": "rgba(13,8,135,.3)",
         "hoverinfo": "skip",
         "legendgroup": "4096",
         "line": {
          "color": "rgba(255,255,255,0)"
         },
         "showlegend": false,
         "type": "scatter",
         "x": [
          0,
          1,
          10,
          100,
          1000,
          10000,
          10000,
          1000,
          100,
          10,
          1,
          0
         ],
         "xaxis": "x",
         "y": [
          0.19381215981448938,
          0.19388615501585607,
          0.1944674533848711,
          0.19504765137355573,
          0.19473927997047172,
          0.19315706119016743,
          0.19116517668983243,
          0.19166851482952832,
          0.1924868948664441,
          0.1923037279951289,
          0.191418798004144,
          0.19121115430551058
         ],
         "yaxis": "y"
        },
        {
         "hovertemplate": "num_threads=4096<br>num_ifs=%{x}<br>mean=%{y}<extra></extra>",
         "legendgroup": "4096",
         "line": {
          "color": "#0d0887",
          "dash": "solid"
         },
         "marker": {
          "symbol": "circle"
         },
         "mode": "lines",
         "name": "4096",
         "orientation": "v",
         "showlegend": true,
         "type": "scatter",
         "x": [
          0,
          1,
          10,
          100,
          1000,
          10000
         ],
         "xaxis": "x",
         "y": [
          0.19251165705999998,
          0.19265247651000003,
          0.19338559069,
          0.19376727311999992,
          0.19320389740000002,
          0.19216111893999993
         ],
         "yaxis": "y"
        }
       ],
       "layout": {
        "legend": {
         "title": {
          "text": "num_threads"
         },
         "tracegroupgap": 0
        },
        "margin": {
         "b": 0,
         "l": 0,
         "r": 120,
         "t": 50
        },
        "template": {
         "data": {
          "bar": [
           {
            "error_x": {
             "color": "#2a3f5f"
            },
            "error_y": {
             "color": "#2a3f5f"
            },
            "marker": {
             "line": {
              "color": "#E5ECF6",
              "width": 0.5
             },
             "pattern": {
              "fillmode": "overlay",
              "size": 10,
              "solidity": 0.2
             }
            },
            "type": "bar"
           }
          ],
          "barpolar": [
           {
            "marker": {
             "line": {
              "color": "#E5ECF6",
              "width": 0.5
             },
             "pattern": {
              "fillmode": "overlay",
              "size": 10,
              "solidity": 0.2
             }
            },
            "type": "barpolar"
           }
          ],
          "carpet": [
           {
            "aaxis": {
             "endlinecolor": "#2a3f5f",
             "gridcolor": "white",
             "linecolor": "white",
             "minorgridcolor": "white",
             "startlinecolor": "#2a3f5f"
            },
            "baxis": {
             "endlinecolor": "#2a3f5f",
             "gridcolor": "white",
             "linecolor": "white",
             "minorgridcolor": "white",
             "startlinecolor": "#2a3f5f"
            },
            "type": "carpet"
           }
          ],
          "choropleth": [
           {
            "colorbar": {
             "outlinewidth": 0,
             "ticks": ""
            },
            "type": "choropleth"
           }
          ],
          "contour": [
           {
            "colorbar": {
             "outlinewidth": 0,
             "ticks": ""
            },
            "colorscale": [
             [
              0,
              "#0d0887"
             ],
             [
              0.1111111111111111,
              "#46039f"
             ],
             [
              0.2222222222222222,
              "#7201a8"
             ],
             [
              0.3333333333333333,
              "#9c179e"
             ],
             [
              0.4444444444444444,
              "#bd3786"
             ],
             [
              0.5555555555555556,
              "#d8576b"
             ],
             [
              0.6666666666666666,
              "#ed7953"
             ],
             [
              0.7777777777777778,
              "#fb9f3a"
             ],
             [
              0.8888888888888888,
              "#fdca26"
             ],
             [
              1,
              "#f0f921"
             ]
            ],
            "type": "contour"
           }
          ],
          "contourcarpet": [
           {
            "colorbar": {
             "outlinewidth": 0,
             "ticks": ""
            },
            "type": "contourcarpet"
           }
          ],
          "heatmap": [
           {
            "colorbar": {
             "outlinewidth": 0,
             "ticks": ""
            },
            "colorscale": [
             [
              0,
              "#0d0887"
             ],
             [
              0.1111111111111111,
              "#46039f"
             ],
             [
              0.2222222222222222,
              "#7201a8"
             ],
             [
              0.3333333333333333,
              "#9c179e"
             ],
             [
              0.4444444444444444,
              "#bd3786"
             ],
             [
              0.5555555555555556,
              "#d8576b"
             ],
             [
              0.6666666666666666,
              "#ed7953"
             ],
             [
              0.7777777777777778,
              "#fb9f3a"
             ],
             [
              0.8888888888888888,
              "#fdca26"
             ],
             [
              1,
              "#f0f921"
             ]
            ],
            "type": "heatmap"
           }
          ],
          "heatmapgl": [
           {
            "colorbar": {
             "outlinewidth": 0,
             "ticks": ""
            },
            "colorscale": [
             [
              0,
              "#0d0887"
             ],
             [
              0.1111111111111111,
              "#46039f"
             ],
             [
              0.2222222222222222,
              "#7201a8"
             ],
             [
              0.3333333333333333,
              "#9c179e"
             ],
             [
              0.4444444444444444,
              "#bd3786"
             ],
             [
              0.5555555555555556,
              "#d8576b"
             ],
             [
              0.6666666666666666,
              "#ed7953"
             ],
             [
              0.7777777777777778,
              "#fb9f3a"
             ],
             [
              0.8888888888888888,
              "#fdca26"
             ],
             [
              1,
              "#f0f921"
             ]
            ],
            "type": "heatmapgl"
           }
          ],
          "histogram": [
           {
            "marker": {
             "pattern": {
              "fillmode": "overlay",
              "size": 10,
              "solidity": 0.2
             }
            },
            "type": "histogram"
           }
          ],
          "histogram2d": [
           {
            "colorbar": {
             "outlinewidth": 0,
             "ticks": ""
            },
            "colorscale": [
             [
              0,
              "#0d0887"
             ],
             [
              0.1111111111111111,
              "#46039f"
             ],
             [
              0.2222222222222222,
              "#7201a8"
             ],
             [
              0.3333333333333333,
              "#9c179e"
             ],
             [
              0.4444444444444444,
              "#bd3786"
             ],
             [
              0.5555555555555556,
              "#d8576b"
             ],
             [
              0.6666666666666666,
              "#ed7953"
             ],
             [
              0.7777777777777778,
              "#fb9f3a"
             ],
             [
              0.8888888888888888,
              "#fdca26"
             ],
             [
              1,
              "#f0f921"
             ]
            ],
            "type": "histogram2d"
           }
          ],
          "histogram2dcontour": [
           {
            "colorbar": {
             "outlinewidth": 0,
             "ticks": ""
            },
            "colorscale": [
             [
              0,
              "#0d0887"
             ],
             [
              0.1111111111111111,
              "#46039f"
             ],
             [
              0.2222222222222222,
              "#7201a8"
             ],
             [
              0.3333333333333333,
              "#9c179e"
             ],
             [
              0.4444444444444444,
              "#bd3786"
             ],
             [
              0.5555555555555556,
              "#d8576b"
             ],
             [
              0.6666666666666666,
              "#ed7953"
             ],
             [
              0.7777777777777778,
              "#fb9f3a"
             ],
             [
              0.8888888888888888,
              "#fdca26"
             ],
             [
              1,
              "#f0f921"
             ]
            ],
            "type": "histogram2dcontour"
           }
          ],
          "mesh3d": [
           {
            "colorbar": {
             "outlinewidth": 0,
             "ticks": ""
            },
            "type": "mesh3d"
           }
          ],
          "parcoords": [
           {
            "line": {
             "colorbar": {
              "outlinewidth": 0,
              "ticks": ""
             }
            },
            "type": "parcoords"
           }
          ],
          "pie": [
           {
            "automargin": true,
            "type": "pie"
           }
          ],
          "scatter": [
           {
            "fillpattern": {
             "fillmode": "overlay",
             "size": 10,
             "solidity": 0.2
            },
            "type": "scatter"
           }
          ],
          "scatter3d": [
           {
            "line": {
             "colorbar": {
              "outlinewidth": 0,
              "ticks": ""
             }
            },
            "marker": {
             "colorbar": {
              "outlinewidth": 0,
              "ticks": ""
             }
            },
            "type": "scatter3d"
           }
          ],
          "scattercarpet": [
           {
            "marker": {
             "colorbar": {
              "outlinewidth": 0,
              "ticks": ""
             }
            },
            "type": "scattercarpet"
           }
          ],
          "scattergeo": [
           {
            "marker": {
             "colorbar": {
              "outlinewidth": 0,
              "ticks": ""
             }
            },
            "type": "scattergeo"
           }
          ],
          "scattergl": [
           {
            "marker": {
             "colorbar": {
              "outlinewidth": 0,
              "ticks": ""
             }
            },
            "type": "scattergl"
           }
          ],
          "scattermapbox": [
           {
            "marker": {
             "colorbar": {
              "outlinewidth": 0,
              "ticks": ""
             }
            },
            "type": "scattermapbox"
           }
          ],
          "scatterpolar": [
           {
            "marker": {
             "colorbar": {
              "outlinewidth": 0,
              "ticks": ""
             }
            },
            "type": "scatterpolar"
           }
          ],
          "scatterpolargl": [
           {
            "marker": {
             "colorbar": {
              "outlinewidth": 0,
              "ticks": ""
             }
            },
            "type": "scatterpolargl"
           }
          ],
          "scatterternary": [
           {
            "marker": {
             "colorbar": {
              "outlinewidth": 0,
              "ticks": ""
             }
            },
            "type": "scatterternary"
           }
          ],
          "surface": [
           {
            "colorbar": {
             "outlinewidth": 0,
             "ticks": ""
            },
            "colorscale": [
             [
              0,
              "#0d0887"
             ],
             [
              0.1111111111111111,
              "#46039f"
             ],
             [
              0.2222222222222222,
              "#7201a8"
             ],
             [
              0.3333333333333333,
              "#9c179e"
             ],
             [
              0.4444444444444444,
              "#bd3786"
             ],
             [
              0.5555555555555556,
              "#d8576b"
             ],
             [
              0.6666666666666666,
              "#ed7953"
             ],
             [
              0.7777777777777778,
              "#fb9f3a"
             ],
             [
              0.8888888888888888,
              "#fdca26"
             ],
             [
              1,
              "#f0f921"
             ]
            ],
            "type": "surface"
           }
          ],
          "table": [
           {
            "cells": {
             "fill": {
              "color": "#EBF0F8"
             },
             "line": {
              "color": "white"
             }
            },
            "header": {
             "fill": {
              "color": "#C8D4E3"
             },
             "line": {
              "color": "white"
             }
            },
            "type": "table"
           }
          ]
         },
         "layout": {
          "annotationdefaults": {
           "arrowcolor": "#2a3f5f",
           "arrowhead": 0,
           "arrowwidth": 1
          },
          "autotypenumbers": "strict",
          "coloraxis": {
           "colorbar": {
            "outlinewidth": 0,
            "ticks": ""
           }
          },
          "colorscale": {
           "diverging": [
            [
             0,
             "#8e0152"
            ],
            [
             0.1,
             "#c51b7d"
            ],
            [
             0.2,
             "#de77ae"
            ],
            [
             0.3,
             "#f1b6da"
            ],
            [
             0.4,
             "#fde0ef"
            ],
            [
             0.5,
             "#f7f7f7"
            ],
            [
             0.6,
             "#e6f5d0"
            ],
            [
             0.7,
             "#b8e186"
            ],
            [
             0.8,
             "#7fbc41"
            ],
            [
             0.9,
             "#4d9221"
            ],
            [
             1,
             "#276419"
            ]
           ],
           "sequential": [
            [
             0,
             "#0d0887"
            ],
            [
             0.1111111111111111,
             "#46039f"
            ],
            [
             0.2222222222222222,
             "#7201a8"
            ],
            [
             0.3333333333333333,
             "#9c179e"
            ],
            [
             0.4444444444444444,
             "#bd3786"
            ],
            [
             0.5555555555555556,
             "#d8576b"
            ],
            [
             0.6666666666666666,
             "#ed7953"
            ],
            [
             0.7777777777777778,
             "#fb9f3a"
            ],
            [
             0.8888888888888888,
             "#fdca26"
            ],
            [
             1,
             "#f0f921"
            ]
           ],
           "sequentialminus": [
            [
             0,
             "#0d0887"
            ],
            [
             0.1111111111111111,
             "#46039f"
            ],
            [
             0.2222222222222222,
             "#7201a8"
            ],
            [
             0.3333333333333333,
             "#9c179e"
            ],
            [
             0.4444444444444444,
             "#bd3786"
            ],
            [
             0.5555555555555556,
             "#d8576b"
            ],
            [
             0.6666666666666666,
             "#ed7953"
            ],
            [
             0.7777777777777778,
             "#fb9f3a"
            ],
            [
             0.8888888888888888,
             "#fdca26"
            ],
            [
             1,
             "#f0f921"
            ]
           ]
          },
          "colorway": [
           "#636efa",
           "#EF553B",
           "#00cc96",
           "#ab63fa",
           "#FFA15A",
           "#19d3f3",
           "#FF6692",
           "#B6E880",
           "#FF97FF",
           "#FECB52"
          ],
          "font": {
           "color": "#2a3f5f"
          },
          "geo": {
           "bgcolor": "white",
           "lakecolor": "white",
           "landcolor": "#E5ECF6",
           "showlakes": true,
           "showland": true,
           "subunitcolor": "white"
          },
          "hoverlabel": {
           "align": "left"
          },
          "hovermode": "closest",
          "mapbox": {
           "style": "light"
          },
          "paper_bgcolor": "white",
          "plot_bgcolor": "#E5ECF6",
          "polar": {
           "angularaxis": {
            "gridcolor": "white",
            "linecolor": "white",
            "ticks": ""
           },
           "bgcolor": "#E5ECF6",
           "radialaxis": {
            "gridcolor": "white",
            "linecolor": "white",
            "ticks": ""
           }
          },
          "scene": {
           "xaxis": {
            "backgroundcolor": "#E5ECF6",
            "gridcolor": "white",
            "gridwidth": 2,
            "linecolor": "white",
            "showbackground": true,
            "ticks": "",
            "zerolinecolor": "white"
           },
           "yaxis": {
            "backgroundcolor": "#E5ECF6",
            "gridcolor": "white",
            "gridwidth": 2,
            "linecolor": "white",
            "showbackground": true,
            "ticks": "",
            "zerolinecolor": "white"
           },
           "zaxis": {
            "backgroundcolor": "#E5ECF6",
            "gridcolor": "white",
            "gridwidth": 2,
            "linecolor": "white",
            "showbackground": true,
            "ticks": "",
            "zerolinecolor": "white"
           }
          },
          "shapedefaults": {
           "line": {
            "color": "#2a3f5f"
           }
          },
          "ternary": {
           "aaxis": {
            "gridcolor": "white",
            "linecolor": "white",
            "ticks": ""
           },
           "baxis": {
            "gridcolor": "white",
            "linecolor": "white",
            "ticks": ""
           },
           "bgcolor": "#E5ECF6",
           "caxis": {
            "gridcolor": "white",
            "linecolor": "white",
            "ticks": ""
           }
          },
          "title": {
           "x": 0.05
          },
          "xaxis": {
           "automargin": true,
           "gridcolor": "white",
           "linecolor": "white",
           "ticks": "",
           "title": {
            "standoff": 15
           },
           "zerolinecolor": "white",
           "zerolinewidth": 2
          },
          "yaxis": {
           "automargin": true,
           "gridcolor": "white",
           "linecolor": "white",
           "ticks": "",
           "title": {
            "standoff": 15
           },
           "zerolinecolor": "white",
           "zerolinewidth": 2
          }
         }
        },
        "title": {
         "text": "Array size = 1"
        },
        "xaxis": {
         "anchor": "y",
         "domain": [
          0,
          1
         ],
         "title": {
          "text": "num_ifs"
         },
         "type": "category"
        },
        "yaxis": {
         "anchor": "x",
         "domain": [
          0,
          1
         ],
         "title": {
          "text": "mean"
         },
         "type": "log"
        }
       }
      }
     },
     "metadata": {},
     "output_type": "display_data"
    },
    {
     "data": {
      "application/vnd.plotly.v1+json": {
       "config": {
        "plotlyServerURL": "https://plot.ly"
       },
       "data": [
        {
         "fill": "toself",
         "fillcolor": "rgba(240,249,33,.3)",
         "hoverinfo": "skip",
         "legendgroup": "1",
         "line": {
          "color": "rgba(255,255,255,0)"
         },
         "showlegend": false,
         "type": "scatter",
         "x": [
          0,
          1,
          10,
          100,
          1000,
          10000,
          10000,
          1000,
          100,
          10,
          1,
          0
         ],
         "xaxis": "x",
         "y": [
          0.002756645934413663,
          0.00268287882754545,
          0.0017612953632510173,
          0.002698944958773274,
          0.0027619125851345914,
          0.0031209485818020012,
          0.0030263004381980018,
          0.0027052899948654106,
          0.002628766921226724,
          0.001683842716748984,
          0.0026102506524545497,
          0.00267425822558634
         ],
         "yaxis": "y"
        },
        {
         "hovertemplate": "num_threads=1<br>num_ifs=%{x}<br>mean=%{y}<extra></extra>",
         "legendgroup": "1",
         "line": {
          "color": "#f0f921",
          "dash": "solid"
         },
         "marker": {
          "symbol": "circle"
         },
         "mode": "lines",
         "name": "1",
         "orientation": "v",
         "showlegend": true,
         "type": "scatter",
         "x": [
          0,
          1,
          10,
          100,
          1000,
          10000
         ],
         "xaxis": "x",
         "y": [
          0.0027154520800000016,
          0.0026465647399999998,
          0.0017225690400000007,
          0.002663855939999999,
          0.002733601290000001,
          0.0030736245100000015
         ],
         "yaxis": "y"
        },
        {
         "fill": "toself",
         "fillcolor": "rgba(250,214,37,.3)",
         "hoverinfo": "skip",
         "legendgroup": "2",
         "line": {
          "color": "rgba(255,255,255,0)"
         },
         "showlegend": false,
         "type": "scatter",
         "x": [
          0,
          1,
          10,
          100,
          1000,
          10000,
          10000,
          1000,
          100,
          10,
          1,
          0
         ],
         "xaxis": "x",
         "y": [
          0.001994031035214449,
          0.002742024779479217,
          0.002742414571286497,
          0.002780119487540533,
          0.002805816794890424,
          0.0030926960576362203,
          0.002986061882363779,
          0.0027400089651095773,
          0.0026918220724594702,
          0.0026784749487135033,
          0.0026667419205207827,
          0.0019379461047855512
         ],
         "yaxis": "y"
        },
        {
         "hovertemplate": "num_threads=2<br>num_ifs=%{x}<br>mean=%{y}<extra></extra>",
         "legendgroup": "2",
         "line": {
          "color": "#fad625",
          "dash": "solid"
         },
         "marker": {
          "symbol": "circle"
         },
         "mode": "lines",
         "name": "2",
         "orientation": "v",
         "showlegend": true,
         "type": "scatter",
         "x": [
          0,
          1,
          10,
          100,
          1000,
          10000
         ],
         "xaxis": "x",
         "y": [
          0.00196598857,
          0.0027043833499999998,
          0.0027104447600000002,
          0.0027359707800000015,
          0.0027729128800000006,
          0.0030393789699999997
         ],
         "yaxis": "y"
        },
        {
         "fill": "toself",
         "fillcolor": "rgba(252,180,48,.3)",
         "hoverinfo": "skip",
         "legendgroup": "4",
         "line": {
          "color": "rgba(255,255,255,0)"
         },
         "showlegend": false,
         "type": "scatter",
         "x": [
          0,
          1,
          10,
          100,
          1000,
          10000,
          10000,
          1000,
          100,
          10,
          1,
          0
         ],
         "xaxis": "x",
         "y": [
          0.0028475158184274613,
          0.0019580037590161987,
          0.002762434679855268,
          0.0028309458514451024,
          0.002830180368740999,
          0.003140122588924392,
          0.003073490551075611,
          0.002774762711259002,
          0.002754453808554898,
          0.002697282800144735,
          0.0018848378009838004,
          0.0026870840615725398
         ],
         "yaxis": "y"
        },
        {
         "hovertemplate": "num_threads=4<br>num_ifs=%{x}<br>mean=%{y}<extra></extra>",
         "legendgroup": "4",
         "line": {
          "color": "#fcb430",
          "dash": "solid"
         },
         "marker": {
          "symbol": "circle"
         },
         "mode": "lines",
         "name": "4",
         "orientation": "v",
         "showlegend": true,
         "type": "scatter",
         "x": [
          0,
          1,
          10,
          100,
          1000,
          10000
         ],
         "xaxis": "x",
         "y": [
          0.0027672999400000006,
          0.0019214207799999996,
          0.0027298587400000013,
          0.00279269983,
          0.0028024715400000004,
          0.0031068065700000013
         ],
         "yaxis": "y"
        },
        {
         "fill": "toself",
         "fillcolor": "rgba(248,150,64,.3)",
         "hoverinfo": "skip",
         "legendgroup": "8",
         "line": {
          "color": "rgba(255,255,255,0)"
         },
         "showlegend": false,
         "type": "scatter",
         "x": [
          0,
          1,
          10,
          100,
          1000,
          10000,
          10000,
          1000,
          100,
          10,
          1,
          0
         ],
         "xaxis": "x",
         "y": [
          0.0027291332508676655,
          0.002783215132698638,
          0.00280663120951914,
          0.0027591418406374703,
          0.002886047693808457,
          0.0032189226302523914,
          0.0031455258497476084,
          0.002804033186191544,
          0.0026779269593625297,
          0.00273999083048086,
          0.0027007139073013603,
          0.0026748078291323365
         ],
         "yaxis": "y"
        },
        {
         "hovertemplate": "num_threads=8<br>num_ifs=%{x}<br>mean=%{y}<extra></extra>",
         "legendgroup": "8",
         "line": {
          "color": "#f89640",
          "dash": "solid"
         },
         "marker": {
          "symbol": "circle"
         },
         "mode": "lines",
         "name": "8",
         "orientation": "v",
         "showlegend": true,
         "type": "scatter",
         "x": [
          0,
          1,
          10,
          100,
          1000,
          10000
         ],
         "xaxis": "x",
         "y": [
          0.002701970540000001,
          0.002741964519999999,
          0.00277331102,
          0.0027185344,
          0.0028450404400000005,
          0.00318222424
         ],
         "yaxis": "y"
        },
        {
         "fill": "toself",
         "fillcolor": "rgba(237,121,83,.3)",
         "hoverinfo": "skip",
         "legendgroup": "16",
         "line": {
          "color": "rgba(255,255,255,0)"
         },
         "showlegend": false,
         "type": "scatter",
         "x": [
          0,
          1,
          10,
          100,
          1000,
          10000,
          10000,
          1000,
          100,
          10,
          1,
          0
         ],
         "xaxis": "x",
         "y": [
          0.0029235818491176228,
          0.0028809862078632885,
          0.0030021884420824555,
          0.0030088646546014494,
          0.0029722787418211397,
          0.0031713614881899526,
          0.00309089597181005,
          0.002904257598178863,
          0.002930309145398548,
          0.002932143957917545,
          0.002803455032136709,
          0.0028519705908823787
         ],
         "yaxis": "y"
        },
        {
         "hovertemplate": "num_threads=16<br>num_ifs=%{x}<br>mean=%{y}<extra></extra>",
         "legendgroup": "16",
         "line": {
          "color": "#ed7953",
          "dash": "solid"
         },
         "marker": {
          "symbol": "circle"
         },
         "mode": "lines",
         "name": "16",
         "orientation": "v",
         "showlegend": true,
         "type": "scatter",
         "x": [
          0,
          1,
          10,
          100,
          1000,
          10000
         ],
         "xaxis": "x",
         "y": [
          0.0028877762200000007,
          0.0028422206199999987,
          0.0029671662000000003,
          0.0029695868999999988,
          0.0029382681700000014,
          0.0031311287300000014
         ],
         "yaxis": "y"
        },
        {
         "fill": "toself",
         "fillcolor": "rgba(221,95,101,.3)",
         "hoverinfo": "skip",
         "legendgroup": "32",
         "line": {
          "color": "rgba(255,255,255,0)"
         },
         "showlegend": false,
         "type": "scatter",
         "x": [
          0,
          1,
          10,
          100,
          1000,
          10000,
          10000,
          1000,
          100,
          10,
          1,
          0
         ],
         "xaxis": "x",
         "y": [
          0.0031616011205162385,
          0.002405132569686154,
          0.0023694174559966094,
          0.0032300126080957595,
          0.003150215359110466,
          0.003479852018634382,
          0.0034125156213656153,
          0.003096865480889531,
          0.0031615554119042433,
          0.002275845244003391,
          0.0023068085303138437,
          0.0030826788594837595
         ],
         "yaxis": "y"
        },
        {
         "hovertemplate": "num_threads=32<br>num_ifs=%{x}<br>mean=%{y}<extra></extra>",
         "legendgroup": "32",
         "line": {
          "color": "#dd5f65",
          "dash": "solid"
         },
         "marker": {
          "symbol": "circle"
         },
         "mode": "lines",
         "name": "32",
         "orientation": "v",
         "showlegend": true,
         "type": "scatter",
         "x": [
          0,
          1,
          10,
          100,
          1000,
          10000
         ],
         "xaxis": "x",
         "y": [
          0.003122139989999999,
          0.002355970549999999,
          0.0023226313500000003,
          0.0031957840100000014,
          0.0031235404199999985,
          0.0034461838199999987
         ],
         "yaxis": "y"
        },
        {
         "fill": "toself",
         "fillcolor": "rgba(203,71,120,.3)",
         "hoverinfo": "skip",
         "legendgroup": "64",
         "line": {
          "color": "rgba(255,255,255,0)"
         },
         "showlegend": false,
         "type": "scatter",
         "x": [
          0,
          1,
          10,
          100,
          1000,
          10000,
          10000,
          1000,
          100,
          10,
          1,
          0
         ],
         "xaxis": "x",
         "y": [
          0.003706331678609346,
          0.004029355147674011,
          0.003641809801222116,
          0.0037183676601707815,
          0.0036396465783670234,
          0.0039429354996989895,
          0.0038698285003010116,
          0.0035660862416329736,
          0.0036412382798292208,
          0.0035786897187778817,
          0.003953620992325989,
          0.0036147457213906563
         ],
         "yaxis": "y"
        },
        {
         "hovertemplate": "num_threads=64<br>num_ifs=%{x}<br>mean=%{y}<extra></extra>",
         "legendgroup": "64",
         "line": {
          "color": "#cb4778",
          "dash": "solid"
         },
         "marker": {
          "symbol": "circle"
         },
         "mode": "lines",
         "name": "64",
         "orientation": "v",
         "showlegend": true,
         "type": "scatter",
         "x": [
          0,
          1,
          10,
          100,
          1000,
          10000
         ],
         "xaxis": "x",
         "y": [
          0.003660538700000001,
          0.00399148807,
          0.003610249759999999,
          0.003679802970000001,
          0.0036028664099999985,
          0.003906382000000001
         ],
         "yaxis": "y"
        },
        {
         "fill": "toself",
         "fillcolor": "rgba(181,47,140,.3)",
         "hoverinfo": "skip",
         "legendgroup": "128",
         "line": {
          "color": "rgba(255,255,255,0)"
         },
         "showlegend": false,
         "type": "scatter",
         "x": [
          0,
          1,
          10,
          100,
          1000,
          10000,
          10000,
          1000,
          100,
          10,
          1,
          0
         ],
         "xaxis": "x",
         "y": [
          0.004681314335024632,
          0.004670900012366953,
          0.004790615594893079,
          0.004661572711797571,
          0.004667222266296331,
          0.004923160422950615,
          0.004807569637049387,
          0.004581721293703671,
          0.004586184688202428,
          0.004694081625106922,
          0.004600030347633045,
          0.004599270304975362
         ],
         "yaxis": "y"
        },
        {
         "hovertemplate": "num_threads=128<br>num_ifs=%{x}<br>mean=%{y}<extra></extra>",
         "legendgroup": "128",
         "line": {
          "color": "#b52f8c",
          "dash": "solid"
         },
         "marker": {
          "symbol": "circle"
         },
         "mode": "lines",
         "name": "128",
         "orientation": "v",
         "showlegend": true,
         "type": "scatter",
         "x": [
          0,
          1,
          10,
          100,
          1000,
          10000
         ],
         "xaxis": "x",
         "y": [
          0.004640292319999997,
          0.004635465179999999,
          0.0047423486100000006,
          0.0046238786999999995,
          0.004624471780000001,
          0.004865365030000001
         ],
         "yaxis": "y"
        },
        {
         "fill": "toself",
         "fillcolor": "rgba(156,23,158,.3)",
         "hoverinfo": "skip",
         "legendgroup": "256",
         "line": {
          "color": "rgba(255,255,255,0)"
         },
         "showlegend": false,
         "type": "scatter",
         "x": [
          0,
          1,
          10,
          100,
          1000,
          10000,
          10000,
          1000,
          100,
          10,
          1,
          0
         ],
         "xaxis": "x",
         "y": [
          0.007243529215508619,
          0.007031594875420101,
          0.007196672664202448,
          0.007097292190801914,
          0.0069253291262626705,
          0.006924491646797702,
          0.006830604693202298,
          0.00686300163373733,
          0.006986058469198081,
          0.00707023327579755,
          0.006910677844579905,
          0.007101283344491386
         ],
         "yaxis": "y"
        },
        {
         "hovertemplate": "num_threads=256<br>num_ifs=%{x}<br>mean=%{y}<extra></extra>",
         "legendgroup": "256",
         "line": {
          "color": "#9c179e",
          "dash": "solid"
         },
         "marker": {
          "symbol": "circle"
         },
         "mode": "lines",
         "name": "256",
         "orientation": "v",
         "showlegend": true,
         "type": "scatter",
         "x": [
          0,
          1,
          10,
          100,
          1000,
          10000
         ],
         "xaxis": "x",
         "y": [
          0.0071724062800000024,
          0.006971136360000003,
          0.007133452969999999,
          0.007041675329999998,
          0.00689416538,
          0.00687754817
         ],
         "yaxis": "y"
        },
        {
         "fill": "toself",
         "fillcolor": "rgba(124,6,166,.3)",
         "hoverinfo": "skip",
         "legendgroup": "512",
         "line": {
          "color": "rgba(255,255,255,0)"
         },
         "showlegend": false,
         "type": "scatter",
         "x": [
          0,
          1,
          10,
          100,
          1000,
          10000,
          10000,
          1000,
          100,
          10,
          1,
          0
         ],
         "xaxis": "x",
         "y": [
          0.012358594588868958,
          0.011893716069220106,
          0.011752130127901076,
          0.011624849293946662,
          0.011716246443554328,
          0.011819025806857088,
          0.011698842653142898,
          0.011628163916445673,
          0.011473394546053353,
          0.01162769391209893,
          0.011724850110779903,
          0.01213990387113105
         ],
         "yaxis": "y"
        },
        {
         "hovertemplate": "num_threads=512<br>num_ifs=%{x}<br>mean=%{y}<extra></extra>",
         "legendgroup": "512",
         "line": {
          "color": "#7c06a6",
          "dash": "solid"
         },
         "marker": {
          "symbol": "circle"
         },
         "mode": "lines",
         "name": "512",
         "orientation": "v",
         "showlegend": true,
         "type": "scatter",
         "x": [
          0,
          1,
          10,
          100,
          1000,
          10000
         ],
         "xaxis": "x",
         "y": [
          0.012249249230000004,
          0.011809283090000004,
          0.011689912020000004,
          0.011549121920000007,
          0.01167220518,
          0.011758934229999993
         ],
         "yaxis": "y"
        },
        {
         "fill": "toself",
         "fillcolor": "rgba(92,2,163,.3)",
         "hoverinfo": "skip",
         "legendgroup": "1024",
         "line": {
          "color": "rgba(255,255,255,0)"
         },
         "showlegend": false,
         "type": "scatter",
         "x": [
          0,
          1,
          10,
          100,
          1000,
          10000,
          10000,
          1000,
          100,
          10,
          1,
          0
         ],
         "xaxis": "x",
         "y": [
          0.023998318807761116,
          0.024183533912908856,
          0.02446868358416835,
          0.023856967473092943,
          0.023515691322313837,
          0.02442856169392667,
          0.024092767666073312,
          0.023232360197686177,
          0.023555982246907064,
          0.024122387835831656,
          0.023846529447091137,
          0.023676169812238867
         ],
         "yaxis": "y"
        },
        {
         "hovertemplate": "num_threads=1024<br>num_ifs=%{x}<br>mean=%{y}<extra></extra>",
         "legendgroup": "1024",
         "line": {
          "color": "#5c02a3",
          "dash": "solid"
         },
         "marker": {
          "symbol": "circle"
         },
         "mode": "lines",
         "name": "1024",
         "orientation": "v",
         "showlegend": true,
         "type": "scatter",
         "x": [
          0,
          1,
          10,
          100,
          1000,
          10000
         ],
         "xaxis": "x",
         "y": [
          0.02383724430999999,
          0.024015031679999996,
          0.024295535710000003,
          0.023706474860000003,
          0.023374025760000007,
          0.02426066467999999
         ],
         "yaxis": "y"
        },
        {
         "fill": "toself",
         "fillcolor": "rgba(56,4,153,.3)",
         "hoverinfo": "skip",
         "legendgroup": "2048",
         "line": {
          "color": "rgba(255,255,255,0)"
         },
         "showlegend": false,
         "type": "scatter",
         "x": [
          0,
          1,
          10,
          100,
          1000,
          10000,
          10000,
          1000,
          100,
          10,
          1,
          0
         ],
         "xaxis": "x",
         "y": [
          0.06086600175609981,
          0.061335621699204576,
          0.060479241244907105,
          0.06042124646149246,
          0.05974495277640007,
          0.06196310033524558,
          0.060553551184754355,
          0.05919083114359991,
          0.05950812127850758,
          0.05959065985509291,
          0.060444872920795395,
          0.05994243820390016
         ],
         "yaxis": "y"
        },
        {
         "hovertemplate": "num_threads=2048<br>num_ifs=%{x}<br>mean=%{y}<extra></extra>",
         "legendgroup": "2048",
         "line": {
          "color": "#380499",
          "dash": "solid"
         },
         "marker": {
          "symbol": "circle"
         },
         "mode": "lines",
         "name": "2048",
         "orientation": "v",
         "showlegend": true,
         "type": "scatter",
         "x": [
          0,
          1,
          10,
          100,
          1000,
          10000
         ],
         "xaxis": "x",
         "y": [
          0.060404219979999986,
          0.060890247309999986,
          0.06003495055000001,
          0.05996468387000002,
          0.05946789195999999,
          0.06125832575999997
         ],
         "yaxis": "y"
        },
        {
         "fill": "toself",
         "fillcolor": "rgba(13,8,135,.3)",
         "hoverinfo": "skip",
         "legendgroup": "4096",
         "line": {
          "color": "rgba(255,255,255,0)"
         },
         "showlegend": false,
         "type": "scatter",
         "x": [
          0,
          1,
          10,
          100,
          1000,
          10000,
          10000,
          1000,
          100,
          10,
          1,
          0
         ],
         "xaxis": "x",
         "y": [
          0.19315366413489618,
          0.1937727531660354,
          0.19262648162948487,
          0.19316112931507892,
          0.1921119152681584,
          0.19271420160943398,
          0.19149905455056615,
          0.1905937563318419,
          0.1916767724449213,
          0.19121438017051512,
          0.1922615689939646,
          0.19172524290510393
         ],
         "yaxis": "y"
        },
        {
         "hovertemplate": "num_threads=4096<br>num_ifs=%{x}<br>mean=%{y}<extra></extra>",
         "legendgroup": "4096",
         "line": {
          "color": "#0d0887",
          "dash": "solid"
         },
         "marker": {
          "symbol": "circle"
         },
         "mode": "lines",
         "name": "4096",
         "orientation": "v",
         "showlegend": true,
         "type": "scatter",
         "x": [
          0,
          1,
          10,
          100,
          1000,
          10000
         ],
         "xaxis": "x",
         "y": [
          0.19243945352000005,
          0.19301716108,
          0.1919204309,
          0.1924189508800001,
          0.19135283580000015,
          0.19210662808000006
         ],
         "yaxis": "y"
        }
       ],
       "layout": {
        "legend": {
         "title": {
          "text": "num_threads"
         },
         "tracegroupgap": 0
        },
        "margin": {
         "b": 0,
         "l": 0,
         "r": 120,
         "t": 50
        },
        "template": {
         "data": {
          "bar": [
           {
            "error_x": {
             "color": "#2a3f5f"
            },
            "error_y": {
             "color": "#2a3f5f"
            },
            "marker": {
             "line": {
              "color": "#E5ECF6",
              "width": 0.5
             },
             "pattern": {
              "fillmode": "overlay",
              "size": 10,
              "solidity": 0.2
             }
            },
            "type": "bar"
           }
          ],
          "barpolar": [
           {
            "marker": {
             "line": {
              "color": "#E5ECF6",
              "width": 0.5
             },
             "pattern": {
              "fillmode": "overlay",
              "size": 10,
              "solidity": 0.2
             }
            },
            "type": "barpolar"
           }
          ],
          "carpet": [
           {
            "aaxis": {
             "endlinecolor": "#2a3f5f",
             "gridcolor": "white",
             "linecolor": "white",
             "minorgridcolor": "white",
             "startlinecolor": "#2a3f5f"
            },
            "baxis": {
             "endlinecolor": "#2a3f5f",
             "gridcolor": "white",
             "linecolor": "white",
             "minorgridcolor": "white",
             "startlinecolor": "#2a3f5f"
            },
            "type": "carpet"
           }
          ],
          "choropleth": [
           {
            "colorbar": {
             "outlinewidth": 0,
             "ticks": ""
            },
            "type": "choropleth"
           }
          ],
          "contour": [
           {
            "colorbar": {
             "outlinewidth": 0,
             "ticks": ""
            },
            "colorscale": [
             [
              0,
              "#0d0887"
             ],
             [
              0.1111111111111111,
              "#46039f"
             ],
             [
              0.2222222222222222,
              "#7201a8"
             ],
             [
              0.3333333333333333,
              "#9c179e"
             ],
             [
              0.4444444444444444,
              "#bd3786"
             ],
             [
              0.5555555555555556,
              "#d8576b"
             ],
             [
              0.6666666666666666,
              "#ed7953"
             ],
             [
              0.7777777777777778,
              "#fb9f3a"
             ],
             [
              0.8888888888888888,
              "#fdca26"
             ],
             [
              1,
              "#f0f921"
             ]
            ],
            "type": "contour"
           }
          ],
          "contourcarpet": [
           {
            "colorbar": {
             "outlinewidth": 0,
             "ticks": ""
            },
            "type": "contourcarpet"
           }
          ],
          "heatmap": [
           {
            "colorbar": {
             "outlinewidth": 0,
             "ticks": ""
            },
            "colorscale": [
             [
              0,
              "#0d0887"
             ],
             [
              0.1111111111111111,
              "#46039f"
             ],
             [
              0.2222222222222222,
              "#7201a8"
             ],
             [
              0.3333333333333333,
              "#9c179e"
             ],
             [
              0.4444444444444444,
              "#bd3786"
             ],
             [
              0.5555555555555556,
              "#d8576b"
             ],
             [
              0.6666666666666666,
              "#ed7953"
             ],
             [
              0.7777777777777778,
              "#fb9f3a"
             ],
             [
              0.8888888888888888,
              "#fdca26"
             ],
             [
              1,
              "#f0f921"
             ]
            ],
            "type": "heatmap"
           }
          ],
          "heatmapgl": [
           {
            "colorbar": {
             "outlinewidth": 0,
             "ticks": ""
            },
            "colorscale": [
             [
              0,
              "#0d0887"
             ],
             [
              0.1111111111111111,
              "#46039f"
             ],
             [
              0.2222222222222222,
              "#7201a8"
             ],
             [
              0.3333333333333333,
              "#9c179e"
             ],
             [
              0.4444444444444444,
              "#bd3786"
             ],
             [
              0.5555555555555556,
              "#d8576b"
             ],
             [
              0.6666666666666666,
              "#ed7953"
             ],
             [
              0.7777777777777778,
              "#fb9f3a"
             ],
             [
              0.8888888888888888,
              "#fdca26"
             ],
             [
              1,
              "#f0f921"
             ]
            ],
            "type": "heatmapgl"
           }
          ],
          "histogram": [
           {
            "marker": {
             "pattern": {
              "fillmode": "overlay",
              "size": 10,
              "solidity": 0.2
             }
            },
            "type": "histogram"
           }
          ],
          "histogram2d": [
           {
            "colorbar": {
             "outlinewidth": 0,
             "ticks": ""
            },
            "colorscale": [
             [
              0,
              "#0d0887"
             ],
             [
              0.1111111111111111,
              "#46039f"
             ],
             [
              0.2222222222222222,
              "#7201a8"
             ],
             [
              0.3333333333333333,
              "#9c179e"
             ],
             [
              0.4444444444444444,
              "#bd3786"
             ],
             [
              0.5555555555555556,
              "#d8576b"
             ],
             [
              0.6666666666666666,
              "#ed7953"
             ],
             [
              0.7777777777777778,
              "#fb9f3a"
             ],
             [
              0.8888888888888888,
              "#fdca26"
             ],
             [
              1,
              "#f0f921"
             ]
            ],
            "type": "histogram2d"
           }
          ],
          "histogram2dcontour": [
           {
            "colorbar": {
             "outlinewidth": 0,
             "ticks": ""
            },
            "colorscale": [
             [
              0,
              "#0d0887"
             ],
             [
              0.1111111111111111,
              "#46039f"
             ],
             [
              0.2222222222222222,
              "#7201a8"
             ],
             [
              0.3333333333333333,
              "#9c179e"
             ],
             [
              0.4444444444444444,
              "#bd3786"
             ],
             [
              0.5555555555555556,
              "#d8576b"
             ],
             [
              0.6666666666666666,
              "#ed7953"
             ],
             [
              0.7777777777777778,
              "#fb9f3a"
             ],
             [
              0.8888888888888888,
              "#fdca26"
             ],
             [
              1,
              "#f0f921"
             ]
            ],
            "type": "histogram2dcontour"
           }
          ],
          "mesh3d": [
           {
            "colorbar": {
             "outlinewidth": 0,
             "ticks": ""
            },
            "type": "mesh3d"
           }
          ],
          "parcoords": [
           {
            "line": {
             "colorbar": {
              "outlinewidth": 0,
              "ticks": ""
             }
            },
            "type": "parcoords"
           }
          ],
          "pie": [
           {
            "automargin": true,
            "type": "pie"
           }
          ],
          "scatter": [
           {
            "fillpattern": {
             "fillmode": "overlay",
             "size": 10,
             "solidity": 0.2
            },
            "type": "scatter"
           }
          ],
          "scatter3d": [
           {
            "line": {
             "colorbar": {
              "outlinewidth": 0,
              "ticks": ""
             }
            },
            "marker": {
             "colorbar": {
              "outlinewidth": 0,
              "ticks": ""
             }
            },
            "type": "scatter3d"
           }
          ],
          "scattercarpet": [
           {
            "marker": {
             "colorbar": {
              "outlinewidth": 0,
              "ticks": ""
             }
            },
            "type": "scattercarpet"
           }
          ],
          "scattergeo": [
           {
            "marker": {
             "colorbar": {
              "outlinewidth": 0,
              "ticks": ""
             }
            },
            "type": "scattergeo"
           }
          ],
          "scattergl": [
           {
            "marker": {
             "colorbar": {
              "outlinewidth": 0,
              "ticks": ""
             }
            },
            "type": "scattergl"
           }
          ],
          "scattermapbox": [
           {
            "marker": {
             "colorbar": {
              "outlinewidth": 0,
              "ticks": ""
             }
            },
            "type": "scattermapbox"
           }
          ],
          "scatterpolar": [
           {
            "marker": {
             "colorbar": {
              "outlinewidth": 0,
              "ticks": ""
             }
            },
            "type": "scatterpolar"
           }
          ],
          "scatterpolargl": [
           {
            "marker": {
             "colorbar": {
              "outlinewidth": 0,
              "ticks": ""
             }
            },
            "type": "scatterpolargl"
           }
          ],
          "scatterternary": [
           {
            "marker": {
             "colorbar": {
              "outlinewidth": 0,
              "ticks": ""
             }
            },
            "type": "scatterternary"
           }
          ],
          "surface": [
           {
            "colorbar": {
             "outlinewidth": 0,
             "ticks": ""
            },
            "colorscale": [
             [
              0,
              "#0d0887"
             ],
             [
              0.1111111111111111,
              "#46039f"
             ],
             [
              0.2222222222222222,
              "#7201a8"
             ],
             [
              0.3333333333333333,
              "#9c179e"
             ],
             [
              0.4444444444444444,
              "#bd3786"
             ],
             [
              0.5555555555555556,
              "#d8576b"
             ],
             [
              0.6666666666666666,
              "#ed7953"
             ],
             [
              0.7777777777777778,
              "#fb9f3a"
             ],
             [
              0.8888888888888888,
              "#fdca26"
             ],
             [
              1,
              "#f0f921"
             ]
            ],
            "type": "surface"
           }
          ],
          "table": [
           {
            "cells": {
             "fill": {
              "color": "#EBF0F8"
             },
             "line": {
              "color": "white"
             }
            },
            "header": {
             "fill": {
              "color": "#C8D4E3"
             },
             "line": {
              "color": "white"
             }
            },
            "type": "table"
           }
          ]
         },
         "layout": {
          "annotationdefaults": {
           "arrowcolor": "#2a3f5f",
           "arrowhead": 0,
           "arrowwidth": 1
          },
          "autotypenumbers": "strict",
          "coloraxis": {
           "colorbar": {
            "outlinewidth": 0,
            "ticks": ""
           }
          },
          "colorscale": {
           "diverging": [
            [
             0,
             "#8e0152"
            ],
            [
             0.1,
             "#c51b7d"
            ],
            [
             0.2,
             "#de77ae"
            ],
            [
             0.3,
             "#f1b6da"
            ],
            [
             0.4,
             "#fde0ef"
            ],
            [
             0.5,
             "#f7f7f7"
            ],
            [
             0.6,
             "#e6f5d0"
            ],
            [
             0.7,
             "#b8e186"
            ],
            [
             0.8,
             "#7fbc41"
            ],
            [
             0.9,
             "#4d9221"
            ],
            [
             1,
             "#276419"
            ]
           ],
           "sequential": [
            [
             0,
             "#0d0887"
            ],
            [
             0.1111111111111111,
             "#46039f"
            ],
            [
             0.2222222222222222,
             "#7201a8"
            ],
            [
             0.3333333333333333,
             "#9c179e"
            ],
            [
             0.4444444444444444,
             "#bd3786"
            ],
            [
             0.5555555555555556,
             "#d8576b"
            ],
            [
             0.6666666666666666,
             "#ed7953"
            ],
            [
             0.7777777777777778,
             "#fb9f3a"
            ],
            [
             0.8888888888888888,
             "#fdca26"
            ],
            [
             1,
             "#f0f921"
            ]
           ],
           "sequentialminus": [
            [
             0,
             "#0d0887"
            ],
            [
             0.1111111111111111,
             "#46039f"
            ],
            [
             0.2222222222222222,
             "#7201a8"
            ],
            [
             0.3333333333333333,
             "#9c179e"
            ],
            [
             0.4444444444444444,
             "#bd3786"
            ],
            [
             0.5555555555555556,
             "#d8576b"
            ],
            [
             0.6666666666666666,
             "#ed7953"
            ],
            [
             0.7777777777777778,
             "#fb9f3a"
            ],
            [
             0.8888888888888888,
             "#fdca26"
            ],
            [
             1,
             "#f0f921"
            ]
           ]
          },
          "colorway": [
           "#636efa",
           "#EF553B",
           "#00cc96",
           "#ab63fa",
           "#FFA15A",
           "#19d3f3",
           "#FF6692",
           "#B6E880",
           "#FF97FF",
           "#FECB52"
          ],
          "font": {
           "color": "#2a3f5f"
          },
          "geo": {
           "bgcolor": "white",
           "lakecolor": "white",
           "landcolor": "#E5ECF6",
           "showlakes": true,
           "showland": true,
           "subunitcolor": "white"
          },
          "hoverlabel": {
           "align": "left"
          },
          "hovermode": "closest",
          "mapbox": {
           "style": "light"
          },
          "paper_bgcolor": "white",
          "plot_bgcolor": "#E5ECF6",
          "polar": {
           "angularaxis": {
            "gridcolor": "white",
            "linecolor": "white",
            "ticks": ""
           },
           "bgcolor": "#E5ECF6",
           "radialaxis": {
            "gridcolor": "white",
            "linecolor": "white",
            "ticks": ""
           }
          },
          "scene": {
           "xaxis": {
            "backgroundcolor": "#E5ECF6",
            "gridcolor": "white",
            "gridwidth": 2,
            "linecolor": "white",
            "showbackground": true,
            "ticks": "",
            "zerolinecolor": "white"
           },
           "yaxis": {
            "backgroundcolor": "#E5ECF6",
            "gridcolor": "white",
            "gridwidth": 2,
            "linecolor": "white",
            "showbackground": true,
            "ticks": "",
            "zerolinecolor": "white"
           },
           "zaxis": {
            "backgroundcolor": "#E5ECF6",
            "gridcolor": "white",
            "gridwidth": 2,
            "linecolor": "white",
            "showbackground": true,
            "ticks": "",
            "zerolinecolor": "white"
           }
          },
          "shapedefaults": {
           "line": {
            "color": "#2a3f5f"
           }
          },
          "ternary": {
           "aaxis": {
            "gridcolor": "white",
            "linecolor": "white",
            "ticks": ""
           },
           "baxis": {
            "gridcolor": "white",
            "linecolor": "white",
            "ticks": ""
           },
           "bgcolor": "#E5ECF6",
           "caxis": {
            "gridcolor": "white",
            "linecolor": "white",
            "ticks": ""
           }
          },
          "title": {
           "x": 0.05
          },
          "xaxis": {
           "automargin": true,
           "gridcolor": "white",
           "linecolor": "white",
           "ticks": "",
           "title": {
            "standoff": 15
           },
           "zerolinecolor": "white",
           "zerolinewidth": 2
          },
          "yaxis": {
           "automargin": true,
           "gridcolor": "white",
           "linecolor": "white",
           "ticks": "",
           "title": {
            "standoff": 15
           },
           "zerolinecolor": "white",
           "zerolinewidth": 2
          }
         }
        },
        "title": {
         "text": "Array size = 10"
        },
        "xaxis": {
         "anchor": "y",
         "domain": [
          0,
          1
         ],
         "title": {
          "text": "num_ifs"
         },
         "type": "category"
        },
        "yaxis": {
         "anchor": "x",
         "domain": [
          0,
          1
         ],
         "title": {
          "text": "mean"
         },
         "type": "log"
        }
       }
      }
     },
     "metadata": {},
     "output_type": "display_data"
    },
    {
     "data": {
      "application/vnd.plotly.v1+json": {
       "config": {
        "plotlyServerURL": "https://plot.ly"
       },
       "data": [
        {
         "fill": "toself",
         "fillcolor": "rgba(240,249,33,.3)",
         "hoverinfo": "skip",
         "legendgroup": "1",
         "line": {
          "color": "rgba(255,255,255,0)"
         },
         "showlegend": false,
         "type": "scatter",
         "x": [
          0,
          1,
          10,
          100,
          1000,
          10000,
          10000,
          1000,
          100,
          10,
          1,
          0
         ],
         "xaxis": "x",
         "y": [
          0.002797783431383069,
          0.0027591328838345356,
          0.0027788796969947013,
          0.0026825529760600834,
          0.002791904764291116,
          0.003125794013527857,
          0.003052101146472144,
          0.002719863435708886,
          0.0025939828239399183,
          0.002695004603005303,
          0.0026736524561654647,
          0.002711147768616932
         ],
         "yaxis": "y"
        },
        {
         "hovertemplate": "num_threads=1<br>num_ifs=%{x}<br>mean=%{y}<extra></extra>",
         "legendgroup": "1",
         "line": {
          "color": "#f0f921",
          "dash": "solid"
         },
         "marker": {
          "symbol": "circle"
         },
         "mode": "lines",
         "name": "1",
         "orientation": "v",
         "showlegend": true,
         "type": "scatter",
         "x": [
          0,
          1,
          10,
          100,
          1000,
          10000
         ],
         "xaxis": "x",
         "y": [
          0.0027544656000000004,
          0.00271639267,
          0.002736942150000002,
          0.002638267900000001,
          0.002755884100000001,
          0.0030889475800000006
         ],
         "yaxis": "y"
        },
        {
         "fill": "toself",
         "fillcolor": "rgba(250,214,37,.3)",
         "hoverinfo": "skip",
         "legendgroup": "2",
         "line": {
          "color": "rgba(255,255,255,0)"
         },
         "showlegend": false,
         "type": "scatter",
         "x": [
          0,
          1,
          10,
          100,
          1000,
          10000,
          10000,
          1000,
          100,
          10,
          1,
          0
         ],
         "xaxis": "x",
         "y": [
          0.002825750486017735,
          0.0018365576664115236,
          0.0019101415781782578,
          0.0019785093346373593,
          0.0027810778086853442,
          0.0030671573447656484,
          0.00299235909523435,
          0.0027071686913146525,
          0.001905625125362643,
          0.0018327677618217386,
          0.0017460009535884761,
          0.0027629107139822617
         ],
         "yaxis": "y"
        },
        {
         "hovertemplate": "num_threads=2<br>num_ifs=%{x}<br>mean=%{y}<extra></extra>",
         "legendgroup": "2",
         "line": {
          "color": "#fad625",
          "dash": "solid"
         },
         "marker": {
          "symbol": "circle"
         },
         "mode": "lines",
         "name": "2",
         "orientation": "v",
         "showlegend": true,
         "type": "scatter",
         "x": [
          0,
          1,
          10,
          100,
          1000,
          10000
         ],
         "xaxis": "x",
         "y": [
          0.0027943305999999983,
          0.0017912793099999999,
          0.0018714546699999982,
          0.0019420672300000013,
          0.0027441232499999984,
          0.003029758219999999
         ],
         "yaxis": "y"
        },
        {
         "fill": "toself",
         "fillcolor": "rgba(252,180,48,.3)",
         "hoverinfo": "skip",
         "legendgroup": "4",
         "line": {
          "color": "rgba(255,255,255,0)"
         },
         "showlegend": false,
         "type": "scatter",
         "x": [
          0,
          1,
          10,
          100,
          1000,
          10000,
          10000,
          1000,
          100,
          10,
          1,
          0
         ],
         "xaxis": "x",
         "y": [
          0.002778000775643509,
          0.0027956832591860773,
          0.0034015499216284496,
          0.0019142406658499925,
          0.002830124228495079,
          0.0031208622054874724,
          0.003056617894512528,
          0.0027752951515049224,
          0.0018569106941500103,
          0.0030930460583715523,
          0.002704161540813924,
          0.0026843379043564914
         ],
         "yaxis": "y"
        },
        {
         "hovertemplate": "num_threads=4<br>num_ifs=%{x}<br>mean=%{y}<extra></extra>",
         "legendgroup": "4",
         "line": {
          "color": "#fcb430",
          "dash": "solid"
         },
         "marker": {
          "symbol": "circle"
         },
         "mode": "lines",
         "name": "4",
         "orientation": "v",
         "showlegend": true,
         "type": "scatter",
         "x": [
          0,
          1,
          10,
          100,
          1000,
          10000
         ],
         "xaxis": "x",
         "y": [
          0.0027311693400000002,
          0.0027499224000000007,
          0.003247297990000001,
          0.0018855756800000014,
          0.0028027096900000007,
          0.00308874005
         ],
         "yaxis": "y"
        },
        {
         "fill": "toself",
         "fillcolor": "rgba(248,150,64,.3)",
         "hoverinfo": "skip",
         "legendgroup": "8",
         "line": {
          "color": "rgba(255,255,255,0)"
         },
         "showlegend": false,
         "type": "scatter",
         "x": [
          0,
          1,
          10,
          100,
          1000,
          10000,
          10000,
          1000,
          100,
          10,
          1,
          0
         ],
         "xaxis": "x",
         "y": [
          0.0019272666361819966,
          0.0019137620155467183,
          0.0029056989666773475,
          0.002738711246048927,
          0.0029204545615658635,
          0.0032200911476244908,
          0.0031435014923755105,
          0.002856898778434134,
          0.00265101419395107,
          0.002827464253322651,
          0.0018525623244532831,
          0.0018503162638180027
         ],
         "yaxis": "y"
        },
        {
         "hovertemplate": "num_threads=8<br>num_ifs=%{x}<br>mean=%{y}<extra></extra>",
         "legendgroup": "8",
         "line": {
          "color": "#f89640",
          "dash": "solid"
         },
         "marker": {
          "symbol": "circle"
         },
         "mode": "lines",
         "name": "8",
         "orientation": "v",
         "showlegend": true,
         "type": "scatter",
         "x": [
          0,
          1,
          10,
          100,
          1000,
          10000
         ],
         "xaxis": "x",
         "y": [
          0.0018887914499999996,
          0.0018831621700000007,
          0.0028665816099999993,
          0.0026948627199999985,
          0.002888676669999999,
          0.0031817963200000006
         ],
         "yaxis": "y"
        },
        {
         "fill": "toself",
         "fillcolor": "rgba(237,121,83,.3)",
         "hoverinfo": "skip",
         "legendgroup": "16",
         "line": {
          "color": "rgba(255,255,255,0)"
         },
         "showlegend": false,
         "type": "scatter",
         "x": [
          0,
          1,
          10,
          100,
          1000,
          10000,
          10000,
          1000,
          100,
          10,
          1,
          0
         ],
         "xaxis": "x",
         "y": [
          0.002058965800101391,
          0.0029399439449566346,
          0.0029235429279926605,
          0.0029699564461794013,
          0.0030202574551419013,
          0.0033192031252611055,
          0.0032309503747388947,
          0.0029578296048580993,
          0.0028849510738206013,
          0.0028356768920073383,
          0.002877289055043366,
          0.0019951776798986087
         ],
         "yaxis": "y"
        },
        {
         "hovertemplate": "num_threads=16<br>num_ifs=%{x}<br>mean=%{y}<extra></extra>",
         "legendgroup": "16",
         "line": {
          "color": "#ed7953",
          "dash": "solid"
         },
         "marker": {
          "symbol": "circle"
         },
         "mode": "lines",
         "name": "16",
         "orientation": "v",
         "showlegend": true,
         "type": "scatter",
         "x": [
          0,
          1,
          10,
          100,
          1000,
          10000
         ],
         "xaxis": "x",
         "y": [
          0.0020270717399999997,
          0.0029086165000000003,
          0.0028796099099999994,
          0.0029274537600000013,
          0.0029890435300000003,
          0.00327507675
         ],
         "yaxis": "y"
        },
        {
         "fill": "toself",
         "fillcolor": "rgba(221,95,101,.3)",
         "hoverinfo": "skip",
         "legendgroup": "32",
         "line": {
          "color": "rgba(255,255,255,0)"
         },
         "showlegend": false,
         "type": "scatter",
         "x": [
          0,
          1,
          10,
          100,
          1000,
          10000,
          10000,
          1000,
          100,
          10,
          1,
          0
         ],
         "xaxis": "x",
         "y": [
          0.0030918919081507484,
          0.0031931756009887504,
          0.0032128598734835197,
          0.0024612867886026624,
          0.003275008710889891,
          0.0035548131047325993,
          0.0034701363352674015,
          0.0032036874691101073,
          0.002392911471397337,
          0.0031405588465164788,
          0.0031218696590112494,
          0.003029397391849254
         ],
         "yaxis": "y"
        },
        {
         "hovertemplate": "num_threads=32<br>num_ifs=%{x}<br>mean=%{y}<extra></extra>",
         "legendgroup": "32",
         "line": {
          "color": "#dd5f65",
          "dash": "solid"
         },
         "marker": {
          "symbol": "circle"
         },
         "mode": "lines",
         "name": "32",
         "orientation": "v",
         "showlegend": true,
         "type": "scatter",
         "x": [
          0,
          1,
          10,
          100,
          1000,
          10000
         ],
         "xaxis": "x",
         "y": [
          0.0030606446500000013,
          0.00315752263,
          0.003176709359999999,
          0.0024270991299999998,
          0.003239348089999999,
          0.0035124747200000004
         ],
         "yaxis": "y"
        },
        {
         "fill": "toself",
         "fillcolor": "rgba(203,71,120,.3)",
         "hoverinfo": "skip",
         "legendgroup": "64",
         "line": {
          "color": "rgba(255,255,255,0)"
         },
         "showlegend": false,
         "type": "scatter",
         "x": [
          0,
          1,
          10,
          100,
          1000,
          10000,
          10000,
          1000,
          100,
          10,
          1,
          0
         ],
         "xaxis": "x",
         "y": [
          0.0029073274014039113,
          0.004045243229658681,
          0.003739363939793483,
          0.003603914312252872,
          0.004037392181632377,
          0.004071263474504478,
          0.0039823396454955265,
          0.0037800678783676193,
          0.003529470607747129,
          0.0036413449802065157,
          0.003949359210341322,
          0.0028212409985960904
         ],
         "yaxis": "y"
        },
        {
         "hovertemplate": "num_threads=64<br>num_ifs=%{x}<br>mean=%{y}<extra></extra>",
         "legendgroup": "64",
         "line": {
          "color": "#cb4778",
          "dash": "solid"
         },
         "marker": {
          "symbol": "circle"
         },
         "mode": "lines",
         "name": "64",
         "orientation": "v",
         "showlegend": true,
         "type": "scatter",
         "x": [
          0,
          1,
          10,
          100,
          1000,
          10000
         ],
         "xaxis": "x",
         "y": [
          0.002864284200000001,
          0.003997301220000002,
          0.0036903544599999993,
          0.0035666924600000005,
          0.003908730029999998,
          0.004026801560000002
         ],
         "yaxis": "y"
        },
        {
         "fill": "toself",
         "fillcolor": "rgba(181,47,140,.3)",
         "hoverinfo": "skip",
         "legendgroup": "128",
         "line": {
          "color": "rgba(255,255,255,0)"
         },
         "showlegend": false,
         "type": "scatter",
         "x": [
          0,
          1,
          10,
          100,
          1000,
          10000,
          10000,
          1000,
          100,
          10,
          1,
          0
         ],
         "xaxis": "x",
         "y": [
          0.0037881482712610617,
          0.004776224934627773,
          0.004742815560924072,
          0.004748154409773174,
          0.004614420613201013,
          0.004922707587724499,
          0.004824608492275506,
          0.004539087766798987,
          0.004651158650226827,
          0.004663261279075929,
          0.004699766345372229,
          0.0037057620487389383
         ],
         "yaxis": "y"
        },
        {
         "hovertemplate": "num_threads=128<br>num_ifs=%{x}<br>mean=%{y}<extra></extra>",
         "legendgroup": "128",
         "line": {
          "color": "#b52f8c",
          "dash": "solid"
         },
         "marker": {
          "symbol": "circle"
         },
         "mode": "lines",
         "name": "128",
         "orientation": "v",
         "showlegend": true,
         "type": "scatter",
         "x": [
          0,
          1,
          10,
          100,
          1000,
          10000
         ],
         "xaxis": "x",
         "y": [
          0.00374695516,
          0.004737995640000001,
          0.004703038420000001,
          0.0046996565300000005,
          0.00457675419,
          0.004873658040000003
         ],
         "yaxis": "y"
        },
        {
         "fill": "toself",
         "fillcolor": "rgba(156,23,158,.3)",
         "hoverinfo": "skip",
         "legendgroup": "256",
         "line": {
          "color": "rgba(255,255,255,0)"
         },
         "showlegend": false,
         "type": "scatter",
         "x": [
          0,
          1,
          10,
          100,
          1000,
          10000,
          10000,
          1000,
          100,
          10,
          1,
          0
         ],
         "xaxis": "x",
         "y": [
          0.007064828344956515,
          0.007048793295860282,
          0.0069487956598590205,
          0.007119941567082889,
          0.006826211731429892,
          0.006963037794815912,
          0.006878806085184093,
          0.0067399025885701075,
          0.007025025652917117,
          0.006840687940140982,
          0.006934518324139728,
          0.0069520496750434865
         ],
         "yaxis": "y"
        },
        {
         "hovertemplate": "num_threads=256<br>num_ifs=%{x}<br>mean=%{y}<extra></extra>",
         "legendgroup": "256",
         "line": {
          "color": "#9c179e",
          "dash": "solid"
         },
         "marker": {
          "symbol": "circle"
         },
         "mode": "lines",
         "name": "256",
         "orientation": "v",
         "showlegend": true,
         "type": "scatter",
         "x": [
          0,
          1,
          10,
          100,
          1000,
          10000
         ],
         "xaxis": "x",
         "y": [
          0.007008439010000001,
          0.006991655810000005,
          0.006894741800000001,
          0.007072483610000003,
          0.00678305716,
          0.006920921940000002
         ],
         "yaxis": "y"
        },
        {
         "fill": "toself",
         "fillcolor": "rgba(124,6,166,.3)",
         "hoverinfo": "skip",
         "legendgroup": "512",
         "line": {
          "color": "rgba(255,255,255,0)"
         },
         "showlegend": false,
         "type": "scatter",
         "x": [
          0,
          1,
          10,
          100,
          1000,
          10000,
          10000,
          1000,
          100,
          10,
          1,
          0
         ],
         "xaxis": "x",
         "y": [
          0.011700017424048094,
          0.011692296774058709,
          0.011795828326661685,
          0.011597594976377973,
          0.011506450264989856,
          0.011706900700878434,
          0.011593184579121563,
          0.011398800735010156,
          0.011464125803622027,
          0.011655642853338321,
          0.011590133565941298,
          0.011546482535951903
         ],
         "yaxis": "y"
        },
        {
         "hovertemplate": "num_threads=512<br>num_ifs=%{x}<br>mean=%{y}<extra></extra>",
         "legendgroup": "512",
         "line": {
          "color": "#7c06a6",
          "dash": "solid"
         },
         "marker": {
          "symbol": "circle"
         },
         "mode": "lines",
         "name": "512",
         "orientation": "v",
         "showlegend": true,
         "type": "scatter",
         "x": [
          0,
          1,
          10,
          100,
          1000,
          10000
         ],
         "xaxis": "x",
         "y": [
          0.011623249979999998,
          0.011641215170000004,
          0.011725735590000003,
          0.01153086039,
          0.011452625500000006,
          0.011650042639999999
         ],
         "yaxis": "y"
        },
        {
         "fill": "toself",
         "fillcolor": "rgba(92,2,163,.3)",
         "hoverinfo": "skip",
         "legendgroup": "1024",
         "line": {
          "color": "rgba(255,255,255,0)"
         },
         "showlegend": false,
         "type": "scatter",
         "x": [
          0,
          1,
          10,
          100,
          1000,
          10000,
          10000,
          1000,
          100,
          10,
          1,
          0
         ],
         "xaxis": "x",
         "y": [
          0.02425669781564867,
          0.025148908926249235,
          0.025274897883061205,
          0.02483787425393872,
          0.023821232922681235,
          0.024468964622884285,
          0.024177403657115733,
          0.023512206657318756,
          0.0244627578460613,
          0.024867422116938792,
          0.02476431321375077,
          0.02390920190435136
         ],
         "yaxis": "y"
        },
        {
         "hovertemplate": "num_threads=1024<br>num_ifs=%{x}<br>mean=%{y}<extra></extra>",
         "legendgroup": "1024",
         "line": {
          "color": "#5c02a3",
          "dash": "solid"
         },
         "marker": {
          "symbol": "circle"
         },
         "mode": "lines",
         "name": "1024",
         "orientation": "v",
         "showlegend": true,
         "type": "scatter",
         "x": [
          0,
          1,
          10,
          100,
          1000,
          10000
         ],
         "xaxis": "x",
         "y": [
          0.024082949860000015,
          0.024956611070000002,
          0.02507116,
          0.02465031605000001,
          0.023666719789999995,
          0.02432318414000001
         ],
         "yaxis": "y"
        },
        {
         "fill": "toself",
         "fillcolor": "rgba(56,4,153,.3)",
         "hoverinfo": "skip",
         "legendgroup": "2048",
         "line": {
          "color": "rgba(255,255,255,0)"
         },
         "showlegend": false,
         "type": "scatter",
         "x": [
          0,
          1,
          10,
          100,
          1000,
          10000,
          10000,
          1000,
          100,
          10,
          1,
          0
         ],
         "xaxis": "x",
         "y": [
          0.060090159728791226,
          0.06120708913833511,
          0.06101417915796143,
          0.061011555152331316,
          0.059104018465463176,
          0.06361225805213869,
          0.06232743868786128,
          0.058372324414536825,
          0.06019561420766872,
          0.060222786082038605,
          0.06029179982166494,
          0.05927393849120875
         ],
         "yaxis": "y"
        },
        {
         "hovertemplate": "num_threads=2048<br>num_ifs=%{x}<br>mean=%{y}<extra></extra>",
         "legendgroup": "2048",
         "line": {
          "color": "#380499",
          "dash": "solid"
         },
         "marker": {
          "symbol": "circle"
         },
         "mode": "lines",
         "name": "2048",
         "orientation": "v",
         "showlegend": true,
         "type": "scatter",
         "x": [
          0,
          1,
          10,
          100,
          1000,
          10000
         ],
         "xaxis": "x",
         "y": [
          0.05968204910999999,
          0.060749444480000026,
          0.06061848262000002,
          0.06060358468000002,
          0.05873817144,
          0.06296984836999998
         ],
         "yaxis": "y"
        },
        {
         "fill": "toself",
         "fillcolor": "rgba(13,8,135,.3)",
         "hoverinfo": "skip",
         "legendgroup": "4096",
         "line": {
          "color": "rgba(255,255,255,0)"
         },
         "showlegend": false,
         "type": "scatter",
         "x": [
          0,
          1,
          10,
          100,
          1000,
          10000,
          10000,
          1000,
          100,
          10,
          1,
          0
         ],
         "xaxis": "x",
         "y": [
          0.19336155457271545,
          0.1930125153784386,
          0.19356035770382582,
          0.19329626375378034,
          0.19164611287838004,
          0.19360822588612714,
          0.19259215389387302,
          0.19038935912162,
          0.1917840435462197,
          0.19219966815617442,
          0.19122900628156125,
          0.19165756448728474
         ],
         "yaxis": "y"
        },
        {
         "hovertemplate": "num_threads=4096<br>num_ifs=%{x}<br>mean=%{y}<extra></extra>",
         "legendgroup": "4096",
         "line": {
          "color": "#0d0887",
          "dash": "solid"
         },
         "marker": {
          "symbol": "circle"
         },
         "mode": "lines",
         "name": "4096",
         "orientation": "v",
         "showlegend": true,
         "type": "scatter",
         "x": [
          0,
          1,
          10,
          100,
          1000,
          10000
         ],
         "xaxis": "x",
         "y": [
          0.1925095595300001,
          0.19212076082999993,
          0.19288001293000012,
          0.19254015365000002,
          0.19101773600000002,
          0.19310018989000008
         ],
         "yaxis": "y"
        }
       ],
       "layout": {
        "legend": {
         "title": {
          "text": "num_threads"
         },
         "tracegroupgap": 0
        },
        "margin": {
         "b": 0,
         "l": 0,
         "r": 120,
         "t": 50
        },
        "template": {
         "data": {
          "bar": [
           {
            "error_x": {
             "color": "#2a3f5f"
            },
            "error_y": {
             "color": "#2a3f5f"
            },
            "marker": {
             "line": {
              "color": "#E5ECF6",
              "width": 0.5
             },
             "pattern": {
              "fillmode": "overlay",
              "size": 10,
              "solidity": 0.2
             }
            },
            "type": "bar"
           }
          ],
          "barpolar": [
           {
            "marker": {
             "line": {
              "color": "#E5ECF6",
              "width": 0.5
             },
             "pattern": {
              "fillmode": "overlay",
              "size": 10,
              "solidity": 0.2
             }
            },
            "type": "barpolar"
           }
          ],
          "carpet": [
           {
            "aaxis": {
             "endlinecolor": "#2a3f5f",
             "gridcolor": "white",
             "linecolor": "white",
             "minorgridcolor": "white",
             "startlinecolor": "#2a3f5f"
            },
            "baxis": {
             "endlinecolor": "#2a3f5f",
             "gridcolor": "white",
             "linecolor": "white",
             "minorgridcolor": "white",
             "startlinecolor": "#2a3f5f"
            },
            "type": "carpet"
           }
          ],
          "choropleth": [
           {
            "colorbar": {
             "outlinewidth": 0,
             "ticks": ""
            },
            "type": "choropleth"
           }
          ],
          "contour": [
           {
            "colorbar": {
             "outlinewidth": 0,
             "ticks": ""
            },
            "colorscale": [
             [
              0,
              "#0d0887"
             ],
             [
              0.1111111111111111,
              "#46039f"
             ],
             [
              0.2222222222222222,
              "#7201a8"
             ],
             [
              0.3333333333333333,
              "#9c179e"
             ],
             [
              0.4444444444444444,
              "#bd3786"
             ],
             [
              0.5555555555555556,
              "#d8576b"
             ],
             [
              0.6666666666666666,
              "#ed7953"
             ],
             [
              0.7777777777777778,
              "#fb9f3a"
             ],
             [
              0.8888888888888888,
              "#fdca26"
             ],
             [
              1,
              "#f0f921"
             ]
            ],
            "type": "contour"
           }
          ],
          "contourcarpet": [
           {
            "colorbar": {
             "outlinewidth": 0,
             "ticks": ""
            },
            "type": "contourcarpet"
           }
          ],
          "heatmap": [
           {
            "colorbar": {
             "outlinewidth": 0,
             "ticks": ""
            },
            "colorscale": [
             [
              0,
              "#0d0887"
             ],
             [
              0.1111111111111111,
              "#46039f"
             ],
             [
              0.2222222222222222,
              "#7201a8"
             ],
             [
              0.3333333333333333,
              "#9c179e"
             ],
             [
              0.4444444444444444,
              "#bd3786"
             ],
             [
              0.5555555555555556,
              "#d8576b"
             ],
             [
              0.6666666666666666,
              "#ed7953"
             ],
             [
              0.7777777777777778,
              "#fb9f3a"
             ],
             [
              0.8888888888888888,
              "#fdca26"
             ],
             [
              1,
              "#f0f921"
             ]
            ],
            "type": "heatmap"
           }
          ],
          "heatmapgl": [
           {
            "colorbar": {
             "outlinewidth": 0,
             "ticks": ""
            },
            "colorscale": [
             [
              0,
              "#0d0887"
             ],
             [
              0.1111111111111111,
              "#46039f"
             ],
             [
              0.2222222222222222,
              "#7201a8"
             ],
             [
              0.3333333333333333,
              "#9c179e"
             ],
             [
              0.4444444444444444,
              "#bd3786"
             ],
             [
              0.5555555555555556,
              "#d8576b"
             ],
             [
              0.6666666666666666,
              "#ed7953"
             ],
             [
              0.7777777777777778,
              "#fb9f3a"
             ],
             [
              0.8888888888888888,
              "#fdca26"
             ],
             [
              1,
              "#f0f921"
             ]
            ],
            "type": "heatmapgl"
           }
          ],
          "histogram": [
           {
            "marker": {
             "pattern": {
              "fillmode": "overlay",
              "size": 10,
              "solidity": 0.2
             }
            },
            "type": "histogram"
           }
          ],
          "histogram2d": [
           {
            "colorbar": {
             "outlinewidth": 0,
             "ticks": ""
            },
            "colorscale": [
             [
              0,
              "#0d0887"
             ],
             [
              0.1111111111111111,
              "#46039f"
             ],
             [
              0.2222222222222222,
              "#7201a8"
             ],
             [
              0.3333333333333333,
              "#9c179e"
             ],
             [
              0.4444444444444444,
              "#bd3786"
             ],
             [
              0.5555555555555556,
              "#d8576b"
             ],
             [
              0.6666666666666666,
              "#ed7953"
             ],
             [
              0.7777777777777778,
              "#fb9f3a"
             ],
             [
              0.8888888888888888,
              "#fdca26"
             ],
             [
              1,
              "#f0f921"
             ]
            ],
            "type": "histogram2d"
           }
          ],
          "histogram2dcontour": [
           {
            "colorbar": {
             "outlinewidth": 0,
             "ticks": ""
            },
            "colorscale": [
             [
              0,
              "#0d0887"
             ],
             [
              0.1111111111111111,
              "#46039f"
             ],
             [
              0.2222222222222222,
              "#7201a8"
             ],
             [
              0.3333333333333333,
              "#9c179e"
             ],
             [
              0.4444444444444444,
              "#bd3786"
             ],
             [
              0.5555555555555556,
              "#d8576b"
             ],
             [
              0.6666666666666666,
              "#ed7953"
             ],
             [
              0.7777777777777778,
              "#fb9f3a"
             ],
             [
              0.8888888888888888,
              "#fdca26"
             ],
             [
              1,
              "#f0f921"
             ]
            ],
            "type": "histogram2dcontour"
           }
          ],
          "mesh3d": [
           {
            "colorbar": {
             "outlinewidth": 0,
             "ticks": ""
            },
            "type": "mesh3d"
           }
          ],
          "parcoords": [
           {
            "line": {
             "colorbar": {
              "outlinewidth": 0,
              "ticks": ""
             }
            },
            "type": "parcoords"
           }
          ],
          "pie": [
           {
            "automargin": true,
            "type": "pie"
           }
          ],
          "scatter": [
           {
            "fillpattern": {
             "fillmode": "overlay",
             "size": 10,
             "solidity": 0.2
            },
            "type": "scatter"
           }
          ],
          "scatter3d": [
           {
            "line": {
             "colorbar": {
              "outlinewidth": 0,
              "ticks": ""
             }
            },
            "marker": {
             "colorbar": {
              "outlinewidth": 0,
              "ticks": ""
             }
            },
            "type": "scatter3d"
           }
          ],
          "scattercarpet": [
           {
            "marker": {
             "colorbar": {
              "outlinewidth": 0,
              "ticks": ""
             }
            },
            "type": "scattercarpet"
           }
          ],
          "scattergeo": [
           {
            "marker": {
             "colorbar": {
              "outlinewidth": 0,
              "ticks": ""
             }
            },
            "type": "scattergeo"
           }
          ],
          "scattergl": [
           {
            "marker": {
             "colorbar": {
              "outlinewidth": 0,
              "ticks": ""
             }
            },
            "type": "scattergl"
           }
          ],
          "scattermapbox": [
           {
            "marker": {
             "colorbar": {
              "outlinewidth": 0,
              "ticks": ""
             }
            },
            "type": "scattermapbox"
           }
          ],
          "scatterpolar": [
           {
            "marker": {
             "colorbar": {
              "outlinewidth": 0,
              "ticks": ""
             }
            },
            "type": "scatterpolar"
           }
          ],
          "scatterpolargl": [
           {
            "marker": {
             "colorbar": {
              "outlinewidth": 0,
              "ticks": ""
             }
            },
            "type": "scatterpolargl"
           }
          ],
          "scatterternary": [
           {
            "marker": {
             "colorbar": {
              "outlinewidth": 0,
              "ticks": ""
             }
            },
            "type": "scatterternary"
           }
          ],
          "surface": [
           {
            "colorbar": {
             "outlinewidth": 0,
             "ticks": ""
            },
            "colorscale": [
             [
              0,
              "#0d0887"
             ],
             [
              0.1111111111111111,
              "#46039f"
             ],
             [
              0.2222222222222222,
              "#7201a8"
             ],
             [
              0.3333333333333333,
              "#9c179e"
             ],
             [
              0.4444444444444444,
              "#bd3786"
             ],
             [
              0.5555555555555556,
              "#d8576b"
             ],
             [
              0.6666666666666666,
              "#ed7953"
             ],
             [
              0.7777777777777778,
              "#fb9f3a"
             ],
             [
              0.8888888888888888,
              "#fdca26"
             ],
             [
              1,
              "#f0f921"
             ]
            ],
            "type": "surface"
           }
          ],
          "table": [
           {
            "cells": {
             "fill": {
              "color": "#EBF0F8"
             },
             "line": {
              "color": "white"
             }
            },
            "header": {
             "fill": {
              "color": "#C8D4E3"
             },
             "line": {
              "color": "white"
             }
            },
            "type": "table"
           }
          ]
         },
         "layout": {
          "annotationdefaults": {
           "arrowcolor": "#2a3f5f",
           "arrowhead": 0,
           "arrowwidth": 1
          },
          "autotypenumbers": "strict",
          "coloraxis": {
           "colorbar": {
            "outlinewidth": 0,
            "ticks": ""
           }
          },
          "colorscale": {
           "diverging": [
            [
             0,
             "#8e0152"
            ],
            [
             0.1,
             "#c51b7d"
            ],
            [
             0.2,
             "#de77ae"
            ],
            [
             0.3,
             "#f1b6da"
            ],
            [
             0.4,
             "#fde0ef"
            ],
            [
             0.5,
             "#f7f7f7"
            ],
            [
             0.6,
             "#e6f5d0"
            ],
            [
             0.7,
             "#b8e186"
            ],
            [
             0.8,
             "#7fbc41"
            ],
            [
             0.9,
             "#4d9221"
            ],
            [
             1,
             "#276419"
            ]
           ],
           "sequential": [
            [
             0,
             "#0d0887"
            ],
            [
             0.1111111111111111,
             "#46039f"
            ],
            [
             0.2222222222222222,
             "#7201a8"
            ],
            [
             0.3333333333333333,
             "#9c179e"
            ],
            [
             0.4444444444444444,
             "#bd3786"
            ],
            [
             0.5555555555555556,
             "#d8576b"
            ],
            [
             0.6666666666666666,
             "#ed7953"
            ],
            [
             0.7777777777777778,
             "#fb9f3a"
            ],
            [
             0.8888888888888888,
             "#fdca26"
            ],
            [
             1,
             "#f0f921"
            ]
           ],
           "sequentialminus": [
            [
             0,
             "#0d0887"
            ],
            [
             0.1111111111111111,
             "#46039f"
            ],
            [
             0.2222222222222222,
             "#7201a8"
            ],
            [
             0.3333333333333333,
             "#9c179e"
            ],
            [
             0.4444444444444444,
             "#bd3786"
            ],
            [
             0.5555555555555556,
             "#d8576b"
            ],
            [
             0.6666666666666666,
             "#ed7953"
            ],
            [
             0.7777777777777778,
             "#fb9f3a"
            ],
            [
             0.8888888888888888,
             "#fdca26"
            ],
            [
             1,
             "#f0f921"
            ]
           ]
          },
          "colorway": [
           "#636efa",
           "#EF553B",
           "#00cc96",
           "#ab63fa",
           "#FFA15A",
           "#19d3f3",
           "#FF6692",
           "#B6E880",
           "#FF97FF",
           "#FECB52"
          ],
          "font": {
           "color": "#2a3f5f"
          },
          "geo": {
           "bgcolor": "white",
           "lakecolor": "white",
           "landcolor": "#E5ECF6",
           "showlakes": true,
           "showland": true,
           "subunitcolor": "white"
          },
          "hoverlabel": {
           "align": "left"
          },
          "hovermode": "closest",
          "mapbox": {
           "style": "light"
          },
          "paper_bgcolor": "white",
          "plot_bgcolor": "#E5ECF6",
          "polar": {
           "angularaxis": {
            "gridcolor": "white",
            "linecolor": "white",
            "ticks": ""
           },
           "bgcolor": "#E5ECF6",
           "radialaxis": {
            "gridcolor": "white",
            "linecolor": "white",
            "ticks": ""
           }
          },
          "scene": {
           "xaxis": {
            "backgroundcolor": "#E5ECF6",
            "gridcolor": "white",
            "gridwidth": 2,
            "linecolor": "white",
            "showbackground": true,
            "ticks": "",
            "zerolinecolor": "white"
           },
           "yaxis": {
            "backgroundcolor": "#E5ECF6",
            "gridcolor": "white",
            "gridwidth": 2,
            "linecolor": "white",
            "showbackground": true,
            "ticks": "",
            "zerolinecolor": "white"
           },
           "zaxis": {
            "backgroundcolor": "#E5ECF6",
            "gridcolor": "white",
            "gridwidth": 2,
            "linecolor": "white",
            "showbackground": true,
            "ticks": "",
            "zerolinecolor": "white"
           }
          },
          "shapedefaults": {
           "line": {
            "color": "#2a3f5f"
           }
          },
          "ternary": {
           "aaxis": {
            "gridcolor": "white",
            "linecolor": "white",
            "ticks": ""
           },
           "baxis": {
            "gridcolor": "white",
            "linecolor": "white",
            "ticks": ""
           },
           "bgcolor": "#E5ECF6",
           "caxis": {
            "gridcolor": "white",
            "linecolor": "white",
            "ticks": ""
           }
          },
          "title": {
           "x": 0.05
          },
          "xaxis": {
           "automargin": true,
           "gridcolor": "white",
           "linecolor": "white",
           "ticks": "",
           "title": {
            "standoff": 15
           },
           "zerolinecolor": "white",
           "zerolinewidth": 2
          },
          "yaxis": {
           "automargin": true,
           "gridcolor": "white",
           "linecolor": "white",
           "ticks": "",
           "title": {
            "standoff": 15
           },
           "zerolinecolor": "white",
           "zerolinewidth": 2
          }
         }
        },
        "title": {
         "text": "Array size = 100"
        },
        "xaxis": {
         "anchor": "y",
         "domain": [
          0,
          1
         ],
         "title": {
          "text": "num_ifs"
         },
         "type": "category"
        },
        "yaxis": {
         "anchor": "x",
         "domain": [
          0,
          1
         ],
         "title": {
          "text": "mean"
         },
         "type": "log"
        }
       }
      }
     },
     "metadata": {},
     "output_type": "display_data"
    },
    {
     "data": {
      "application/vnd.plotly.v1+json": {
       "config": {
        "plotlyServerURL": "https://plot.ly"
       },
       "data": [
        {
         "fill": "toself",
         "fillcolor": "rgba(240,249,33,.3)",
         "hoverinfo": "skip",
         "legendgroup": "1",
         "line": {
          "color": "rgba(255,255,255,0)"
         },
         "showlegend": false,
         "type": "scatter",
         "x": [
          0,
          1,
          10,
          100,
          1000,
          10000,
          10000,
          1000,
          100,
          10,
          1,
          0
         ],
         "xaxis": "x",
         "y": [
          0.0032099316600975106,
          0.0032634300029493824,
          0.003124466597725417,
          0.0030948879430450662,
          0.0033127811183225994,
          0.0035857493359006338,
          0.003513041104099365,
          0.003230791181677402,
          0.003033415816954935,
          0.003036642302274583,
          0.0031819355770506177,
          0.003135304319902491
         ],
         "yaxis": "y"
        },
        {
         "hovertemplate": "num_threads=1<br>num_ifs=%{x}<br>mean=%{y}<extra></extra>",
         "legendgroup": "1",
         "line": {
          "color": "#f0f921",
          "dash": "solid"
         },
         "marker": {
          "symbol": "circle"
         },
         "mode": "lines",
         "name": "1",
         "orientation": "v",
         "showlegend": true,
         "type": "scatter",
         "x": [
          0,
          1,
          10,
          100,
          1000,
          10000
         ],
         "xaxis": "x",
         "y": [
          0.003172617990000001,
          0.00322268279,
          0.00308055445,
          0.0030641518800000006,
          0.0032717861500000008,
          0.0035493952199999994
         ],
         "yaxis": "y"
        },
        {
         "fill": "toself",
         "fillcolor": "rgba(250,214,37,.3)",
         "hoverinfo": "skip",
         "legendgroup": "2",
         "line": {
          "color": "rgba(255,255,255,0)"
         },
         "showlegend": false,
         "type": "scatter",
         "x": [
          0,
          1,
          10,
          100,
          1000,
          10000,
          10000,
          1000,
          100,
          10,
          1,
          0
         ],
         "xaxis": "x",
         "y": [
          0.00327283877853916,
          0.0030021640352069904,
          0.0030042122193082595,
          0.002998606098992488,
          0.003013770956523425,
          0.0033003350969866207,
          0.003222825963013384,
          0.0029459432434765695,
          0.002918018361007515,
          0.002931872340691742,
          0.0029287772847930104,
          0.0031518989614608404
         ],
         "yaxis": "y"
        },
        {
         "hovertemplate": "num_threads=2<br>num_ifs=%{x}<br>mean=%{y}<extra></extra>",
         "legendgroup": "2",
         "line": {
          "color": "#fad625",
          "dash": "solid"
         },
         "marker": {
          "symbol": "circle"
         },
         "mode": "lines",
         "name": "2",
         "orientation": "v",
         "showlegend": true,
         "type": "scatter",
         "x": [
          0,
          1,
          10,
          100,
          1000,
          10000
         ],
         "xaxis": "x",
         "y": [
          0.00321236887,
          0.0029654706600000004,
          0.0029680422800000008,
          0.0029583122300000015,
          0.0029798570999999973,
          0.0032615805300000023
         ],
         "yaxis": "y"
        },
        {
         "fill": "toself",
         "fillcolor": "rgba(252,180,48,.3)",
         "hoverinfo": "skip",
         "legendgroup": "4",
         "line": {
          "color": "rgba(255,255,255,0)"
         },
         "showlegend": false,
         "type": "scatter",
         "x": [
          0,
          1,
          10,
          100,
          1000,
          10000,
          10000,
          1000,
          100,
          10,
          1,
          0
         ],
         "xaxis": "x",
         "y": [
          0.002663576881813759,
          0.002943836928156799,
          0.002681084760310866,
          0.00300375553912059,
          0.0030074909872950684,
          0.0032640773983706652,
          0.0031954309616293395,
          0.002934221632704931,
          0.0029334403408794126,
          0.0023448777396891337,
          0.0028811581118432013,
          0.0025761714981862418
         ],
         "yaxis": "y"
        },
        {
         "hovertemplate": "num_threads=4<br>num_ifs=%{x}<br>mean=%{y}<extra></extra>",
         "legendgroup": "4",
         "line": {
          "color": "#fcb430",
          "dash": "solid"
         },
         "marker": {
          "symbol": "circle"
         },
         "mode": "lines",
         "name": "4",
         "orientation": "v",
         "showlegend": true,
         "type": "scatter",
         "x": [
          0,
          1,
          10,
          100,
          1000,
          10000
         ],
         "xaxis": "x",
         "y": [
          0.0026198741900000004,
          0.00291249752,
          0.00251298125,
          0.0029685979400000014,
          0.0029708563099999996,
          0.0032297541800000024
         ],
         "yaxis": "y"
        },
        {
         "fill": "toself",
         "fillcolor": "rgba(248,150,64,.3)",
         "hoverinfo": "skip",
         "legendgroup": "8",
         "line": {
          "color": "rgba(255,255,255,0)"
         },
         "showlegend": false,
         "type": "scatter",
         "x": [
          0,
          1,
          10,
          100,
          1000,
          10000,
          10000,
          1000,
          100,
          10,
          1,
          0
         ],
         "xaxis": "x",
         "y": [
          0.004278775925998602,
          0.0029085572252685,
          0.002146239685402763,
          0.0021918927586169644,
          0.0030503423074521004,
          0.003349612331217426,
          0.003270252088782572,
          0.0029870749125478985,
          0.0021345415813830365,
          0.002060432894597237,
          0.0028437980547314995,
          0.004204689694001398
         ],
         "yaxis": "y"
        },
        {
         "hovertemplate": "num_threads=8<br>num_ifs=%{x}<br>mean=%{y}<extra></extra>",
         "legendgroup": "8",
         "line": {
          "color": "#f89640",
          "dash": "solid"
         },
         "marker": {
          "symbol": "circle"
         },
         "mode": "lines",
         "name": "8",
         "orientation": "v",
         "showlegend": true,
         "type": "scatter",
         "x": [
          0,
          1,
          10,
          100,
          1000,
          10000
         ],
         "xaxis": "x",
         "y": [
          0.00424173281,
          0.0028761776399999998,
          0.00210333629,
          0.0021632171700000005,
          0.0030187086099999995,
          0.003309932209999999
         ],
         "yaxis": "y"
        },
        {
         "fill": "toself",
         "fillcolor": "rgba(237,121,83,.3)",
         "hoverinfo": "skip",
         "legendgroup": "16",
         "line": {
          "color": "rgba(255,255,255,0)"
         },
         "showlegend": false,
         "type": "scatter",
         "x": [
          0,
          1,
          10,
          100,
          1000,
          10000,
          10000,
          1000,
          100,
          10,
          1,
          0
         ],
         "xaxis": "x",
         "y": [
          0.003999272104884962,
          0.0020840214076579032,
          0.0020670310663119954,
          0.0020819797251324865,
          0.0030976398903697962,
          0.003462197900216753,
          0.003392431599783246,
          0.0030152191096302055,
          0.0020102591948675122,
          0.0020098449336880056,
          0.0020031052323420933,
          0.003903590815115038
         ],
         "yaxis": "y"
        },
        {
         "hovertemplate": "num_threads=16<br>num_ifs=%{x}<br>mean=%{y}<extra></extra>",
         "legendgroup": "16",
         "line": {
          "color": "#ed7953",
          "dash": "solid"
         },
         "marker": {
          "symbol": "circle"
         },
         "mode": "lines",
         "name": "16",
         "orientation": "v",
         "showlegend": true,
         "type": "scatter",
         "x": [
          0,
          1,
          10,
          100,
          1000,
          10000
         ],
         "xaxis": "x",
         "y": [
          0.00395143146,
          0.0020435633199999983,
          0.0020384380000000005,
          0.0020461194599999994,
          0.003056429500000001,
          0.0034273147499999995
         ],
         "yaxis": "y"
        },
        {
         "fill": "toself",
         "fillcolor": "rgba(221,95,101,.3)",
         "hoverinfo": "skip",
         "legendgroup": "32",
         "line": {
          "color": "rgba(255,255,255,0)"
         },
         "showlegend": false,
         "type": "scatter",
         "x": [
          0,
          1,
          10,
          100,
          1000,
          10000,
          10000,
          1000,
          100,
          10,
          1,
          0
         ],
         "xaxis": "x",
         "y": [
          0.0030653861088600484,
          0.0032009519494026646,
          0.0032862536220960507,
          0.0032309390039349296,
          0.00334063046989106,
          0.003638309631104773,
          0.0035602560688952263,
          0.0032837063301089393,
          0.0031658850360650717,
          0.0031967836379039488,
          0.003127606370597334,
          0.002997097451139949
         ],
         "yaxis": "y"
        },
        {
         "hovertemplate": "num_threads=32<br>num_ifs=%{x}<br>mean=%{y}<extra></extra>",
         "legendgroup": "32",
         "line": {
          "color": "#dd5f65",
          "dash": "solid"
         },
         "marker": {
          "symbol": "circle"
         },
         "mode": "lines",
         "name": "32",
         "orientation": "v",
         "showlegend": true,
         "type": "scatter",
         "x": [
          0,
          1,
          10,
          100,
          1000,
          10000
         ],
         "xaxis": "x",
         "y": [
          0.0030312417799999987,
          0.0031642791599999992,
          0.0032415186299999997,
          0.0031984120200000007,
          0.0033121683999999996,
          0.0035992828499999997
         ],
         "yaxis": "y"
        },
        {
         "fill": "toself",
         "fillcolor": "rgba(203,71,120,.3)",
         "hoverinfo": "skip",
         "legendgroup": "64",
         "line": {
          "color": "rgba(255,255,255,0)"
         },
         "showlegend": false,
         "type": "scatter",
         "x": [
          0,
          1,
          10,
          100,
          1000,
          10000,
          10000,
          1000,
          100,
          10,
          1,
          0
         ],
         "xaxis": "x",
         "y": [
          0.00427812070459833,
          0.0028107839327622636,
          0.0028414049066802405,
          0.0028964816580633024,
          0.0038424596206274534,
          0.004121581232238411,
          0.004028485487761587,
          0.0037711728393725495,
          0.0028321924219366986,
          0.0027753806333197617,
          0.0026916781672377383,
          0.004193163975401673
         ],
         "yaxis": "y"
        },
        {
         "hovertemplate": "num_threads=64<br>num_ifs=%{x}<br>mean=%{y}<extra></extra>",
         "legendgroup": "64",
         "line": {
          "color": "#cb4778",
          "dash": "solid"
         },
         "marker": {
          "symbol": "circle"
         },
         "mode": "lines",
         "name": "64",
         "orientation": "v",
         "showlegend": true,
         "type": "scatter",
         "x": [
          0,
          1,
          10,
          100,
          1000,
          10000
         ],
         "xaxis": "x",
         "y": [
          0.004235642340000002,
          0.002751231050000001,
          0.002808392770000001,
          0.0028643370400000005,
          0.0038068162300000014,
          0.004075033359999999
         ],
         "yaxis": "y"
        },
        {
         "fill": "toself",
         "fillcolor": "rgba(181,47,140,.3)",
         "hoverinfo": "skip",
         "legendgroup": "128",
         "line": {
          "color": "rgba(255,255,255,0)"
         },
         "showlegend": false,
         "type": "scatter",
         "x": [
          0,
          1,
          10,
          100,
          1000,
          10000,
          10000,
          1000,
          100,
          10,
          1,
          0
         ],
         "xaxis": "x",
         "y": [
          0.004702960345843208,
          0.003942452822412608,
          0.003891566140784778,
          0.0049331307269527055,
          0.004906241461931729,
          0.005208619922290236,
          0.005072780737709765,
          0.004841928318068267,
          0.0047716700330472945,
          0.003807905519215219,
          0.0038606105975873945,
          0.004617117114156791
         ],
         "yaxis": "y"
        },
        {
         "hovertemplate": "num_threads=128<br>num_ifs=%{x}<br>mean=%{y}<extra></extra>",
         "legendgroup": "128",
         "line": {
          "color": "#b52f8c",
          "dash": "solid"
         },
         "marker": {
          "symbol": "circle"
         },
         "mode": "lines",
         "name": "128",
         "orientation": "v",
         "showlegend": true,
         "type": "scatter",
         "x": [
          0,
          1,
          10,
          100,
          1000,
          10000
         ],
         "xaxis": "x",
         "y": [
          0.00466003873,
          0.0039015317100000012,
          0.0038497358299999984,
          0.00485240038,
          0.004874084889999998,
          0.00514070033
         ],
         "yaxis": "y"
        },
        {
         "fill": "toself",
         "fillcolor": "rgba(156,23,158,.3)",
         "hoverinfo": "skip",
         "legendgroup": "256",
         "line": {
          "color": "rgba(255,255,255,0)"
         },
         "showlegend": false,
         "type": "scatter",
         "x": [
          0,
          1,
          10,
          100,
          1000,
          10000,
          10000,
          1000,
          100,
          10,
          1,
          0
         ],
         "xaxis": "x",
         "y": [
          0.007053140392417846,
          0.007025191069350767,
          0.006974679443090565,
          0.007085268540527044,
          0.007079612900624655,
          0.007296109960712218,
          0.0071905904792877815,
          0.007003811279375347,
          0.006974070979472958,
          0.00687895873690943,
          0.006938839270649239,
          0.006955880547582158
         ],
         "yaxis": "y"
        },
        {
         "hovertemplate": "num_threads=256<br>num_ifs=%{x}<br>mean=%{y}<extra></extra>",
         "legendgroup": "256",
         "line": {
          "color": "#9c179e",
          "dash": "solid"
         },
         "marker": {
          "symbol": "circle"
         },
         "mode": "lines",
         "name": "256",
         "orientation": "v",
         "showlegend": true,
         "type": "scatter",
         "x": [
          0,
          1,
          10,
          100,
          1000,
          10000
         ],
         "xaxis": "x",
         "y": [
          0.007004510470000002,
          0.006982015170000003,
          0.006926819089999998,
          0.007029669760000001,
          0.007041712090000001,
          0.00724335022
         ],
         "yaxis": "y"
        },
        {
         "fill": "toself",
         "fillcolor": "rgba(124,6,166,.3)",
         "hoverinfo": "skip",
         "legendgroup": "512",
         "line": {
          "color": "rgba(255,255,255,0)"
         },
         "showlegend": false,
         "type": "scatter",
         "x": [
          0,
          1,
          10,
          100,
          1000,
          10000,
          10000,
          1000,
          100,
          10,
          1,
          0
         ],
         "xaxis": "x",
         "y": [
          0.012100564800571695,
          0.01236698796808314,
          0.012162617298847376,
          0.011992076958099687,
          0.01181515275266368,
          0.0123945981306606,
          0.012305502229339411,
          0.011704822547336326,
          0.011802641201900319,
          0.01200270650115263,
          0.012127303611916856,
          0.01193593279942831
         ],
         "yaxis": "y"
        },
        {
         "hovertemplate": "num_threads=512<br>num_ifs=%{x}<br>mean=%{y}<extra></extra>",
         "legendgroup": "512",
         "line": {
          "color": "#7c06a6",
          "dash": "solid"
         },
         "marker": {
          "symbol": "circle"
         },
         "mode": "lines",
         "name": "512",
         "orientation": "v",
         "showlegend": true,
         "type": "scatter",
         "x": [
          0,
          1,
          10,
          100,
          1000,
          10000
         ],
         "xaxis": "x",
         "y": [
          0.012018248800000002,
          0.012247145789999999,
          0.012082661900000003,
          0.011897359080000003,
          0.011759987650000003,
          0.012350050180000006
         ],
         "yaxis": "y"
        },
        {
         "fill": "toself",
         "fillcolor": "rgba(92,2,163,.3)",
         "hoverinfo": "skip",
         "legendgroup": "1024",
         "line": {
          "color": "rgba(255,255,255,0)"
         },
         "showlegend": false,
         "type": "scatter",
         "x": [
          0,
          1,
          10,
          100,
          1000,
          10000,
          10000,
          1000,
          100,
          10,
          1,
          0
         ],
         "xaxis": "x",
         "y": [
          0.025959516865570163,
          0.02566999080110735,
          0.025913208544569303,
          0.025426987846049375,
          0.02517341023733662,
          0.02568534784304294,
          0.025514154856957058,
          0.02497969904266339,
          0.025121823053950658,
          0.025509325275430702,
          0.025301957018892665,
          0.025603000594429864
         ],
         "yaxis": "y"
        },
        {
         "hovertemplate": "num_threads=1024<br>num_ifs=%{x}<br>mean=%{y}<extra></extra>",
         "legendgroup": "1024",
         "line": {
          "color": "#5c02a3",
          "dash": "solid"
         },
         "marker": {
          "symbol": "circle"
         },
         "mode": "lines",
         "name": "1024",
         "orientation": "v",
         "showlegend": true,
         "type": "scatter",
         "x": [
          0,
          1,
          10,
          100,
          1000,
          10000
         ],
         "xaxis": "x",
         "y": [
          0.025781258730000013,
          0.025485973910000008,
          0.025711266910000002,
          0.025274405450000016,
          0.025076554640000005,
          0.025599751349999998
         ],
         "yaxis": "y"
        },
        {
         "fill": "toself",
         "fillcolor": "rgba(56,4,153,.3)",
         "hoverinfo": "skip",
         "legendgroup": "2048",
         "line": {
          "color": "rgba(255,255,255,0)"
         },
         "showlegend": false,
         "type": "scatter",
         "x": [
          0,
          1,
          10,
          100,
          1000,
          10000,
          10000,
          1000,
          100,
          10,
          1,
          0
         ],
         "xaxis": "x",
         "y": [
          0.06165636416611004,
          0.061991307453750366,
          0.06187116116762826,
          0.06232439524943595,
          0.06020495087992406,
          0.061807628121899084,
          0.0608297024581009,
          0.059598070020076,
          0.061617049010564084,
          0.0608879558123717,
          0.06107039154624962,
          0.060863847393889996
         ],
         "yaxis": "y"
        },
        {
         "hovertemplate": "num_threads=2048<br>num_ifs=%{x}<br>mean=%{y}<extra></extra>",
         "legendgroup": "2048",
         "line": {
          "color": "#380499",
          "dash": "solid"
         },
         "marker": {
          "symbol": "circle"
         },
         "mode": "lines",
         "name": "2048",
         "orientation": "v",
         "showlegend": true,
         "type": "scatter",
         "x": [
          0,
          1,
          10,
          100,
          1000,
          10000
         ],
         "xaxis": "x",
         "y": [
          0.06126010578000002,
          0.06153084949999999,
          0.06137955848999998,
          0.06197072213000002,
          0.05990151045000003,
          0.06131866528999999
         ],
         "yaxis": "y"
        },
        {
         "fill": "toself",
         "fillcolor": "rgba(13,8,135,.3)",
         "hoverinfo": "skip",
         "legendgroup": "4096",
         "line": {
          "color": "rgba(255,255,255,0)"
         },
         "showlegend": false,
         "type": "scatter",
         "x": [
          0,
          1,
          10,
          100,
          1000,
          10000,
          10000,
          1000,
          100,
          10,
          1,
          0
         ],
         "xaxis": "x",
         "y": [
          0.19411268835521156,
          0.19414596901822637,
          0.19476186285047833,
          0.19353771461641853,
          0.19315291595906345,
          0.19455641981233057,
          0.19362369474766944,
          0.19197381468093652,
          0.1921706044635816,
          0.1930342468495219,
          0.1924413106217737,
          0.19281186620478846
         ],
         "yaxis": "y"
        },
        {
         "hovertemplate": "num_threads=4096<br>num_ifs=%{x}<br>mean=%{y}<extra></extra>",
         "legendgroup": "4096",
         "line": {
          "color": "#0d0887",
          "dash": "solid"
         },
         "marker": {
          "symbol": "circle"
         },
         "mode": "lines",
         "name": "4096",
         "orientation": "v",
         "showlegend": true,
         "type": "scatter",
         "x": [
          0,
          1,
          10,
          100,
          1000,
          10000
         ],
         "xaxis": "x",
         "y": [
          0.19346227728,
          0.19329363982000003,
          0.1938980548500001,
          0.19285415954000007,
          0.19256336531999999,
          0.19409005728
         ],
         "yaxis": "y"
        }
       ],
       "layout": {
        "legend": {
         "title": {
          "text": "num_threads"
         },
         "tracegroupgap": 0
        },
        "margin": {
         "b": 0,
         "l": 0,
         "r": 120,
         "t": 50
        },
        "template": {
         "data": {
          "bar": [
           {
            "error_x": {
             "color": "#2a3f5f"
            },
            "error_y": {
             "color": "#2a3f5f"
            },
            "marker": {
             "line": {
              "color": "#E5ECF6",
              "width": 0.5
             },
             "pattern": {
              "fillmode": "overlay",
              "size": 10,
              "solidity": 0.2
             }
            },
            "type": "bar"
           }
          ],
          "barpolar": [
           {
            "marker": {
             "line": {
              "color": "#E5ECF6",
              "width": 0.5
             },
             "pattern": {
              "fillmode": "overlay",
              "size": 10,
              "solidity": 0.2
             }
            },
            "type": "barpolar"
           }
          ],
          "carpet": [
           {
            "aaxis": {
             "endlinecolor": "#2a3f5f",
             "gridcolor": "white",
             "linecolor": "white",
             "minorgridcolor": "white",
             "startlinecolor": "#2a3f5f"
            },
            "baxis": {
             "endlinecolor": "#2a3f5f",
             "gridcolor": "white",
             "linecolor": "white",
             "minorgridcolor": "white",
             "startlinecolor": "#2a3f5f"
            },
            "type": "carpet"
           }
          ],
          "choropleth": [
           {
            "colorbar": {
             "outlinewidth": 0,
             "ticks": ""
            },
            "type": "choropleth"
           }
          ],
          "contour": [
           {
            "colorbar": {
             "outlinewidth": 0,
             "ticks": ""
            },
            "colorscale": [
             [
              0,
              "#0d0887"
             ],
             [
              0.1111111111111111,
              "#46039f"
             ],
             [
              0.2222222222222222,
              "#7201a8"
             ],
             [
              0.3333333333333333,
              "#9c179e"
             ],
             [
              0.4444444444444444,
              "#bd3786"
             ],
             [
              0.5555555555555556,
              "#d8576b"
             ],
             [
              0.6666666666666666,
              "#ed7953"
             ],
             [
              0.7777777777777778,
              "#fb9f3a"
             ],
             [
              0.8888888888888888,
              "#fdca26"
             ],
             [
              1,
              "#f0f921"
             ]
            ],
            "type": "contour"
           }
          ],
          "contourcarpet": [
           {
            "colorbar": {
             "outlinewidth": 0,
             "ticks": ""
            },
            "type": "contourcarpet"
           }
          ],
          "heatmap": [
           {
            "colorbar": {
             "outlinewidth": 0,
             "ticks": ""
            },
            "colorscale": [
             [
              0,
              "#0d0887"
             ],
             [
              0.1111111111111111,
              "#46039f"
             ],
             [
              0.2222222222222222,
              "#7201a8"
             ],
             [
              0.3333333333333333,
              "#9c179e"
             ],
             [
              0.4444444444444444,
              "#bd3786"
             ],
             [
              0.5555555555555556,
              "#d8576b"
             ],
             [
              0.6666666666666666,
              "#ed7953"
             ],
             [
              0.7777777777777778,
              "#fb9f3a"
             ],
             [
              0.8888888888888888,
              "#fdca26"
             ],
             [
              1,
              "#f0f921"
             ]
            ],
            "type": "heatmap"
           }
          ],
          "heatmapgl": [
           {
            "colorbar": {
             "outlinewidth": 0,
             "ticks": ""
            },
            "colorscale": [
             [
              0,
              "#0d0887"
             ],
             [
              0.1111111111111111,
              "#46039f"
             ],
             [
              0.2222222222222222,
              "#7201a8"
             ],
             [
              0.3333333333333333,
              "#9c179e"
             ],
             [
              0.4444444444444444,
              "#bd3786"
             ],
             [
              0.5555555555555556,
              "#d8576b"
             ],
             [
              0.6666666666666666,
              "#ed7953"
             ],
             [
              0.7777777777777778,
              "#fb9f3a"
             ],
             [
              0.8888888888888888,
              "#fdca26"
             ],
             [
              1,
              "#f0f921"
             ]
            ],
            "type": "heatmapgl"
           }
          ],
          "histogram": [
           {
            "marker": {
             "pattern": {
              "fillmode": "overlay",
              "size": 10,
              "solidity": 0.2
             }
            },
            "type": "histogram"
           }
          ],
          "histogram2d": [
           {
            "colorbar": {
             "outlinewidth": 0,
             "ticks": ""
            },
            "colorscale": [
             [
              0,
              "#0d0887"
             ],
             [
              0.1111111111111111,
              "#46039f"
             ],
             [
              0.2222222222222222,
              "#7201a8"
             ],
             [
              0.3333333333333333,
              "#9c179e"
             ],
             [
              0.4444444444444444,
              "#bd3786"
             ],
             [
              0.5555555555555556,
              "#d8576b"
             ],
             [
              0.6666666666666666,
              "#ed7953"
             ],
             [
              0.7777777777777778,
              "#fb9f3a"
             ],
             [
              0.8888888888888888,
              "#fdca26"
             ],
             [
              1,
              "#f0f921"
             ]
            ],
            "type": "histogram2d"
           }
          ],
          "histogram2dcontour": [
           {
            "colorbar": {
             "outlinewidth": 0,
             "ticks": ""
            },
            "colorscale": [
             [
              0,
              "#0d0887"
             ],
             [
              0.1111111111111111,
              "#46039f"
             ],
             [
              0.2222222222222222,
              "#7201a8"
             ],
             [
              0.3333333333333333,
              "#9c179e"
             ],
             [
              0.4444444444444444,
              "#bd3786"
             ],
             [
              0.5555555555555556,
              "#d8576b"
             ],
             [
              0.6666666666666666,
              "#ed7953"
             ],
             [
              0.7777777777777778,
              "#fb9f3a"
             ],
             [
              0.8888888888888888,
              "#fdca26"
             ],
             [
              1,
              "#f0f921"
             ]
            ],
            "type": "histogram2dcontour"
           }
          ],
          "mesh3d": [
           {
            "colorbar": {
             "outlinewidth": 0,
             "ticks": ""
            },
            "type": "mesh3d"
           }
          ],
          "parcoords": [
           {
            "line": {
             "colorbar": {
              "outlinewidth": 0,
              "ticks": ""
             }
            },
            "type": "parcoords"
           }
          ],
          "pie": [
           {
            "automargin": true,
            "type": "pie"
           }
          ],
          "scatter": [
           {
            "fillpattern": {
             "fillmode": "overlay",
             "size": 10,
             "solidity": 0.2
            },
            "type": "scatter"
           }
          ],
          "scatter3d": [
           {
            "line": {
             "colorbar": {
              "outlinewidth": 0,
              "ticks": ""
             }
            },
            "marker": {
             "colorbar": {
              "outlinewidth": 0,
              "ticks": ""
             }
            },
            "type": "scatter3d"
           }
          ],
          "scattercarpet": [
           {
            "marker": {
             "colorbar": {
              "outlinewidth": 0,
              "ticks": ""
             }
            },
            "type": "scattercarpet"
           }
          ],
          "scattergeo": [
           {
            "marker": {
             "colorbar": {
              "outlinewidth": 0,
              "ticks": ""
             }
            },
            "type": "scattergeo"
           }
          ],
          "scattergl": [
           {
            "marker": {
             "colorbar": {
              "outlinewidth": 0,
              "ticks": ""
             }
            },
            "type": "scattergl"
           }
          ],
          "scattermapbox": [
           {
            "marker": {
             "colorbar": {
              "outlinewidth": 0,
              "ticks": ""
             }
            },
            "type": "scattermapbox"
           }
          ],
          "scatterpolar": [
           {
            "marker": {
             "colorbar": {
              "outlinewidth": 0,
              "ticks": ""
             }
            },
            "type": "scatterpolar"
           }
          ],
          "scatterpolargl": [
           {
            "marker": {
             "colorbar": {
              "outlinewidth": 0,
              "ticks": ""
             }
            },
            "type": "scatterpolargl"
           }
          ],
          "scatterternary": [
           {
            "marker": {
             "colorbar": {
              "outlinewidth": 0,
              "ticks": ""
             }
            },
            "type": "scatterternary"
           }
          ],
          "surface": [
           {
            "colorbar": {
             "outlinewidth": 0,
             "ticks": ""
            },
            "colorscale": [
             [
              0,
              "#0d0887"
             ],
             [
              0.1111111111111111,
              "#46039f"
             ],
             [
              0.2222222222222222,
              "#7201a8"
             ],
             [
              0.3333333333333333,
              "#9c179e"
             ],
             [
              0.4444444444444444,
              "#bd3786"
             ],
             [
              0.5555555555555556,
              "#d8576b"
             ],
             [
              0.6666666666666666,
              "#ed7953"
             ],
             [
              0.7777777777777778,
              "#fb9f3a"
             ],
             [
              0.8888888888888888,
              "#fdca26"
             ],
             [
              1,
              "#f0f921"
             ]
            ],
            "type": "surface"
           }
          ],
          "table": [
           {
            "cells": {
             "fill": {
              "color": "#EBF0F8"
             },
             "line": {
              "color": "white"
             }
            },
            "header": {
             "fill": {
              "color": "#C8D4E3"
             },
             "line": {
              "color": "white"
             }
            },
            "type": "table"
           }
          ]
         },
         "layout": {
          "annotationdefaults": {
           "arrowcolor": "#2a3f5f",
           "arrowhead": 0,
           "arrowwidth": 1
          },
          "autotypenumbers": "strict",
          "coloraxis": {
           "colorbar": {
            "outlinewidth": 0,
            "ticks": ""
           }
          },
          "colorscale": {
           "diverging": [
            [
             0,
             "#8e0152"
            ],
            [
             0.1,
             "#c51b7d"
            ],
            [
             0.2,
             "#de77ae"
            ],
            [
             0.3,
             "#f1b6da"
            ],
            [
             0.4,
             "#fde0ef"
            ],
            [
             0.5,
             "#f7f7f7"
            ],
            [
             0.6,
             "#e6f5d0"
            ],
            [
             0.7,
             "#b8e186"
            ],
            [
             0.8,
             "#7fbc41"
            ],
            [
             0.9,
             "#4d9221"
            ],
            [
             1,
             "#276419"
            ]
           ],
           "sequential": [
            [
             0,
             "#0d0887"
            ],
            [
             0.1111111111111111,
             "#46039f"
            ],
            [
             0.2222222222222222,
             "#7201a8"
            ],
            [
             0.3333333333333333,
             "#9c179e"
            ],
            [
             0.4444444444444444,
             "#bd3786"
            ],
            [
             0.5555555555555556,
             "#d8576b"
            ],
            [
             0.6666666666666666,
             "#ed7953"
            ],
            [
             0.7777777777777778,
             "#fb9f3a"
            ],
            [
             0.8888888888888888,
             "#fdca26"
            ],
            [
             1,
             "#f0f921"
            ]
           ],
           "sequentialminus": [
            [
             0,
             "#0d0887"
            ],
            [
             0.1111111111111111,
             "#46039f"
            ],
            [
             0.2222222222222222,
             "#7201a8"
            ],
            [
             0.3333333333333333,
             "#9c179e"
            ],
            [
             0.4444444444444444,
             "#bd3786"
            ],
            [
             0.5555555555555556,
             "#d8576b"
            ],
            [
             0.6666666666666666,
             "#ed7953"
            ],
            [
             0.7777777777777778,
             "#fb9f3a"
            ],
            [
             0.8888888888888888,
             "#fdca26"
            ],
            [
             1,
             "#f0f921"
            ]
           ]
          },
          "colorway": [
           "#636efa",
           "#EF553B",
           "#00cc96",
           "#ab63fa",
           "#FFA15A",
           "#19d3f3",
           "#FF6692",
           "#B6E880",
           "#FF97FF",
           "#FECB52"
          ],
          "font": {
           "color": "#2a3f5f"
          },
          "geo": {
           "bgcolor": "white",
           "lakecolor": "white",
           "landcolor": "#E5ECF6",
           "showlakes": true,
           "showland": true,
           "subunitcolor": "white"
          },
          "hoverlabel": {
           "align": "left"
          },
          "hovermode": "closest",
          "mapbox": {
           "style": "light"
          },
          "paper_bgcolor": "white",
          "plot_bgcolor": "#E5ECF6",
          "polar": {
           "angularaxis": {
            "gridcolor": "white",
            "linecolor": "white",
            "ticks": ""
           },
           "bgcolor": "#E5ECF6",
           "radialaxis": {
            "gridcolor": "white",
            "linecolor": "white",
            "ticks": ""
           }
          },
          "scene": {
           "xaxis": {
            "backgroundcolor": "#E5ECF6",
            "gridcolor": "white",
            "gridwidth": 2,
            "linecolor": "white",
            "showbackground": true,
            "ticks": "",
            "zerolinecolor": "white"
           },
           "yaxis": {
            "backgroundcolor": "#E5ECF6",
            "gridcolor": "white",
            "gridwidth": 2,
            "linecolor": "white",
            "showbackground": true,
            "ticks": "",
            "zerolinecolor": "white"
           },
           "zaxis": {
            "backgroundcolor": "#E5ECF6",
            "gridcolor": "white",
            "gridwidth": 2,
            "linecolor": "white",
            "showbackground": true,
            "ticks": "",
            "zerolinecolor": "white"
           }
          },
          "shapedefaults": {
           "line": {
            "color": "#2a3f5f"
           }
          },
          "ternary": {
           "aaxis": {
            "gridcolor": "white",
            "linecolor": "white",
            "ticks": ""
           },
           "baxis": {
            "gridcolor": "white",
            "linecolor": "white",
            "ticks": ""
           },
           "bgcolor": "#E5ECF6",
           "caxis": {
            "gridcolor": "white",
            "linecolor": "white",
            "ticks": ""
           }
          },
          "title": {
           "x": 0.05
          },
          "xaxis": {
           "automargin": true,
           "gridcolor": "white",
           "linecolor": "white",
           "ticks": "",
           "title": {
            "standoff": 15
           },
           "zerolinecolor": "white",
           "zerolinewidth": 2
          },
          "yaxis": {
           "automargin": true,
           "gridcolor": "white",
           "linecolor": "white",
           "ticks": "",
           "title": {
            "standoff": 15
           },
           "zerolinecolor": "white",
           "zerolinewidth": 2
          }
         }
        },
        "title": {
         "text": "Array size = 1000"
        },
        "xaxis": {
         "anchor": "y",
         "domain": [
          0,
          1
         ],
         "title": {
          "text": "num_ifs"
         },
         "type": "category"
        },
        "yaxis": {
         "anchor": "x",
         "domain": [
          0,
          1
         ],
         "title": {
          "text": "mean"
         },
         "type": "log"
        }
       }
      }
     },
     "metadata": {},
     "output_type": "display_data"
    },
    {
     "data": {
      "application/vnd.plotly.v1+json": {
       "config": {
        "plotlyServerURL": "https://plot.ly"
       },
       "data": [
        {
         "fill": "toself",
         "fillcolor": "rgba(240,249,33,.3)",
         "hoverinfo": "skip",
         "legendgroup": "1",
         "line": {
          "color": "rgba(255,255,255,0)"
         },
         "showlegend": false,
         "type": "scatter",
         "x": [
          0,
          1,
          10,
          100,
          1000,
          10000,
          10000,
          1000,
          100,
          10,
          1,
          0
         ],
         "xaxis": "x",
         "y": [
          0.007125036253530092,
          0.007118636117868533,
          0.007114667404135049,
          0.00710387443479699,
          0.00715852215939382,
          0.00752265690618659,
          0.007385516173813406,
          0.007049024980606179,
          0.006973373425203015,
          0.006965189975864954,
          0.007010425662131469,
          0.007051916706469912
         ],
         "yaxis": "y"
        },
        {
         "hovertemplate": "num_threads=1<br>num_ifs=%{x}<br>mean=%{y}<extra></extra>",
         "legendgroup": "1",
         "line": {
          "color": "#f0f921",
          "dash": "solid"
         },
         "marker": {
          "symbol": "circle"
         },
         "mode": "lines",
         "name": "1",
         "orientation": "v",
         "showlegend": true,
         "type": "scatter",
         "x": [
          0,
          1,
          10,
          100,
          1000,
          10000
         ],
         "xaxis": "x",
         "y": [
          0.007088476480000002,
          0.007064530890000001,
          0.0070399286900000016,
          0.007038623930000002,
          0.007103773569999999,
          0.007454086539999998
         ],
         "yaxis": "y"
        },
        {
         "fill": "toself",
         "fillcolor": "rgba(250,214,37,.3)",
         "hoverinfo": "skip",
         "legendgroup": "2",
         "line": {
          "color": "rgba(255,255,255,0)"
         },
         "showlegend": false,
         "type": "scatter",
         "x": [
          0,
          1,
          10,
          100,
          1000,
          10000,
          10000,
          1000,
          100,
          10,
          1,
          0
         ],
         "xaxis": "x",
         "y": [
          0.005903603456335639,
          0.0049280509774772595,
          0.00493594754296785,
          0.004978169201788939,
          0.005024120324616486,
          0.005357265796579943,
          0.005280736803420061,
          0.004959245615383512,
          0.004889509238211066,
          0.004844995677032153,
          0.004837761002522739,
          0.00559390720366437
         ],
         "yaxis": "y"
        },
        {
         "hovertemplate": "num_threads=2<br>num_ifs=%{x}<br>mean=%{y}<extra></extra>",
         "legendgroup": "2",
         "line": {
          "color": "#fad625",
          "dash": "solid"
         },
         "marker": {
          "symbol": "circle"
         },
         "mode": "lines",
         "name": "2",
         "orientation": "v",
         "showlegend": true,
         "type": "scatter",
         "x": [
          0,
          1,
          10,
          100,
          1000,
          10000
         ],
         "xaxis": "x",
         "y": [
          0.005748755330000004,
          0.004882905989999999,
          0.004890471610000001,
          0.004933839220000002,
          0.004991682969999999,
          0.005319001300000002
         ],
         "yaxis": "y"
        },
        {
         "fill": "toself",
         "fillcolor": "rgba(252,180,48,.3)",
         "hoverinfo": "skip",
         "legendgroup": "4",
         "line": {
          "color": "rgba(255,255,255,0)"
         },
         "showlegend": false,
         "type": "scatter",
         "x": [
          0,
          1,
          10,
          100,
          1000,
          10000,
          10000,
          1000,
          100,
          10,
          1,
          0
         ],
         "xaxis": "x",
         "y": [
          0.012408615564052077,
          0.004429620436295731,
          0.004602080228151684,
          0.004376911348679683,
          0.0043757215083894685,
          0.004720407060945702,
          0.004629544799054307,
          0.004307407651610532,
          0.004282093951320317,
          0.004206806971848315,
          0.004328313103704271,
          0.011862584955947924
         ],
         "yaxis": "y"
        },
        {
         "hovertemplate": "num_threads=4<br>num_ifs=%{x}<br>mean=%{y}<extra></extra>",
         "legendgroup": "4",
         "line": {
          "color": "#fcb430",
          "dash": "solid"
         },
         "marker": {
          "symbol": "circle"
         },
         "mode": "lines",
         "name": "4",
         "orientation": "v",
         "showlegend": true,
         "type": "scatter",
         "x": [
          0,
          1,
          10,
          100,
          1000,
          10000
         ],
         "xaxis": "x",
         "y": [
          0.01213560026,
          0.004378966770000001,
          0.004404443599999999,
          0.00432950265,
          0.00434156458,
          0.004674975930000005
         ],
         "yaxis": "y"
        },
        {
         "fill": "toself",
         "fillcolor": "rgba(248,150,64,.3)",
         "hoverinfo": "skip",
         "legendgroup": "8",
         "line": {
          "color": "rgba(255,255,255,0)"
         },
         "showlegend": false,
         "type": "scatter",
         "x": [
          0,
          1,
          10,
          100,
          1000,
          10000,
          10000,
          1000,
          100,
          10,
          1,
          0
         ],
         "xaxis": "x",
         "y": [
          0.017795660864646186,
          0.003919418081107641,
          0.003943702947687103,
          0.003953715014166978,
          0.003910418641372916,
          0.004289891467364243,
          0.00417071311263576,
          0.0038340253386270826,
          0.0038539843058330216,
          0.0038500305123128995,
          0.00381601475889236,
          0.01750042813535381
         ],
         "yaxis": "y"
        },
        {
         "hovertemplate": "num_threads=8<br>num_ifs=%{x}<br>mean=%{y}<extra></extra>",
         "legendgroup": "8",
         "line": {
          "color": "#f89640",
          "dash": "solid"
         },
         "marker": {
          "symbol": "circle"
         },
         "mode": "lines",
         "name": "8",
         "orientation": "v",
         "showlegend": true,
         "type": "scatter",
         "x": [
          0,
          1,
          10,
          100,
          1000,
          10000
         ],
         "xaxis": "x",
         "y": [
          0.017648044499999998,
          0.0038677164200000003,
          0.003896866730000001,
          0.00390384966,
          0.0038722219899999994,
          0.0042303022900000015
         ],
         "yaxis": "y"
        },
        {
         "fill": "toself",
         "fillcolor": "rgba(237,121,83,.3)",
         "hoverinfo": "skip",
         "legendgroup": "16",
         "line": {
          "color": "rgba(255,255,255,0)"
         },
         "showlegend": false,
         "type": "scatter",
         "x": [
          0,
          1,
          10,
          100,
          1000,
          10000,
          10000,
          1000,
          100,
          10,
          1,
          0
         ],
         "xaxis": "x",
         "y": [
          0.015385705761874771,
          0.003988357741158054,
          0.003831749669221093,
          0.003974106621112253,
          0.003918829477479578,
          0.0044063927631072496,
          0.00432185645689275,
          0.0038698270025204267,
          0.0038962857188877516,
          0.003747737150778904,
          0.003907911558841949,
          0.015093066598125232
         ],
         "yaxis": "y"
        },
        {
         "hovertemplate": "num_threads=16<br>num_ifs=%{x}<br>mean=%{y}<extra></extra>",
         "legendgroup": "16",
         "line": {
          "color": "#ed7953",
          "dash": "solid"
         },
         "marker": {
          "symbol": "circle"
         },
         "mode": "lines",
         "name": "16",
         "orientation": "v",
         "showlegend": true,
         "type": "scatter",
         "x": [
          0,
          1,
          10,
          100,
          1000,
          10000
         ],
         "xaxis": "x",
         "y": [
          0.015239386180000002,
          0.003948134650000002,
          0.0037897434099999983,
          0.003935196170000002,
          0.0038943282400000024,
          0.00436412461
         ],
         "yaxis": "y"
        },
        {
         "fill": "toself",
         "fillcolor": "rgba(221,95,101,.3)",
         "hoverinfo": "skip",
         "legendgroup": "32",
         "line": {
          "color": "rgba(255,255,255,0)"
         },
         "showlegend": false,
         "type": "scatter",
         "x": [
          0,
          1,
          10,
          100,
          1000,
          10000,
          10000,
          1000,
          100,
          10,
          1,
          0
         ],
         "xaxis": "x",
         "y": [
          0.01462646362939587,
          0.0040118106684985735,
          0.004166702041991879,
          0.004021922197858844,
          0.004131758563977713,
          0.004521065700589493,
          0.004454772979410506,
          0.004062911636022288,
          0.003959957522141158,
          0.004105402458008123,
          0.003940269071501426,
          0.014366017850604132
         ],
         "yaxis": "y"
        },
        {
         "hovertemplate": "num_threads=32<br>num_ifs=%{x}<br>mean=%{y}<extra></extra>",
         "legendgroup": "32",
         "line": {
          "color": "#dd5f65",
          "dash": "solid"
         },
         "marker": {
          "symbol": "circle"
         },
         "mode": "lines",
         "name": "32",
         "orientation": "v",
         "showlegend": true,
         "type": "scatter",
         "x": [
          0,
          1,
          10,
          100,
          1000,
          10000
         ],
         "xaxis": "x",
         "y": [
          0.014496240740000001,
          0.00397603987,
          0.004136052250000001,
          0.003990939860000001,
          0.0040973351,
          0.0044879193399999994
         ],
         "yaxis": "y"
        },
        {
         "fill": "toself",
         "fillcolor": "rgba(203,71,120,.3)",
         "hoverinfo": "skip",
         "legendgroup": "64",
         "line": {
          "color": "rgba(255,255,255,0)"
         },
         "showlegend": false,
         "type": "scatter",
         "x": [
          0,
          1,
          10,
          100,
          1000,
          10000,
          10000,
          1000,
          100,
          10,
          1,
          0
         ],
         "xaxis": "x",
         "y": [
          0.014726544891034843,
          0.004564695097299005,
          0.0043011569139779285,
          0.004287736234806756,
          0.004432902269524135,
          0.004813638042618401,
          0.004731533457381598,
          0.004368477710475863,
          0.004212480505193248,
          0.004235965286022067,
          0.004473519062701,
          0.01443537574896516
         ],
         "yaxis": "y"
        },
        {
         "hovertemplate": "num_threads=64<br>num_ifs=%{x}<br>mean=%{y}<extra></extra>",
         "legendgroup": "64",
         "line": {
          "color": "#cb4778",
          "dash": "solid"
         },
         "marker": {
          "symbol": "circle"
         },
         "mode": "lines",
         "name": "64",
         "orientation": "v",
         "showlegend": true,
         "type": "scatter",
         "x": [
          0,
          1,
          10,
          100,
          1000,
          10000
         ],
         "xaxis": "x",
         "y": [
          0.014580960320000001,
          0.004519107080000003,
          0.004268561099999998,
          0.004250108370000002,
          0.004400689989999999,
          0.00477258575
         ],
         "yaxis": "y"
        },
        {
         "fill": "toself",
         "fillcolor": "rgba(181,47,140,.3)",
         "hoverinfo": "skip",
         "legendgroup": "128",
         "line": {
          "color": "rgba(255,255,255,0)"
         },
         "showlegend": false,
         "type": "scatter",
         "x": [
          0,
          1,
          10,
          100,
          1000,
          10000,
          10000,
          1000,
          100,
          10,
          1,
          0
         ],
         "xaxis": "x",
         "y": [
          0.01380851013594677,
          0.005224221531451415,
          0.005282803008633675,
          0.004468508777688067,
          0.005426906810913639,
          0.005868883003577081,
          0.005749293576422922,
          0.005377357389086361,
          0.00438637300231193,
          0.005211721091366317,
          0.0051600716885485814,
          0.013463172944053237
         ],
         "yaxis": "y"
        },
        {
         "hovertemplate": "num_threads=128<br>num_ifs=%{x}<br>mean=%{y}<extra></extra>",
         "legendgroup": "128",
         "line": {
          "color": "#b52f8c",
          "dash": "solid"
         },
         "marker": {
          "symbol": "circle"
         },
         "mode": "lines",
         "name": "128",
         "orientation": "v",
         "showlegend": true,
         "type": "scatter",
         "x": [
          0,
          1,
          10,
          100,
          1000,
          10000
         ],
         "xaxis": "x",
         "y": [
          0.013635841540000004,
          0.005192146609999998,
          0.005247262049999996,
          0.0044274408899999985,
          0.0054021321,
          0.005809088290000002
         ],
         "yaxis": "y"
        },
        {
         "fill": "toself",
         "fillcolor": "rgba(156,23,158,.3)",
         "hoverinfo": "skip",
         "legendgroup": "256",
         "line": {
          "color": "rgba(255,255,255,0)"
         },
         "showlegend": false,
         "type": "scatter",
         "x": [
          0,
          1,
          10,
          100,
          1000,
          10000,
          10000,
          1000,
          100,
          10,
          1,
          0
         ],
         "xaxis": "x",
         "y": [
          0.012789750838336791,
          0.007691636904838907,
          0.007652525054508672,
          0.00769425328058083,
          0.007747258442515048,
          0.007796150344289319,
          0.007707869515710685,
          0.007676254197484948,
          0.007594467899419167,
          0.0075480651254913305,
          0.0075971952951611,
          0.012486046721663192
         ],
         "yaxis": "y"
        },
        {
         "hovertemplate": "num_threads=256<br>num_ifs=%{x}<br>mean=%{y}<extra></extra>",
         "legendgroup": "256",
         "line": {
          "color": "#9c179e",
          "dash": "solid"
         },
         "marker": {
          "symbol": "circle"
         },
         "mode": "lines",
         "name": "256",
         "orientation": "v",
         "showlegend": true,
         "type": "scatter",
         "x": [
          0,
          1,
          10,
          100,
          1000,
          10000
         ],
         "xaxis": "x",
         "y": [
          0.012637898779999992,
          0.007644416100000003,
          0.007600295090000001,
          0.007644360589999999,
          0.007711756319999998,
          0.007752009930000002
         ],
         "yaxis": "y"
        },
        {
         "fill": "toself",
         "fillcolor": "rgba(124,6,166,.3)",
         "hoverinfo": "skip",
         "legendgroup": "512",
         "line": {
          "color": "rgba(255,255,255,0)"
         },
         "showlegend": false,
         "type": "scatter",
         "x": [
          0,
          1,
          10,
          100,
          1000,
          10000,
          10000,
          1000,
          100,
          10,
          1,
          0
         ],
         "xaxis": "x",
         "y": [
          0.016632139003105548,
          0.013062200249390015,
          0.013009013206266098,
          0.012998279037497323,
          0.013172356417727911,
          0.013066987822718838,
          0.012924743997281161,
          0.012930344942272083,
          0.012809563422502675,
          0.012856463053733905,
          0.012908085130609988,
          0.01643369267689445
         ],
         "yaxis": "y"
        },
        {
         "hovertemplate": "num_threads=512<br>num_ifs=%{x}<br>mean=%{y}<extra></extra>",
         "legendgroup": "512",
         "line": {
          "color": "#7c06a6",
          "dash": "solid"
         },
         "marker": {
          "symbol": "circle"
         },
         "mode": "lines",
         "name": "512",
         "orientation": "v",
         "showlegend": true,
         "type": "scatter",
         "x": [
          0,
          1,
          10,
          100,
          1000,
          10000
         ],
         "xaxis": "x",
         "y": [
          0.01653291584,
          0.012985142690000001,
          0.012932738130000001,
          0.012903921229999999,
          0.013051350679999997,
          0.01299586591
         ],
         "yaxis": "y"
        },
        {
         "fill": "toself",
         "fillcolor": "rgba(92,2,163,.3)",
         "hoverinfo": "skip",
         "legendgroup": "1024",
         "line": {
          "color": "rgba(255,255,255,0)"
         },
         "showlegend": false,
         "type": "scatter",
         "x": [
          0,
          1,
          10,
          100,
          1000,
          10000,
          10000,
          1000,
          100,
          10,
          1,
          0
         ],
         "xaxis": "x",
         "y": [
          0.026786219790894687,
          0.027510168919522328,
          0.027186512597186643,
          0.026920935651842313,
          0.026446934086063387,
          0.027596064164348035,
          0.027345579835651956,
          0.02623246029393662,
          0.026616701848157686,
          0.026921834302813377,
          0.027220892520477664,
          0.026510475249105315
         ],
         "yaxis": "y"
        },
        {
         "hovertemplate": "num_threads=1024<br>num_ifs=%{x}<br>mean=%{y}<extra></extra>",
         "legendgroup": "1024",
         "line": {
          "color": "#5c02a3",
          "dash": "solid"
         },
         "marker": {
          "symbol": "circle"
         },
         "mode": "lines",
         "name": "1024",
         "orientation": "v",
         "showlegend": true,
         "type": "scatter",
         "x": [
          0,
          1,
          10,
          100,
          1000,
          10000
         ],
         "xaxis": "x",
         "y": [
          0.02664834752,
          0.027365530719999996,
          0.02705417345000001,
          0.02676881875,
          0.026339697190000004,
          0.027470821999999995
         ],
         "yaxis": "y"
        },
        {
         "fill": "toself",
         "fillcolor": "rgba(56,4,153,.3)",
         "hoverinfo": "skip",
         "legendgroup": "2048",
         "line": {
          "color": "rgba(255,255,255,0)"
         },
         "showlegend": false,
         "type": "scatter",
         "x": [
          0,
          1,
          10,
          100,
          1000,
          10000,
          10000,
          1000,
          100,
          10,
          1,
          0
         ],
         "xaxis": "x",
         "y": [
          0.06384924208604326,
          0.06423051728114842,
          0.06432148582054997,
          0.06383556361115339,
          0.06251837100928882,
          0.06409787600492277,
          0.06353017375507723,
          0.06190562681071118,
          0.06305945076884659,
          0.06351173647945002,
          0.06349304419885154,
          0.06305920155395672
         ],
         "yaxis": "y"
        },
        {
         "hovertemplate": "num_threads=2048<br>num_ifs=%{x}<br>mean=%{y}<extra></extra>",
         "legendgroup": "2048",
         "line": {
          "color": "#380499",
          "dash": "solid"
         },
         "marker": {
          "symbol": "circle"
         },
         "mode": "lines",
         "name": "2048",
         "orientation": "v",
         "showlegend": true,
         "type": "scatter",
         "x": [
          0,
          1,
          10,
          100,
          1000,
          10000
         ],
         "xaxis": "x",
         "y": [
          0.06345422181999999,
          0.06386178073999998,
          0.06391661115,
          0.06344750718999999,
          0.062211998909999996,
          0.06381402488
         ],
         "yaxis": "y"
        },
        {
         "fill": "toself",
         "fillcolor": "rgba(13,8,135,.3)",
         "hoverinfo": "skip",
         "legendgroup": "4096",
         "line": {
          "color": "rgba(255,255,255,0)"
         },
         "showlegend": false,
         "type": "scatter",
         "x": [
          0,
          1,
          10,
          100,
          1000,
          10000,
          10000,
          1000,
          100,
          10,
          1,
          0
         ],
         "xaxis": "x",
         "y": [
          0.19923291949751146,
          0.1985019585261777,
          0.19853139956002613,
          0.19810423564309915,
          0.196665952477106,
          0.19854675504004143,
          0.19722978411995867,
          0.19568485192289414,
          0.196794264976901,
          0.1971865497399739,
          0.19677769571382242,
          0.1969414652824886
         ],
         "yaxis": "y"
        },
        {
         "hovertemplate": "num_threads=4096<br>num_ifs=%{x}<br>mean=%{y}<extra></extra>",
         "legendgroup": "4096",
         "line": {
          "color": "#0d0887",
          "dash": "solid"
         },
         "marker": {
          "symbol": "circle"
         },
         "mode": "lines",
         "name": "4096",
         "orientation": "v",
         "showlegend": true,
         "type": "scatter",
         "x": [
          0,
          1,
          10,
          100,
          1000,
          10000
         ],
         "xaxis": "x",
         "y": [
          0.19808719239000003,
          0.19763982712000006,
          0.19785897465000002,
          0.19744925031000007,
          0.19617540220000007,
          0.19788826958000005
         ],
         "yaxis": "y"
        }
       ],
       "layout": {
        "legend": {
         "title": {
          "text": "num_threads"
         },
         "tracegroupgap": 0
        },
        "margin": {
         "b": 0,
         "l": 0,
         "r": 120,
         "t": 50
        },
        "template": {
         "data": {
          "bar": [
           {
            "error_x": {
             "color": "#2a3f5f"
            },
            "error_y": {
             "color": "#2a3f5f"
            },
            "marker": {
             "line": {
              "color": "#E5ECF6",
              "width": 0.5
             },
             "pattern": {
              "fillmode": "overlay",
              "size": 10,
              "solidity": 0.2
             }
            },
            "type": "bar"
           }
          ],
          "barpolar": [
           {
            "marker": {
             "line": {
              "color": "#E5ECF6",
              "width": 0.5
             },
             "pattern": {
              "fillmode": "overlay",
              "size": 10,
              "solidity": 0.2
             }
            },
            "type": "barpolar"
           }
          ],
          "carpet": [
           {
            "aaxis": {
             "endlinecolor": "#2a3f5f",
             "gridcolor": "white",
             "linecolor": "white",
             "minorgridcolor": "white",
             "startlinecolor": "#2a3f5f"
            },
            "baxis": {
             "endlinecolor": "#2a3f5f",
             "gridcolor": "white",
             "linecolor": "white",
             "minorgridcolor": "white",
             "startlinecolor": "#2a3f5f"
            },
            "type": "carpet"
           }
          ],
          "choropleth": [
           {
            "colorbar": {
             "outlinewidth": 0,
             "ticks": ""
            },
            "type": "choropleth"
           }
          ],
          "contour": [
           {
            "colorbar": {
             "outlinewidth": 0,
             "ticks": ""
            },
            "colorscale": [
             [
              0,
              "#0d0887"
             ],
             [
              0.1111111111111111,
              "#46039f"
             ],
             [
              0.2222222222222222,
              "#7201a8"
             ],
             [
              0.3333333333333333,
              "#9c179e"
             ],
             [
              0.4444444444444444,
              "#bd3786"
             ],
             [
              0.5555555555555556,
              "#d8576b"
             ],
             [
              0.6666666666666666,
              "#ed7953"
             ],
             [
              0.7777777777777778,
              "#fb9f3a"
             ],
             [
              0.8888888888888888,
              "#fdca26"
             ],
             [
              1,
              "#f0f921"
             ]
            ],
            "type": "contour"
           }
          ],
          "contourcarpet": [
           {
            "colorbar": {
             "outlinewidth": 0,
             "ticks": ""
            },
            "type": "contourcarpet"
           }
          ],
          "heatmap": [
           {
            "colorbar": {
             "outlinewidth": 0,
             "ticks": ""
            },
            "colorscale": [
             [
              0,
              "#0d0887"
             ],
             [
              0.1111111111111111,
              "#46039f"
             ],
             [
              0.2222222222222222,
              "#7201a8"
             ],
             [
              0.3333333333333333,
              "#9c179e"
             ],
             [
              0.4444444444444444,
              "#bd3786"
             ],
             [
              0.5555555555555556,
              "#d8576b"
             ],
             [
              0.6666666666666666,
              "#ed7953"
             ],
             [
              0.7777777777777778,
              "#fb9f3a"
             ],
             [
              0.8888888888888888,
              "#fdca26"
             ],
             [
              1,
              "#f0f921"
             ]
            ],
            "type": "heatmap"
           }
          ],
          "heatmapgl": [
           {
            "colorbar": {
             "outlinewidth": 0,
             "ticks": ""
            },
            "colorscale": [
             [
              0,
              "#0d0887"
             ],
             [
              0.1111111111111111,
              "#46039f"
             ],
             [
              0.2222222222222222,
              "#7201a8"
             ],
             [
              0.3333333333333333,
              "#9c179e"
             ],
             [
              0.4444444444444444,
              "#bd3786"
             ],
             [
              0.5555555555555556,
              "#d8576b"
             ],
             [
              0.6666666666666666,
              "#ed7953"
             ],
             [
              0.7777777777777778,
              "#fb9f3a"
             ],
             [
              0.8888888888888888,
              "#fdca26"
             ],
             [
              1,
              "#f0f921"
             ]
            ],
            "type": "heatmapgl"
           }
          ],
          "histogram": [
           {
            "marker": {
             "pattern": {
              "fillmode": "overlay",
              "size": 10,
              "solidity": 0.2
             }
            },
            "type": "histogram"
           }
          ],
          "histogram2d": [
           {
            "colorbar": {
             "outlinewidth": 0,
             "ticks": ""
            },
            "colorscale": [
             [
              0,
              "#0d0887"
             ],
             [
              0.1111111111111111,
              "#46039f"
             ],
             [
              0.2222222222222222,
              "#7201a8"
             ],
             [
              0.3333333333333333,
              "#9c179e"
             ],
             [
              0.4444444444444444,
              "#bd3786"
             ],
             [
              0.5555555555555556,
              "#d8576b"
             ],
             [
              0.6666666666666666,
              "#ed7953"
             ],
             [
              0.7777777777777778,
              "#fb9f3a"
             ],
             [
              0.8888888888888888,
              "#fdca26"
             ],
             [
              1,
              "#f0f921"
             ]
            ],
            "type": "histogram2d"
           }
          ],
          "histogram2dcontour": [
           {
            "colorbar": {
             "outlinewidth": 0,
             "ticks": ""
            },
            "colorscale": [
             [
              0,
              "#0d0887"
             ],
             [
              0.1111111111111111,
              "#46039f"
             ],
             [
              0.2222222222222222,
              "#7201a8"
             ],
             [
              0.3333333333333333,
              "#9c179e"
             ],
             [
              0.4444444444444444,
              "#bd3786"
             ],
             [
              0.5555555555555556,
              "#d8576b"
             ],
             [
              0.6666666666666666,
              "#ed7953"
             ],
             [
              0.7777777777777778,
              "#fb9f3a"
             ],
             [
              0.8888888888888888,
              "#fdca26"
             ],
             [
              1,
              "#f0f921"
             ]
            ],
            "type": "histogram2dcontour"
           }
          ],
          "mesh3d": [
           {
            "colorbar": {
             "outlinewidth": 0,
             "ticks": ""
            },
            "type": "mesh3d"
           }
          ],
          "parcoords": [
           {
            "line": {
             "colorbar": {
              "outlinewidth": 0,
              "ticks": ""
             }
            },
            "type": "parcoords"
           }
          ],
          "pie": [
           {
            "automargin": true,
            "type": "pie"
           }
          ],
          "scatter": [
           {
            "fillpattern": {
             "fillmode": "overlay",
             "size": 10,
             "solidity": 0.2
            },
            "type": "scatter"
           }
          ],
          "scatter3d": [
           {
            "line": {
             "colorbar": {
              "outlinewidth": 0,
              "ticks": ""
             }
            },
            "marker": {
             "colorbar": {
              "outlinewidth": 0,
              "ticks": ""
             }
            },
            "type": "scatter3d"
           }
          ],
          "scattercarpet": [
           {
            "marker": {
             "colorbar": {
              "outlinewidth": 0,
              "ticks": ""
             }
            },
            "type": "scattercarpet"
           }
          ],
          "scattergeo": [
           {
            "marker": {
             "colorbar": {
              "outlinewidth": 0,
              "ticks": ""
             }
            },
            "type": "scattergeo"
           }
          ],
          "scattergl": [
           {
            "marker": {
             "colorbar": {
              "outlinewidth": 0,
              "ticks": ""
             }
            },
            "type": "scattergl"
           }
          ],
          "scattermapbox": [
           {
            "marker": {
             "colorbar": {
              "outlinewidth": 0,
              "ticks": ""
             }
            },
            "type": "scattermapbox"
           }
          ],
          "scatterpolar": [
           {
            "marker": {
             "colorbar": {
              "outlinewidth": 0,
              "ticks": ""
             }
            },
            "type": "scatterpolar"
           }
          ],
          "scatterpolargl": [
           {
            "marker": {
             "colorbar": {
              "outlinewidth": 0,
              "ticks": ""
             }
            },
            "type": "scatterpolargl"
           }
          ],
          "scatterternary": [
           {
            "marker": {
             "colorbar": {
              "outlinewidth": 0,
              "ticks": ""
             }
            },
            "type": "scatterternary"
           }
          ],
          "surface": [
           {
            "colorbar": {
             "outlinewidth": 0,
             "ticks": ""
            },
            "colorscale": [
             [
              0,
              "#0d0887"
             ],
             [
              0.1111111111111111,
              "#46039f"
             ],
             [
              0.2222222222222222,
              "#7201a8"
             ],
             [
              0.3333333333333333,
              "#9c179e"
             ],
             [
              0.4444444444444444,
              "#bd3786"
             ],
             [
              0.5555555555555556,
              "#d8576b"
             ],
             [
              0.6666666666666666,
              "#ed7953"
             ],
             [
              0.7777777777777778,
              "#fb9f3a"
             ],
             [
              0.8888888888888888,
              "#fdca26"
             ],
             [
              1,
              "#f0f921"
             ]
            ],
            "type": "surface"
           }
          ],
          "table": [
           {
            "cells": {
             "fill": {
              "color": "#EBF0F8"
             },
             "line": {
              "color": "white"
             }
            },
            "header": {
             "fill": {
              "color": "#C8D4E3"
             },
             "line": {
              "color": "white"
             }
            },
            "type": "table"
           }
          ]
         },
         "layout": {
          "annotationdefaults": {
           "arrowcolor": "#2a3f5f",
           "arrowhead": 0,
           "arrowwidth": 1
          },
          "autotypenumbers": "strict",
          "coloraxis": {
           "colorbar": {
            "outlinewidth": 0,
            "ticks": ""
           }
          },
          "colorscale": {
           "diverging": [
            [
             0,
             "#8e0152"
            ],
            [
             0.1,
             "#c51b7d"
            ],
            [
             0.2,
             "#de77ae"
            ],
            [
             0.3,
             "#f1b6da"
            ],
            [
             0.4,
             "#fde0ef"
            ],
            [
             0.5,
             "#f7f7f7"
            ],
            [
             0.6,
             "#e6f5d0"
            ],
            [
             0.7,
             "#b8e186"
            ],
            [
             0.8,
             "#7fbc41"
            ],
            [
             0.9,
             "#4d9221"
            ],
            [
             1,
             "#276419"
            ]
           ],
           "sequential": [
            [
             0,
             "#0d0887"
            ],
            [
             0.1111111111111111,
             "#46039f"
            ],
            [
             0.2222222222222222,
             "#7201a8"
            ],
            [
             0.3333333333333333,
             "#9c179e"
            ],
            [
             0.4444444444444444,
             "#bd3786"
            ],
            [
             0.5555555555555556,
             "#d8576b"
            ],
            [
             0.6666666666666666,
             "#ed7953"
            ],
            [
             0.7777777777777778,
             "#fb9f3a"
            ],
            [
             0.8888888888888888,
             "#fdca26"
            ],
            [
             1,
             "#f0f921"
            ]
           ],
           "sequentialminus": [
            [
             0,
             "#0d0887"
            ],
            [
             0.1111111111111111,
             "#46039f"
            ],
            [
             0.2222222222222222,
             "#7201a8"
            ],
            [
             0.3333333333333333,
             "#9c179e"
            ],
            [
             0.4444444444444444,
             "#bd3786"
            ],
            [
             0.5555555555555556,
             "#d8576b"
            ],
            [
             0.6666666666666666,
             "#ed7953"
            ],
            [
             0.7777777777777778,
             "#fb9f3a"
            ],
            [
             0.8888888888888888,
             "#fdca26"
            ],
            [
             1,
             "#f0f921"
            ]
           ]
          },
          "colorway": [
           "#636efa",
           "#EF553B",
           "#00cc96",
           "#ab63fa",
           "#FFA15A",
           "#19d3f3",
           "#FF6692",
           "#B6E880",
           "#FF97FF",
           "#FECB52"
          ],
          "font": {
           "color": "#2a3f5f"
          },
          "geo": {
           "bgcolor": "white",
           "lakecolor": "white",
           "landcolor": "#E5ECF6",
           "showlakes": true,
           "showland": true,
           "subunitcolor": "white"
          },
          "hoverlabel": {
           "align": "left"
          },
          "hovermode": "closest",
          "mapbox": {
           "style": "light"
          },
          "paper_bgcolor": "white",
          "plot_bgcolor": "#E5ECF6",
          "polar": {
           "angularaxis": {
            "gridcolor": "white",
            "linecolor": "white",
            "ticks": ""
           },
           "bgcolor": "#E5ECF6",
           "radialaxis": {
            "gridcolor": "white",
            "linecolor": "white",
            "ticks": ""
           }
          },
          "scene": {
           "xaxis": {
            "backgroundcolor": "#E5ECF6",
            "gridcolor": "white",
            "gridwidth": 2,
            "linecolor": "white",
            "showbackground": true,
            "ticks": "",
            "zerolinecolor": "white"
           },
           "yaxis": {
            "backgroundcolor": "#E5ECF6",
            "gridcolor": "white",
            "gridwidth": 2,
            "linecolor": "white",
            "showbackground": true,
            "ticks": "",
            "zerolinecolor": "white"
           },
           "zaxis": {
            "backgroundcolor": "#E5ECF6",
            "gridcolor": "white",
            "gridwidth": 2,
            "linecolor": "white",
            "showbackground": true,
            "ticks": "",
            "zerolinecolor": "white"
           }
          },
          "shapedefaults": {
           "line": {
            "color": "#2a3f5f"
           }
          },
          "ternary": {
           "aaxis": {
            "gridcolor": "white",
            "linecolor": "white",
            "ticks": ""
           },
           "baxis": {
            "gridcolor": "white",
            "linecolor": "white",
            "ticks": ""
           },
           "bgcolor": "#E5ECF6",
           "caxis": {
            "gridcolor": "white",
            "linecolor": "white",
            "ticks": ""
           }
          },
          "title": {
           "x": 0.05
          },
          "xaxis": {
           "automargin": true,
           "gridcolor": "white",
           "linecolor": "white",
           "ticks": "",
           "title": {
            "standoff": 15
           },
           "zerolinecolor": "white",
           "zerolinewidth": 2
          },
          "yaxis": {
           "automargin": true,
           "gridcolor": "white",
           "linecolor": "white",
           "ticks": "",
           "title": {
            "standoff": 15
           },
           "zerolinecolor": "white",
           "zerolinewidth": 2
          }
         }
        },
        "title": {
         "text": "Array size = 10000"
        },
        "xaxis": {
         "anchor": "y",
         "domain": [
          0,
          1
         ],
         "title": {
          "text": "num_ifs"
         },
         "type": "category"
        },
        "yaxis": {
         "anchor": "x",
         "domain": [
          0,
          1
         ],
         "title": {
          "text": "mean"
         },
         "type": "log"
        }
       }
      }
     },
     "metadata": {},
     "output_type": "display_data"
    },
    {
     "data": {
      "application/vnd.plotly.v1+json": {
       "config": {
        "plotlyServerURL": "https://plot.ly"
       },
       "data": [
        {
         "fill": "toself",
         "fillcolor": "rgba(240,249,33,.3)",
         "hoverinfo": "skip",
         "legendgroup": "1",
         "line": {
          "color": "rgba(255,255,255,0)"
         },
         "showlegend": false,
         "type": "scatter",
         "x": [
          0,
          1,
          10,
          100,
          1000,
          10000,
          10000,
          1000,
          100,
          10,
          1,
          0
         ],
         "xaxis": "x",
         "y": [
          0.044451444594086,
          0.043513371602020776,
          0.04338732334252456,
          0.0443194488154251,
          0.043577964123197734,
          0.04377660003366367,
          0.043452549066336346,
          0.04319312373680232,
          0.043295540544574865,
          0.043069782577475436,
          0.043227974357979204,
          0.044205557965914
         ],
         "yaxis": "y"
        },
        {
         "hovertemplate": "num_threads=1<br>num_ifs=%{x}<br>mean=%{y}<extra></extra>",
         "legendgroup": "1",
         "line": {
          "color": "#f0f921",
          "dash": "solid"
         },
         "marker": {
          "symbol": "circle"
         },
         "mode": "lines",
         "name": "1",
         "orientation": "v",
         "showlegend": true,
         "type": "scatter",
         "x": [
          0,
          1,
          10,
          100,
          1000,
          10000
         ],
         "xaxis": "x",
         "y": [
          0.04432850128,
          0.04337067297999999,
          0.04322855296,
          0.04380749467999998,
          0.04338554393000003,
          0.04361457455000001
         ],
         "yaxis": "y"
        },
        {
         "fill": "toself",
         "fillcolor": "rgba(250,214,37,.3)",
         "hoverinfo": "skip",
         "legendgroup": "2",
         "line": {
          "color": "rgba(255,255,255,0)"
         },
         "showlegend": false,
         "type": "scatter",
         "x": [
          0,
          1,
          10,
          100,
          1000,
          10000,
          10000,
          1000,
          100,
          10,
          1,
          0
         ],
         "xaxis": "x",
         "y": [
          0.03408538261868231,
          0.024228680240175215,
          0.02422872995728079,
          0.024235667386486213,
          0.02411241081133498,
          0.024702843507533396,
          0.02449447703246661,
          0.023974626328665004,
          0.02403325845351379,
          0.02401827382271921,
          0.024040537979824785,
          0.030813665721317687
         ],
         "yaxis": "y"
        },
        {
         "hovertemplate": "num_threads=2<br>num_ifs=%{x}<br>mean=%{y}<extra></extra>",
         "legendgroup": "2",
         "line": {
          "color": "#fad625",
          "dash": "solid"
         },
         "marker": {
          "symbol": "circle"
         },
         "mode": "lines",
         "name": "2",
         "orientation": "v",
         "showlegend": true,
         "type": "scatter",
         "x": [
          0,
          1,
          10,
          100,
          1000,
          10000
         ],
         "xaxis": "x",
         "y": [
          0.03244952417,
          0.02413460911,
          0.02412350189,
          0.024134462920000002,
          0.02404351856999999,
          0.024598660270000003
         ],
         "yaxis": "y"
        },
        {
         "fill": "toself",
         "fillcolor": "rgba(252,180,48,.3)",
         "hoverinfo": "skip",
         "legendgroup": "4",
         "line": {
          "color": "rgba(255,255,255,0)"
         },
         "showlegend": false,
         "type": "scatter",
         "x": [
          0,
          1,
          10,
          100,
          1000,
          10000,
          10000,
          1000,
          100,
          10,
          1,
          0
         ],
         "xaxis": "x",
         "y": [
          0.10202100786978853,
          0.017692364687968476,
          0.01825707544744955,
          0.017469017184525225,
          0.017343266330266817,
          0.01766731964069207,
          0.017375701979307934,
          0.01703103780973319,
          0.017076352115474785,
          0.017826687152550442,
          0.017190905072031533,
          0.09903864673021141
         ],
         "yaxis": "y"
        },
        {
         "hovertemplate": "num_threads=4<br>num_ifs=%{x}<br>mean=%{y}<extra></extra>",
         "legendgroup": "4",
         "line": {
          "color": "#fcb430",
          "dash": "solid"
         },
         "marker": {
          "symbol": "circle"
         },
         "mode": "lines",
         "name": "4",
         "orientation": "v",
         "showlegend": true,
         "type": "scatter",
         "x": [
          0,
          1,
          10,
          100,
          1000,
          10000
         ],
         "xaxis": "x",
         "y": [
          0.10052982729999997,
          0.017441634880000004,
          0.018041881299999996,
          0.017272684650000005,
          0.017187152070000003,
          0.01752151081
         ],
         "yaxis": "y"
        },
        {
         "fill": "toself",
         "fillcolor": "rgba(248,150,64,.3)",
         "hoverinfo": "skip",
         "legendgroup": "8",
         "line": {
          "color": "rgba(255,255,255,0)"
         },
         "showlegend": false,
         "type": "scatter",
         "x": [
          0,
          1,
          10,
          100,
          1000,
          10000,
          10000,
          1000,
          100,
          10,
          1,
          0
         ],
         "xaxis": "x",
         "y": [
          0.15793620414893014,
          0.014057509029520267,
          0.014387282242104536,
          0.014031141747571266,
          0.013486144631089027,
          0.014165404430614542,
          0.013890646629385448,
          0.013124441648910978,
          0.013568780172428737,
          0.013846125017895446,
          0.013551694830479733,
          0.1537622938110698
         ],
         "yaxis": "y"
        },
        {
         "hovertemplate": "num_threads=8<br>num_ifs=%{x}<br>mean=%{y}<extra></extra>",
         "legendgroup": "8",
         "line": {
          "color": "#f89640",
          "dash": "solid"
         },
         "marker": {
          "symbol": "circle"
         },
         "mode": "lines",
         "name": "8",
         "orientation": "v",
         "showlegend": true,
         "type": "scatter",
         "x": [
          0,
          1,
          10,
          100,
          1000,
          10000
         ],
         "xaxis": "x",
         "y": [
          0.15584924897999997,
          0.01380460193,
          0.014116703629999991,
          0.013799960960000001,
          0.013305293140000002,
          0.014028025529999995
         ],
         "yaxis": "y"
        },
        {
         "fill": "toself",
         "fillcolor": "rgba(237,121,83,.3)",
         "hoverinfo": "skip",
         "legendgroup": "16",
         "line": {
          "color": "rgba(255,255,255,0)"
         },
         "showlegend": false,
         "type": "scatter",
         "x": [
          0,
          1,
          10,
          100,
          1000,
          10000,
          10000,
          1000,
          100,
          10,
          1,
          0
         ],
         "xaxis": "x",
         "y": [
          0.1388733935876274,
          0.014097330178024597,
          0.014186713240300299,
          0.014088832677336157,
          0.013296965050672656,
          0.013943722873361725,
          0.013705532586638272,
          0.013117443089327349,
          0.013686322542663847,
          0.013784329659699694,
          0.013639702461975406,
          0.13566430499237264
         ],
         "yaxis": "y"
        },
        {
         "hovertemplate": "num_threads=16<br>num_ifs=%{x}<br>mean=%{y}<extra></extra>",
         "legendgroup": "16",
         "line": {
          "color": "#ed7953",
          "dash": "solid"
         },
         "marker": {
          "symbol": "circle"
         },
         "mode": "lines",
         "name": "16",
         "orientation": "v",
         "showlegend": true,
         "type": "scatter",
         "x": [
          0,
          1,
          10,
          100,
          1000,
          10000
         ],
         "xaxis": "x",
         "y": [
          0.13726884929000002,
          0.013868516320000001,
          0.013985521449999996,
          0.013887577610000002,
          0.013207204070000002,
          0.013824627729999999
         ],
         "yaxis": "y"
        },
        {
         "fill": "toself",
         "fillcolor": "rgba(221,95,101,.3)",
         "hoverinfo": "skip",
         "legendgroup": "32",
         "line": {
          "color": "rgba(255,255,255,0)"
         },
         "showlegend": false,
         "type": "scatter",
         "x": [
          0,
          1,
          10,
          100,
          1000,
          10000,
          10000,
          1000,
          100,
          10,
          1,
          0
         ],
         "xaxis": "x",
         "y": [
          0.13420564424193715,
          0.014027514522525273,
          0.014303046303822032,
          0.014043602514872817,
          0.013514104267823589,
          0.014354340531265861,
          0.014119945468734154,
          0.013330972532176428,
          0.013738636105127187,
          0.013969504936177974,
          0.013689182397474747,
          0.1308198507180629
         ],
         "yaxis": "y"
        },
        {
         "hovertemplate": "num_threads=32<br>num_ifs=%{x}<br>mean=%{y}<extra></extra>",
         "legendgroup": "32",
         "line": {
          "color": "#dd5f65",
          "dash": "solid"
         },
         "marker": {
          "symbol": "circle"
         },
         "mode": "lines",
         "name": "32",
         "orientation": "v",
         "showlegend": true,
         "type": "scatter",
         "x": [
          0,
          1,
          10,
          100,
          1000,
          10000
         ],
         "xaxis": "x",
         "y": [
          0.13251274748000003,
          0.01385834846000001,
          0.014136275620000003,
          0.013891119310000002,
          0.013422538400000008,
          0.014237143000000008
         ],
         "yaxis": "y"
        },
        {
         "fill": "toself",
         "fillcolor": "rgba(203,71,120,.3)",
         "hoverinfo": "skip",
         "legendgroup": "64",
         "line": {
          "color": "rgba(255,255,255,0)"
         },
         "showlegend": false,
         "type": "scatter",
         "x": [
          0,
          1,
          10,
          100,
          1000,
          10000,
          10000,
          1000,
          100,
          10,
          1,
          0
         ],
         "xaxis": "x",
         "y": [
          0.12532081691296984,
          0.014312054708329042,
          0.014575779102895932,
          0.014281872204231471,
          0.013804614218684943,
          0.014146477363909926,
          0.014015787016090084,
          0.013638683221315047,
          0.014041423575768522,
          0.014197780817104079,
          0.014063778171670965,
          0.12274388846703015
         ],
         "yaxis": "y"
        },
        {
         "hovertemplate": "num_threads=64<br>num_ifs=%{x}<br>mean=%{y}<extra></extra>",
         "legendgroup": "64",
         "line": {
          "color": "#cb4778",
          "dash": "solid"
         },
         "marker": {
          "symbol": "circle"
         },
         "mode": "lines",
         "name": "64",
         "orientation": "v",
         "showlegend": true,
         "type": "scatter",
         "x": [
          0,
          1,
          10,
          100,
          1000,
          10000
         ],
         "xaxis": "x",
         "y": [
          0.12403235269,
          0.014187916440000004,
          0.014386779960000005,
          0.014161647889999997,
          0.013721648719999995,
          0.014081132190000005
         ],
         "yaxis": "y"
        },
        {
         "fill": "toself",
         "fillcolor": "rgba(181,47,140,.3)",
         "hoverinfo": "skip",
         "legendgroup": "128",
         "line": {
          "color": "rgba(255,255,255,0)"
         },
         "showlegend": false,
         "type": "scatter",
         "x": [
          0,
          1,
          10,
          100,
          1000,
          10000,
          10000,
          1000,
          100,
          10,
          1,
          0
         ],
         "xaxis": "x",
         "y": [
          0.12254744616191268,
          0.014690316395107312,
          0.014951653553477351,
          0.014780010342197369,
          0.014378956080530447,
          0.015377016132733476,
          0.015127383887266524,
          0.014253846419469548,
          0.01453310177780263,
          0.014703033026522651,
          0.014467229224892684,
          0.11743278387808728
         ],
         "yaxis": "y"
        },
        {
         "hovertemplate": "num_threads=128<br>num_ifs=%{x}<br>mean=%{y}<extra></extra>",
         "legendgroup": "128",
         "line": {
          "color": "#b52f8c",
          "dash": "solid"
         },
         "marker": {
          "symbol": "circle"
         },
         "mode": "lines",
         "name": "128",
         "orientation": "v",
         "showlegend": true,
         "type": "scatter",
         "x": [
          0,
          1,
          10,
          100,
          1000,
          10000
         ],
         "xaxis": "x",
         "y": [
          0.11999011501999998,
          0.014578772809999998,
          0.014827343290000001,
          0.01465655606,
          0.014316401249999998,
          0.01525220001
         ],
         "yaxis": "y"
        },
        {
         "fill": "toself",
         "fillcolor": "rgba(156,23,158,.3)",
         "hoverinfo": "skip",
         "legendgroup": "256",
         "line": {
          "color": "rgba(255,255,255,0)"
         },
         "showlegend": false,
         "type": "scatter",
         "x": [
          0,
          1,
          10,
          100,
          1000,
          10000,
          10000,
          1000,
          100,
          10,
          1,
          0
         ],
         "xaxis": "x",
         "y": [
          0.06517939523728837,
          0.016024641292905723,
          0.016233444641602097,
          0.016144519237325135,
          0.015583229366437672,
          0.016011611646901076,
          0.01585103549309893,
          0.015429728173562321,
          0.015909025322674873,
          0.0159666771783979,
          0.015806882227094293,
          0.060503792082711665
         ],
         "yaxis": "y"
        },
        {
         "hovertemplate": "num_threads=256<br>num_ifs=%{x}<br>mean=%{y}<extra></extra>",
         "legendgroup": "256",
         "line": {
          "color": "#9c179e",
          "dash": "solid"
         },
         "marker": {
          "symbol": "circle"
         },
         "mode": "lines",
         "name": "256",
         "orientation": "v",
         "showlegend": true,
         "type": "scatter",
         "x": [
          0,
          1,
          10,
          100,
          1000,
          10000
         ],
         "xaxis": "x",
         "y": [
          0.06284159366000001,
          0.015915761760000008,
          0.01610006091,
          0.016026772280000004,
          0.015506478769999997,
          0.015931323570000003
         ],
         "yaxis": "y"
        },
        {
         "fill": "toself",
         "fillcolor": "rgba(124,6,166,.3)",
         "hoverinfo": "skip",
         "legendgroup": "512",
         "line": {
          "color": "rgba(255,255,255,0)"
         },
         "showlegend": false,
         "type": "scatter",
         "x": [
          0,
          1,
          10,
          100,
          1000,
          10000,
          10000,
          1000,
          100,
          10,
          1,
          0
         ],
         "xaxis": "x",
         "y": [
          0.05464419532157034,
          0.019140530890460552,
          0.01918539260747669,
          0.019677938411528977,
          0.019088453886787624,
          0.019150893648029247,
          0.018968116951970763,
          0.0185718462132124,
          0.019250455388471026,
          0.01890887581252331,
          0.018890742849539444,
          0.04968720481842969
         ],
         "yaxis": "y"
        },
        {
         "hovertemplate": "num_threads=512<br>num_ifs=%{x}<br>mean=%{y}<extra></extra>",
         "legendgroup": "512",
         "line": {
          "color": "#7c06a6",
          "dash": "solid"
         },
         "marker": {
          "symbol": "circle"
         },
         "mode": "lines",
         "name": "512",
         "orientation": "v",
         "showlegend": true,
         "type": "scatter",
         "x": [
          0,
          1,
          10,
          100,
          1000,
          10000
         ],
         "xaxis": "x",
         "y": [
          0.052165700070000015,
          0.019015636869999998,
          0.01904713421,
          0.0194641969,
          0.01883015005000001,
          0.019059505300000005
         ],
         "yaxis": "y"
        },
        {
         "fill": "toself",
         "fillcolor": "rgba(92,2,163,.3)",
         "hoverinfo": "skip",
         "legendgroup": "1024",
         "line": {
          "color": "rgba(255,255,255,0)"
         },
         "showlegend": false,
         "type": "scatter",
         "x": [
          0,
          1,
          10,
          100,
          1000,
          10000,
          10000,
          1000,
          100,
          10,
          1,
          0
         ],
         "xaxis": "x",
         "y": [
          0.07626637573754562,
          0.03348138574578624,
          0.03357021036063578,
          0.03309482221642218,
          0.032546879158679994,
          0.03280594027010734,
          0.032444283669892694,
          0.03221624072132002,
          0.032583483923577794,
          0.03308178691936423,
          0.03292370245421375,
          0.06736252122245436
         ],
         "yaxis": "y"
        },
        {
         "hovertemplate": "num_threads=1024<br>num_ifs=%{x}<br>mean=%{y}<extra></extra>",
         "legendgroup": "1024",
         "line": {
          "color": "#5c02a3",
          "dash": "solid"
         },
         "marker": {
          "symbol": "circle"
         },
         "mode": "lines",
         "name": "1024",
         "orientation": "v",
         "showlegend": true,
         "type": "scatter",
         "x": [
          0,
          1,
          10,
          100,
          1000,
          10000
         ],
         "xaxis": "x",
         "y": [
          0.07181444847999999,
          0.033202544099999995,
          0.03332599864000001,
          0.03283915306999999,
          0.032381559940000006,
          0.032625111970000016
         ],
         "yaxis": "y"
        },
        {
         "fill": "toself",
         "fillcolor": "rgba(56,4,153,.3)",
         "hoverinfo": "skip",
         "legendgroup": "2048",
         "line": {
          "color": "rgba(255,255,255,0)"
         },
         "showlegend": false,
         "type": "scatter",
         "x": [
          0,
          1,
          10,
          100,
          1000,
          10000,
          10000,
          1000,
          100,
          10,
          1,
          0
         ],
         "xaxis": "x",
         "y": [
          0.11336201075415761,
          0.07375200113170448,
          0.07188321228100007,
          0.07056790856003835,
          0.0696143968806401,
          0.07105334762778329,
          0.07031393359221669,
          0.06884704139935997,
          0.0694756017599616,
          0.07094457987899992,
          0.07214764304829556,
          0.11033947754584245
         ],
         "yaxis": "y"
        },
        {
         "hovertemplate": "num_threads=2048<br>num_ifs=%{x}<br>mean=%{y}<extra></extra>",
         "legendgroup": "2048",
         "line": {
          "color": "#380499",
          "dash": "solid"
         },
         "marker": {
          "symbol": "circle"
         },
         "mode": "lines",
         "name": "2048",
         "orientation": "v",
         "showlegend": true,
         "type": "scatter",
         "x": [
          0,
          1,
          10,
          100,
          1000,
          10000
         ],
         "xaxis": "x",
         "y": [
          0.11185074415000003,
          0.07294982209000002,
          0.07141389608,
          0.07002175515999998,
          0.06923071914000004,
          0.07068364060999999
         ],
         "yaxis": "y"
        },
        {
         "fill": "toself",
         "fillcolor": "rgba(13,8,135,.3)",
         "hoverinfo": "skip",
         "legendgroup": "4096",
         "line": {
          "color": "rgba(255,255,255,0)"
         },
         "showlegend": false,
         "type": "scatter",
         "x": [
          0,
          1,
          10,
          100,
          1000,
          10000,
          10000,
          1000,
          100,
          10,
          1,
          0
         ],
         "xaxis": "x",
         "y": [
          0.21322302281486866,
          0.2044447290179118,
          0.20366375469920128,
          0.20305911965869786,
          0.20238553318277927,
          0.20398573081621485,
          0.20272938254378509,
          0.20127691561722086,
          0.20184375754130204,
          0.20248371652079883,
          0.20302353348208832,
          0.21172831938513154
         ],
         "yaxis": "y"
        },
        {
         "hovertemplate": "num_threads=4096<br>num_ifs=%{x}<br>mean=%{y}<extra></extra>",
         "legendgroup": "4096",
         "line": {
          "color": "#0d0887",
          "dash": "solid"
         },
         "marker": {
          "symbol": "circle"
         },
         "mode": "lines",
         "name": "4096",
         "orientation": "v",
         "showlegend": true,
         "type": "scatter",
         "x": [
          0,
          1,
          10,
          100,
          1000,
          10000
         ],
         "xaxis": "x",
         "y": [
          0.2124756711000001,
          0.20373413125000006,
          0.20307373561000006,
          0.20245143859999995,
          0.20183122440000006,
          0.20335755667999997
         ],
         "yaxis": "y"
        }
       ],
       "layout": {
        "legend": {
         "title": {
          "text": "num_threads"
         },
         "tracegroupgap": 0
        },
        "margin": {
         "b": 0,
         "l": 0,
         "r": 120,
         "t": 50
        },
        "template": {
         "data": {
          "bar": [
           {
            "error_x": {
             "color": "#2a3f5f"
            },
            "error_y": {
             "color": "#2a3f5f"
            },
            "marker": {
             "line": {
              "color": "#E5ECF6",
              "width": 0.5
             },
             "pattern": {
              "fillmode": "overlay",
              "size": 10,
              "solidity": 0.2
             }
            },
            "type": "bar"
           }
          ],
          "barpolar": [
           {
            "marker": {
             "line": {
              "color": "#E5ECF6",
              "width": 0.5
             },
             "pattern": {
              "fillmode": "overlay",
              "size": 10,
              "solidity": 0.2
             }
            },
            "type": "barpolar"
           }
          ],
          "carpet": [
           {
            "aaxis": {
             "endlinecolor": "#2a3f5f",
             "gridcolor": "white",
             "linecolor": "white",
             "minorgridcolor": "white",
             "startlinecolor": "#2a3f5f"
            },
            "baxis": {
             "endlinecolor": "#2a3f5f",
             "gridcolor": "white",
             "linecolor": "white",
             "minorgridcolor": "white",
             "startlinecolor": "#2a3f5f"
            },
            "type": "carpet"
           }
          ],
          "choropleth": [
           {
            "colorbar": {
             "outlinewidth": 0,
             "ticks": ""
            },
            "type": "choropleth"
           }
          ],
          "contour": [
           {
            "colorbar": {
             "outlinewidth": 0,
             "ticks": ""
            },
            "colorscale": [
             [
              0,
              "#0d0887"
             ],
             [
              0.1111111111111111,
              "#46039f"
             ],
             [
              0.2222222222222222,
              "#7201a8"
             ],
             [
              0.3333333333333333,
              "#9c179e"
             ],
             [
              0.4444444444444444,
              "#bd3786"
             ],
             [
              0.5555555555555556,
              "#d8576b"
             ],
             [
              0.6666666666666666,
              "#ed7953"
             ],
             [
              0.7777777777777778,
              "#fb9f3a"
             ],
             [
              0.8888888888888888,
              "#fdca26"
             ],
             [
              1,
              "#f0f921"
             ]
            ],
            "type": "contour"
           }
          ],
          "contourcarpet": [
           {
            "colorbar": {
             "outlinewidth": 0,
             "ticks": ""
            },
            "type": "contourcarpet"
           }
          ],
          "heatmap": [
           {
            "colorbar": {
             "outlinewidth": 0,
             "ticks": ""
            },
            "colorscale": [
             [
              0,
              "#0d0887"
             ],
             [
              0.1111111111111111,
              "#46039f"
             ],
             [
              0.2222222222222222,
              "#7201a8"
             ],
             [
              0.3333333333333333,
              "#9c179e"
             ],
             [
              0.4444444444444444,
              "#bd3786"
             ],
             [
              0.5555555555555556,
              "#d8576b"
             ],
             [
              0.6666666666666666,
              "#ed7953"
             ],
             [
              0.7777777777777778,
              "#fb9f3a"
             ],
             [
              0.8888888888888888,
              "#fdca26"
             ],
             [
              1,
              "#f0f921"
             ]
            ],
            "type": "heatmap"
           }
          ],
          "heatmapgl": [
           {
            "colorbar": {
             "outlinewidth": 0,
             "ticks": ""
            },
            "colorscale": [
             [
              0,
              "#0d0887"
             ],
             [
              0.1111111111111111,
              "#46039f"
             ],
             [
              0.2222222222222222,
              "#7201a8"
             ],
             [
              0.3333333333333333,
              "#9c179e"
             ],
             [
              0.4444444444444444,
              "#bd3786"
             ],
             [
              0.5555555555555556,
              "#d8576b"
             ],
             [
              0.6666666666666666,
              "#ed7953"
             ],
             [
              0.7777777777777778,
              "#fb9f3a"
             ],
             [
              0.8888888888888888,
              "#fdca26"
             ],
             [
              1,
              "#f0f921"
             ]
            ],
            "type": "heatmapgl"
           }
          ],
          "histogram": [
           {
            "marker": {
             "pattern": {
              "fillmode": "overlay",
              "size": 10,
              "solidity": 0.2
             }
            },
            "type": "histogram"
           }
          ],
          "histogram2d": [
           {
            "colorbar": {
             "outlinewidth": 0,
             "ticks": ""
            },
            "colorscale": [
             [
              0,
              "#0d0887"
             ],
             [
              0.1111111111111111,
              "#46039f"
             ],
             [
              0.2222222222222222,
              "#7201a8"
             ],
             [
              0.3333333333333333,
              "#9c179e"
             ],
             [
              0.4444444444444444,
              "#bd3786"
             ],
             [
              0.5555555555555556,
              "#d8576b"
             ],
             [
              0.6666666666666666,
              "#ed7953"
             ],
             [
              0.7777777777777778,
              "#fb9f3a"
             ],
             [
              0.8888888888888888,
              "#fdca26"
             ],
             [
              1,
              "#f0f921"
             ]
            ],
            "type": "histogram2d"
           }
          ],
          "histogram2dcontour": [
           {
            "colorbar": {
             "outlinewidth": 0,
             "ticks": ""
            },
            "colorscale": [
             [
              0,
              "#0d0887"
             ],
             [
              0.1111111111111111,
              "#46039f"
             ],
             [
              0.2222222222222222,
              "#7201a8"
             ],
             [
              0.3333333333333333,
              "#9c179e"
             ],
             [
              0.4444444444444444,
              "#bd3786"
             ],
             [
              0.5555555555555556,
              "#d8576b"
             ],
             [
              0.6666666666666666,
              "#ed7953"
             ],
             [
              0.7777777777777778,
              "#fb9f3a"
             ],
             [
              0.8888888888888888,
              "#fdca26"
             ],
             [
              1,
              "#f0f921"
             ]
            ],
            "type": "histogram2dcontour"
           }
          ],
          "mesh3d": [
           {
            "colorbar": {
             "outlinewidth": 0,
             "ticks": ""
            },
            "type": "mesh3d"
           }
          ],
          "parcoords": [
           {
            "line": {
             "colorbar": {
              "outlinewidth": 0,
              "ticks": ""
             }
            },
            "type": "parcoords"
           }
          ],
          "pie": [
           {
            "automargin": true,
            "type": "pie"
           }
          ],
          "scatter": [
           {
            "fillpattern": {
             "fillmode": "overlay",
             "size": 10,
             "solidity": 0.2
            },
            "type": "scatter"
           }
          ],
          "scatter3d": [
           {
            "line": {
             "colorbar": {
              "outlinewidth": 0,
              "ticks": ""
             }
            },
            "marker": {
             "colorbar": {
              "outlinewidth": 0,
              "ticks": ""
             }
            },
            "type": "scatter3d"
           }
          ],
          "scattercarpet": [
           {
            "marker": {
             "colorbar": {
              "outlinewidth": 0,
              "ticks": ""
             }
            },
            "type": "scattercarpet"
           }
          ],
          "scattergeo": [
           {
            "marker": {
             "colorbar": {
              "outlinewidth": 0,
              "ticks": ""
             }
            },
            "type": "scattergeo"
           }
          ],
          "scattergl": [
           {
            "marker": {
             "colorbar": {
              "outlinewidth": 0,
              "ticks": ""
             }
            },
            "type": "scattergl"
           }
          ],
          "scattermapbox": [
           {
            "marker": {
             "colorbar": {
              "outlinewidth": 0,
              "ticks": ""
             }
            },
            "type": "scattermapbox"
           }
          ],
          "scatterpolar": [
           {
            "marker": {
             "colorbar": {
              "outlinewidth": 0,
              "ticks": ""
             }
            },
            "type": "scatterpolar"
           }
          ],
          "scatterpolargl": [
           {
            "marker": {
             "colorbar": {
              "outlinewidth": 0,
              "ticks": ""
             }
            },
            "type": "scatterpolargl"
           }
          ],
          "scatterternary": [
           {
            "marker": {
             "colorbar": {
              "outlinewidth": 0,
              "ticks": ""
             }
            },
            "type": "scatterternary"
           }
          ],
          "surface": [
           {
            "colorbar": {
             "outlinewidth": 0,
             "ticks": ""
            },
            "colorscale": [
             [
              0,
              "#0d0887"
             ],
             [
              0.1111111111111111,
              "#46039f"
             ],
             [
              0.2222222222222222,
              "#7201a8"
             ],
             [
              0.3333333333333333,
              "#9c179e"
             ],
             [
              0.4444444444444444,
              "#bd3786"
             ],
             [
              0.5555555555555556,
              "#d8576b"
             ],
             [
              0.6666666666666666,
              "#ed7953"
             ],
             [
              0.7777777777777778,
              "#fb9f3a"
             ],
             [
              0.8888888888888888,
              "#fdca26"
             ],
             [
              1,
              "#f0f921"
             ]
            ],
            "type": "surface"
           }
          ],
          "table": [
           {
            "cells": {
             "fill": {
              "color": "#EBF0F8"
             },
             "line": {
              "color": "white"
             }
            },
            "header": {
             "fill": {
              "color": "#C8D4E3"
             },
             "line": {
              "color": "white"
             }
            },
            "type": "table"
           }
          ]
         },
         "layout": {
          "annotationdefaults": {
           "arrowcolor": "#2a3f5f",
           "arrowhead": 0,
           "arrowwidth": 1
          },
          "autotypenumbers": "strict",
          "coloraxis": {
           "colorbar": {
            "outlinewidth": 0,
            "ticks": ""
           }
          },
          "colorscale": {
           "diverging": [
            [
             0,
             "#8e0152"
            ],
            [
             0.1,
             "#c51b7d"
            ],
            [
             0.2,
             "#de77ae"
            ],
            [
             0.3,
             "#f1b6da"
            ],
            [
             0.4,
             "#fde0ef"
            ],
            [
             0.5,
             "#f7f7f7"
            ],
            [
             0.6,
             "#e6f5d0"
            ],
            [
             0.7,
             "#b8e186"
            ],
            [
             0.8,
             "#7fbc41"
            ],
            [
             0.9,
             "#4d9221"
            ],
            [
             1,
             "#276419"
            ]
           ],
           "sequential": [
            [
             0,
             "#0d0887"
            ],
            [
             0.1111111111111111,
             "#46039f"
            ],
            [
             0.2222222222222222,
             "#7201a8"
            ],
            [
             0.3333333333333333,
             "#9c179e"
            ],
            [
             0.4444444444444444,
             "#bd3786"
            ],
            [
             0.5555555555555556,
             "#d8576b"
            ],
            [
             0.6666666666666666,
             "#ed7953"
            ],
            [
             0.7777777777777778,
             "#fb9f3a"
            ],
            [
             0.8888888888888888,
             "#fdca26"
            ],
            [
             1,
             "#f0f921"
            ]
           ],
           "sequentialminus": [
            [
             0,
             "#0d0887"
            ],
            [
             0.1111111111111111,
             "#46039f"
            ],
            [
             0.2222222222222222,
             "#7201a8"
            ],
            [
             0.3333333333333333,
             "#9c179e"
            ],
            [
             0.4444444444444444,
             "#bd3786"
            ],
            [
             0.5555555555555556,
             "#d8576b"
            ],
            [
             0.6666666666666666,
             "#ed7953"
            ],
            [
             0.7777777777777778,
             "#fb9f3a"
            ],
            [
             0.8888888888888888,
             "#fdca26"
            ],
            [
             1,
             "#f0f921"
            ]
           ]
          },
          "colorway": [
           "#636efa",
           "#EF553B",
           "#00cc96",
           "#ab63fa",
           "#FFA15A",
           "#19d3f3",
           "#FF6692",
           "#B6E880",
           "#FF97FF",
           "#FECB52"
          ],
          "font": {
           "color": "#2a3f5f"
          },
          "geo": {
           "bgcolor": "white",
           "lakecolor": "white",
           "landcolor": "#E5ECF6",
           "showlakes": true,
           "showland": true,
           "subunitcolor": "white"
          },
          "hoverlabel": {
           "align": "left"
          },
          "hovermode": "closest",
          "mapbox": {
           "style": "light"
          },
          "paper_bgcolor": "white",
          "plot_bgcolor": "#E5ECF6",
          "polar": {
           "angularaxis": {
            "gridcolor": "white",
            "linecolor": "white",
            "ticks": ""
           },
           "bgcolor": "#E5ECF6",
           "radialaxis": {
            "gridcolor": "white",
            "linecolor": "white",
            "ticks": ""
           }
          },
          "scene": {
           "xaxis": {
            "backgroundcolor": "#E5ECF6",
            "gridcolor": "white",
            "gridwidth": 2,
            "linecolor": "white",
            "showbackground": true,
            "ticks": "",
            "zerolinecolor": "white"
           },
           "yaxis": {
            "backgroundcolor": "#E5ECF6",
            "gridcolor": "white",
            "gridwidth": 2,
            "linecolor": "white",
            "showbackground": true,
            "ticks": "",
            "zerolinecolor": "white"
           },
           "zaxis": {
            "backgroundcolor": "#E5ECF6",
            "gridcolor": "white",
            "gridwidth": 2,
            "linecolor": "white",
            "showbackground": true,
            "ticks": "",
            "zerolinecolor": "white"
           }
          },
          "shapedefaults": {
           "line": {
            "color": "#2a3f5f"
           }
          },
          "ternary": {
           "aaxis": {
            "gridcolor": "white",
            "linecolor": "white",
            "ticks": ""
           },
           "baxis": {
            "gridcolor": "white",
            "linecolor": "white",
            "ticks": ""
           },
           "bgcolor": "#E5ECF6",
           "caxis": {
            "gridcolor": "white",
            "linecolor": "white",
            "ticks": ""
           }
          },
          "title": {
           "x": 0.05
          },
          "xaxis": {
           "automargin": true,
           "gridcolor": "white",
           "linecolor": "white",
           "ticks": "",
           "title": {
            "standoff": 15
           },
           "zerolinecolor": "white",
           "zerolinewidth": 2
          },
          "yaxis": {
           "automargin": true,
           "gridcolor": "white",
           "linecolor": "white",
           "ticks": "",
           "title": {
            "standoff": 15
           },
           "zerolinecolor": "white",
           "zerolinewidth": 2
          }
         }
        },
        "title": {
         "text": "Array size = 100000"
        },
        "xaxis": {
         "anchor": "y",
         "domain": [
          0,
          1
         ],
         "title": {
          "text": "num_ifs"
         },
         "type": "category"
        },
        "yaxis": {
         "anchor": "x",
         "domain": [
          0,
          1
         ],
         "title": {
          "text": "mean"
         },
         "type": "log"
        }
       }
      }
     },
     "metadata": {},
     "output_type": "display_data"
    },
    {
     "data": {
      "application/vnd.plotly.v1+json": {
       "config": {
        "plotlyServerURL": "https://plot.ly"
       },
       "data": [
        {
         "fill": "toself",
         "fillcolor": "rgba(240,249,33,.3)",
         "hoverinfo": "skip",
         "legendgroup": "1",
         "line": {
          "color": "rgba(255,255,255,0)"
         },
         "showlegend": false,
         "type": "scatter",
         "x": [
          0,
          1,
          10,
          100,
          1000,
          10000,
          10000,
          1000,
          100,
          10,
          1,
          0
         ],
         "xaxis": "x",
         "y": [
          0.4117747514050502,
          0.3978433467028285,
          0.3985373472367054,
          0.3996825312808097,
          0.3960035370797202,
          0.3970370061445355,
          0.39519805809546393,
          0.3950401525402793,
          0.39596953837918986,
          0.3964059848232945,
          0.3956016433371716,
          0.4089886968749495
         ],
         "yaxis": "y"
        },
        {
         "hovertemplate": "num_threads=1<br>num_ifs=%{x}<br>mean=%{y}<extra></extra>",
         "legendgroup": "1",
         "line": {
          "color": "#f0f921",
          "dash": "solid"
         },
         "marker": {
          "symbol": "circle"
         },
         "mode": "lines",
         "name": "1",
         "orientation": "v",
         "showlegend": true,
         "type": "scatter",
         "x": [
          0,
          1,
          10,
          100,
          1000,
          10000
         ],
         "xaxis": "x",
         "y": [
          0.41038172413999985,
          0.39672249502000007,
          0.39747166602999995,
          0.3978260348299998,
          0.39552184480999975,
          0.3961175321199997
         ],
         "yaxis": "y"
        },
        {
         "fill": "toself",
         "fillcolor": "rgba(250,214,37,.3)",
         "hoverinfo": "skip",
         "legendgroup": "2",
         "line": {
          "color": "rgba(255,255,255,0)"
         },
         "showlegend": false,
         "type": "scatter",
         "x": [
          0,
          1,
          10,
          100,
          1000,
          10000,
          10000,
          1000,
          100,
          10,
          1,
          0
         ],
         "xaxis": "x",
         "y": [
          0.292278645504017,
          0.2123373187665405,
          0.22336018748712702,
          0.21041117734229564,
          0.20907824376832912,
          0.21036021294682336,
          0.20906005119317664,
          0.2081842294916708,
          0.20930422823770428,
          0.21758798093287293,
          0.20986056821345944,
          0.2724423136159832
         ],
         "yaxis": "y"
        },
        {
         "hovertemplate": "num_threads=2<br>num_ifs=%{x}<br>mean=%{y}<extra></extra>",
         "legendgroup": "2",
         "line": {
          "color": "#fad625",
          "dash": "solid"
         },
         "marker": {
          "symbol": "circle"
         },
         "mode": "lines",
         "name": "2",
         "orientation": "v",
         "showlegend": true,
         "type": "scatter",
         "x": [
          0,
          1,
          10,
          100,
          1000,
          10000
         ],
         "xaxis": "x",
         "y": [
          0.2823604795600001,
          0.21109894348999997,
          0.22047408420999998,
          0.20985770278999996,
          0.20863123662999997,
          0.20971013207
         ],
         "yaxis": "y"
        },
        {
         "fill": "toself",
         "fillcolor": "rgba(252,180,48,.3)",
         "hoverinfo": "skip",
         "legendgroup": "4",
         "line": {
          "color": "rgba(255,255,255,0)"
         },
         "showlegend": false,
         "type": "scatter",
         "x": [
          0,
          1,
          10,
          100,
          1000,
          10000,
          10000,
          1000,
          100,
          10,
          1,
          0
         ],
         "xaxis": "x",
         "y": [
          0.9837159624064726,
          0.1326667884404793,
          0.13045220585956488,
          0.12892587938805689,
          0.12452017330738425,
          0.12348032988195888,
          0.12224984975804111,
          0.12234731251261559,
          0.1267545053319432,
          0.12874871082043512,
          0.12720689941952074,
          0.9771005879135277
         ],
         "yaxis": "y"
        },
        {
         "hovertemplate": "num_threads=4<br>num_ifs=%{x}<br>mean=%{y}<extra></extra>",
         "legendgroup": "4",
         "line": {
          "color": "#fcb430",
          "dash": "solid"
         },
         "marker": {
          "symbol": "circle"
         },
         "mode": "lines",
         "name": "4",
         "orientation": "v",
         "showlegend": true,
         "type": "scatter",
         "x": [
          0,
          1,
          10,
          100,
          1000,
          10000
         ],
         "xaxis": "x",
         "y": [
          0.9804082751600002,
          0.12993684393000002,
          0.12960045834,
          0.12784019236000005,
          0.12343374290999992,
          0.12286508982
         ],
         "yaxis": "y"
        },
        {
         "fill": "toself",
         "fillcolor": "rgba(248,150,64,.3)",
         "hoverinfo": "skip",
         "legendgroup": "8",
         "line": {
          "color": "rgba(255,255,255,0)"
         },
         "showlegend": false,
         "type": "scatter",
         "x": [
          0,
          1,
          10,
          100,
          1000,
          10000,
          10000,
          1000,
          100,
          10,
          1,
          0
         ],
         "xaxis": "x",
         "y": [
          1.5422566939136182,
          0.11557925079087869,
          0.11676951858025263,
          0.11452541403391153,
          0.11017629726513942,
          0.11289056645717895,
          0.11156724020282104,
          0.10949596173486068,
          0.11327555364608854,
          0.11519751195974741,
          0.11405863764912128,
          1.531568229346381
         ],
         "yaxis": "y"
        },
        {
         "hovertemplate": "num_threads=8<br>num_ifs=%{x}<br>mean=%{y}<extra></extra>",
         "legendgroup": "8",
         "line": {
          "color": "#f89640",
          "dash": "solid"
         },
         "marker": {
          "symbol": "circle"
         },
         "mode": "lines",
         "name": "8",
         "orientation": "v",
         "showlegend": true,
         "type": "scatter",
         "x": [
          0,
          1,
          10,
          100,
          1000,
          10000
         ],
         "xaxis": "x",
         "y": [
          1.5369124616299996,
          0.11481894421999998,
          0.11598351527000002,
          0.11390048384000004,
          0.10983612950000005,
          0.11222890332999999
         ],
         "yaxis": "y"
        },
        {
         "fill": "toself",
         "fillcolor": "rgba(237,121,83,.3)",
         "hoverinfo": "skip",
         "legendgroup": "16",
         "line": {
          "color": "rgba(255,255,255,0)"
         },
         "showlegend": false,
         "type": "scatter",
         "x": [
          0,
          1,
          10,
          100,
          1000,
          10000,
          10000,
          1000,
          100,
          10,
          1,
          0
         ],
         "xaxis": "x",
         "y": [
          1.4942520912858268,
          0.11862723658077906,
          0.11878191553682121,
          0.11798881434028673,
          0.11279601941015126,
          0.11231232686320342,
          0.11120536735679665,
          0.11167941240984876,
          0.11504716229971328,
          0.11550850740317883,
          0.11567265921922096,
          1.482406731714173
         ],
         "yaxis": "y"
        },
        {
         "hovertemplate": "num_threads=16<br>num_ifs=%{x}<br>mean=%{y}<extra></extra>",
         "legendgroup": "16",
         "line": {
          "color": "#ed7953",
          "dash": "solid"
         },
         "marker": {
          "symbol": "circle"
         },
         "mode": "lines",
         "name": "16",
         "orientation": "v",
         "showlegend": true,
         "type": "scatter",
         "x": [
          0,
          1,
          10,
          100,
          1000,
          10000
         ],
         "xaxis": "x",
         "y": [
          1.4883294114999999,
          0.11714994790000001,
          0.11714521147000002,
          0.11651798832,
          0.11223771591000001,
          0.11175884711000003
         ],
         "yaxis": "y"
        },
        {
         "fill": "toself",
         "fillcolor": "rgba(221,95,101,.3)",
         "hoverinfo": "skip",
         "legendgroup": "32",
         "line": {
          "color": "rgba(255,255,255,0)"
         },
         "showlegend": false,
         "type": "scatter",
         "x": [
          0,
          1,
          10,
          100,
          1000,
          10000,
          10000,
          1000,
          100,
          10,
          1,
          0
         ],
         "xaxis": "x",
         "y": [
          1.46605043240821,
          0.1168365708089221,
          0.11713507714932354,
          0.11621967776441752,
          0.11302638773130086,
          0.11410315618122796,
          0.11301043541877204,
          0.11199661218869922,
          0.11494885243558256,
          0.11565748313067643,
          0.11561606431107799,
          1.4517549111317918
         ],
         "yaxis": "y"
        },
        {
         "hovertemplate": "num_threads=32<br>num_ifs=%{x}<br>mean=%{y}<extra></extra>",
         "legendgroup": "32",
         "line": {
          "color": "#dd5f65",
          "dash": "solid"
         },
         "marker": {
          "symbol": "circle"
         },
         "mode": "lines",
         "name": "32",
         "orientation": "v",
         "showlegend": true,
         "type": "scatter",
         "x": [
          0,
          1,
          10,
          100,
          1000,
          10000
         ],
         "xaxis": "x",
         "y": [
          1.4589026717700009,
          0.11622631756000004,
          0.11639628013999999,
          0.11558426510000004,
          0.11251149996000004,
          0.1135567958
         ],
         "yaxis": "y"
        },
        {
         "fill": "toself",
         "fillcolor": "rgba(203,71,120,.3)",
         "hoverinfo": "skip",
         "legendgroup": "64",
         "line": {
          "color": "rgba(255,255,255,0)"
         },
         "showlegend": false,
         "type": "scatter",
         "x": [
          0,
          1,
          10,
          100,
          1000,
          10000,
          10000,
          1000,
          100,
          10,
          1,
          0
         ],
         "xaxis": "x",
         "y": [
          1.4137993482410631,
          0.11737026687893466,
          0.11742306240688509,
          0.11767455295503239,
          0.11402784793123204,
          0.114151569403472,
          0.11305025123652802,
          0.11300017348876797,
          0.1162284348449676,
          0.11618442841311481,
          0.11618508814106539,
          1.3969273247189364
         ],
         "yaxis": "y"
        },
        {
         "hovertemplate": "num_threads=64<br>num_ifs=%{x}<br>mean=%{y}<extra></extra>",
         "legendgroup": "64",
         "line": {
          "color": "#cb4778",
          "dash": "solid"
         },
         "marker": {
          "symbol": "circle"
         },
         "mode": "lines",
         "name": "64",
         "orientation": "v",
         "showlegend": true,
         "type": "scatter",
         "x": [
          0,
          1,
          10,
          100,
          1000,
          10000
         ],
         "xaxis": "x",
         "y": [
          1.4053633364799998,
          0.11677767751000002,
          0.11680374540999995,
          0.1169514939,
          0.11351401071,
          0.11360091032000001
         ],
         "yaxis": "y"
        },
        {
         "fill": "toself",
         "fillcolor": "rgba(181,47,140,.3)",
         "hoverinfo": "skip",
         "legendgroup": "128",
         "line": {
          "color": "rgba(255,255,255,0)"
         },
         "showlegend": false,
         "type": "scatter",
         "x": [
          0,
          1,
          10,
          100,
          1000,
          10000,
          10000,
          1000,
          100,
          10,
          1,
          0
         ],
         "xaxis": "x",
         "y": [
          1.2551345585495117,
          0.12047847864899854,
          0.11799327064663166,
          0.1197137001751122,
          0.11762245080019532,
          0.11664202862734531,
          0.11566381091265475,
          0.11604852273980462,
          0.11776959496488774,
          0.11682803847336824,
          0.11829763423100155,
          1.2197708106904883
         ],
         "yaxis": "y"
        },
        {
         "hovertemplate": "num_threads=128<br>num_ifs=%{x}<br>mean=%{y}<extra></extra>",
         "legendgroup": "128",
         "line": {
          "color": "#b52f8c",
          "dash": "solid"
         },
         "marker": {
          "symbol": "circle"
         },
         "mode": "lines",
         "name": "128",
         "orientation": "v",
         "showlegend": true,
         "type": "scatter",
         "x": [
          0,
          1,
          10,
          100,
          1000,
          10000
         ],
         "xaxis": "x",
         "y": [
          1.23745268462,
          0.11938805644000004,
          0.11741065455999995,
          0.11874164756999997,
          0.11683548676999997,
          0.11615291977000003
         ],
         "yaxis": "y"
        },
        {
         "fill": "toself",
         "fillcolor": "rgba(156,23,158,.3)",
         "hoverinfo": "skip",
         "legendgroup": "256",
         "line": {
          "color": "rgba(255,255,255,0)"
         },
         "showlegend": false,
         "type": "scatter",
         "x": [
          0,
          1,
          10,
          100,
          1000,
          10000,
          10000,
          1000,
          100,
          10,
          1,
          0
         ],
         "xaxis": "x",
         "y": [
          1.1377050785815443,
          0.11900709571679996,
          0.11981943519421367,
          0.12142564615161053,
          0.11682284212719897,
          0.11770051647616947,
          0.11640235828383058,
          0.11585441523280109,
          0.11924586004838944,
          0.11857895264578633,
          0.11787640234319999,
          1.0408353745384553
         ],
         "yaxis": "y"
        },
        {
         "hovertemplate": "num_threads=256<br>num_ifs=%{x}<br>mean=%{y}<extra></extra>",
         "legendgroup": "256",
         "line": {
          "color": "#9c179e",
          "dash": "solid"
         },
         "marker": {
          "symbol": "circle"
         },
         "mode": "lines",
         "name": "256",
         "orientation": "v",
         "showlegend": true,
         "type": "scatter",
         "x": [
          0,
          1,
          10,
          100,
          1000,
          10000
         ],
         "xaxis": "x",
         "y": [
          1.0892702265599998,
          0.11844174902999997,
          0.11919919392,
          0.12033575309999998,
          0.11633862868000003,
          0.11705143738000003
         ],
         "yaxis": "y"
        },
        {
         "fill": "toself",
         "fillcolor": "rgba(124,6,166,.3)",
         "hoverinfo": "skip",
         "legendgroup": "512",
         "line": {
          "color": "rgba(255,255,255,0)"
         },
         "showlegend": false,
         "type": "scatter",
         "x": [
          0,
          1,
          10,
          100,
          1000,
          10000,
          10000,
          1000,
          100,
          10,
          1,
          0
         ],
         "xaxis": "x",
         "y": [
          1.140243994738331,
          0.12218328139190636,
          0.1220884518095071,
          0.12267782906165546,
          0.12108679160654494,
          0.11958850974122644,
          0.11855932915877353,
          0.11896399515345508,
          0.12142687731834471,
          0.120989421670493,
          0.12091697236809366,
          1.0235816054616682
         ],
         "yaxis": "y"
        },
        {
         "hovertemplate": "num_threads=512<br>num_ifs=%{x}<br>mean=%{y}<extra></extra>",
         "legendgroup": "512",
         "line": {
          "color": "#7c06a6",
          "dash": "solid"
         },
         "marker": {
          "symbol": "circle"
         },
         "mode": "lines",
         "name": "512",
         "orientation": "v",
         "showlegend": true,
         "type": "scatter",
         "x": [
          0,
          1,
          10,
          100,
          1000,
          10000
         ],
         "xaxis": "x",
         "y": [
          1.0819128000999996,
          0.12155012688000001,
          0.12153893674000005,
          0.12205235319000009,
          0.12002539338000001,
          0.11907391944999998
         ],
         "yaxis": "y"
        },
        {
         "fill": "toself",
         "fillcolor": "rgba(92,2,163,.3)",
         "hoverinfo": "skip",
         "legendgroup": "1024",
         "line": {
          "color": "rgba(255,255,255,0)"
         },
         "showlegend": false,
         "type": "scatter",
         "x": [
          0,
          1,
          10,
          100,
          1000,
          10000,
          10000,
          1000,
          100,
          10,
          1,
          0
         ],
         "xaxis": "x",
         "y": [
          1.1525295282920933,
          0.12828327479297338,
          0.13077555518915937,
          0.12831482082979667,
          0.1254316457784559,
          0.125898911674343,
          0.12481880990565701,
          0.12440682172154423,
          0.12700762057020326,
          0.12882835265084056,
          0.1270335765070267,
          1.0507120356079065
         ],
         "yaxis": "y"
        },
        {
         "hovertemplate": "num_threads=1024<br>num_ifs=%{x}<br>mean=%{y}<extra></extra>",
         "legendgroup": "1024",
         "line": {
          "color": "#5c02a3",
          "dash": "solid"
         },
         "marker": {
          "symbol": "circle"
         },
         "mode": "lines",
         "name": "1024",
         "orientation": "v",
         "showlegend": true,
         "type": "scatter",
         "x": [
          0,
          1,
          10,
          100,
          1000,
          10000
         ],
         "xaxis": "x",
         "y": [
          1.10162078195,
          0.12765842565000005,
          0.12980195391999996,
          0.12766122069999997,
          0.12491923375000007,
          0.12535886079
         ],
         "yaxis": "y"
        },
        {
         "fill": "toself",
         "fillcolor": "rgba(56,4,153,.3)",
         "hoverinfo": "skip",
         "legendgroup": "2048",
         "line": {
          "color": "rgba(255,255,255,0)"
         },
         "showlegend": false,
         "type": "scatter",
         "x": [
          0,
          1,
          10,
          100,
          1000,
          10000,
          10000,
          1000,
          100,
          10,
          1,
          0
         ],
         "xaxis": "x",
         "y": [
          1.2194669526992123,
          0.14856964801822248,
          0.1482288193424906,
          0.1476076706749842,
          0.14461492667701784,
          0.14621976490201383,
          0.14461825765798614,
          0.14314601508298228,
          0.14610368840501592,
          0.14664106469750926,
          0.14715484200177764,
          1.1128003221807872
         ],
         "yaxis": "y"
        },
        {
         "hovertemplate": "num_threads=2048<br>num_ifs=%{x}<br>mean=%{y}<extra></extra>",
         "legendgroup": "2048",
         "line": {
          "color": "#380499",
          "dash": "solid"
         },
         "marker": {
          "symbol": "circle"
         },
         "mode": "lines",
         "name": "2048",
         "orientation": "v",
         "showlegend": true,
         "type": "scatter",
         "x": [
          0,
          1,
          10,
          100,
          1000,
          10000
         ],
         "xaxis": "x",
         "y": [
          1.1661336374399998,
          0.14786224501000006,
          0.14743494201999993,
          0.14685567954000006,
          0.14388047088000006,
          0.14541901127999998
         ],
         "yaxis": "y"
        },
        {
         "fill": "toself",
         "fillcolor": "rgba(13,8,135,.3)",
         "hoverinfo": "skip",
         "legendgroup": "4096",
         "line": {
          "color": "rgba(255,255,255,0)"
         },
         "showlegend": false,
         "type": "scatter",
         "x": [
          0,
          1,
          10,
          100,
          1000,
          10000,
          10000,
          1000,
          100,
          10,
          1,
          0
         ],
         "xaxis": "x",
         "y": [
          1.2215297149547273,
          0.259416362193614,
          0.26007207951387423,
          0.2605106402331896,
          0.2526360822766729,
          0.25214884980192476,
          0.2493728110580754,
          0.24941144446332697,
          0.25602150692681036,
          0.25364871110612575,
          0.25666237632638617,
          1.1421545837252713
         ],
         "yaxis": "y"
        },
        {
         "hovertemplate": "num_threads=4096<br>num_ifs=%{x}<br>mean=%{y}<extra></extra>",
         "legendgroup": "4096",
         "line": {
          "color": "#0d0887",
          "dash": "solid"
         },
         "marker": {
          "symbol": "circle"
         },
         "mode": "lines",
         "name": "4096",
         "orientation": "v",
         "showlegend": true,
         "type": "scatter",
         "x": [
          0,
          1,
          10,
          100,
          1000,
          10000
         ],
         "xaxis": "x",
         "y": [
          1.1818421493399993,
          0.2580393692600001,
          0.25686039531,
          0.25826607358,
          0.25102376336999993,
          0.2507608304300001
         ],
         "yaxis": "y"
        }
       ],
       "layout": {
        "legend": {
         "title": {
          "text": "num_threads"
         },
         "tracegroupgap": 0
        },
        "margin": {
         "b": 0,
         "l": 0,
         "r": 120,
         "t": 50
        },
        "template": {
         "data": {
          "bar": [
           {
            "error_x": {
             "color": "#2a3f5f"
            },
            "error_y": {
             "color": "#2a3f5f"
            },
            "marker": {
             "line": {
              "color": "#E5ECF6",
              "width": 0.5
             },
             "pattern": {
              "fillmode": "overlay",
              "size": 10,
              "solidity": 0.2
             }
            },
            "type": "bar"
           }
          ],
          "barpolar": [
           {
            "marker": {
             "line": {
              "color": "#E5ECF6",
              "width": 0.5
             },
             "pattern": {
              "fillmode": "overlay",
              "size": 10,
              "solidity": 0.2
             }
            },
            "type": "barpolar"
           }
          ],
          "carpet": [
           {
            "aaxis": {
             "endlinecolor": "#2a3f5f",
             "gridcolor": "white",
             "linecolor": "white",
             "minorgridcolor": "white",
             "startlinecolor": "#2a3f5f"
            },
            "baxis": {
             "endlinecolor": "#2a3f5f",
             "gridcolor": "white",
             "linecolor": "white",
             "minorgridcolor": "white",
             "startlinecolor": "#2a3f5f"
            },
            "type": "carpet"
           }
          ],
          "choropleth": [
           {
            "colorbar": {
             "outlinewidth": 0,
             "ticks": ""
            },
            "type": "choropleth"
           }
          ],
          "contour": [
           {
            "colorbar": {
             "outlinewidth": 0,
             "ticks": ""
            },
            "colorscale": [
             [
              0,
              "#0d0887"
             ],
             [
              0.1111111111111111,
              "#46039f"
             ],
             [
              0.2222222222222222,
              "#7201a8"
             ],
             [
              0.3333333333333333,
              "#9c179e"
             ],
             [
              0.4444444444444444,
              "#bd3786"
             ],
             [
              0.5555555555555556,
              "#d8576b"
             ],
             [
              0.6666666666666666,
              "#ed7953"
             ],
             [
              0.7777777777777778,
              "#fb9f3a"
             ],
             [
              0.8888888888888888,
              "#fdca26"
             ],
             [
              1,
              "#f0f921"
             ]
            ],
            "type": "contour"
           }
          ],
          "contourcarpet": [
           {
            "colorbar": {
             "outlinewidth": 0,
             "ticks": ""
            },
            "type": "contourcarpet"
           }
          ],
          "heatmap": [
           {
            "colorbar": {
             "outlinewidth": 0,
             "ticks": ""
            },
            "colorscale": [
             [
              0,
              "#0d0887"
             ],
             [
              0.1111111111111111,
              "#46039f"
             ],
             [
              0.2222222222222222,
              "#7201a8"
             ],
             [
              0.3333333333333333,
              "#9c179e"
             ],
             [
              0.4444444444444444,
              "#bd3786"
             ],
             [
              0.5555555555555556,
              "#d8576b"
             ],
             [
              0.6666666666666666,
              "#ed7953"
             ],
             [
              0.7777777777777778,
              "#fb9f3a"
             ],
             [
              0.8888888888888888,
              "#fdca26"
             ],
             [
              1,
              "#f0f921"
             ]
            ],
            "type": "heatmap"
           }
          ],
          "heatmapgl": [
           {
            "colorbar": {
             "outlinewidth": 0,
             "ticks": ""
            },
            "colorscale": [
             [
              0,
              "#0d0887"
             ],
             [
              0.1111111111111111,
              "#46039f"
             ],
             [
              0.2222222222222222,
              "#7201a8"
             ],
             [
              0.3333333333333333,
              "#9c179e"
             ],
             [
              0.4444444444444444,
              "#bd3786"
             ],
             [
              0.5555555555555556,
              "#d8576b"
             ],
             [
              0.6666666666666666,
              "#ed7953"
             ],
             [
              0.7777777777777778,
              "#fb9f3a"
             ],
             [
              0.8888888888888888,
              "#fdca26"
             ],
             [
              1,
              "#f0f921"
             ]
            ],
            "type": "heatmapgl"
           }
          ],
          "histogram": [
           {
            "marker": {
             "pattern": {
              "fillmode": "overlay",
              "size": 10,
              "solidity": 0.2
             }
            },
            "type": "histogram"
           }
          ],
          "histogram2d": [
           {
            "colorbar": {
             "outlinewidth": 0,
             "ticks": ""
            },
            "colorscale": [
             [
              0,
              "#0d0887"
             ],
             [
              0.1111111111111111,
              "#46039f"
             ],
             [
              0.2222222222222222,
              "#7201a8"
             ],
             [
              0.3333333333333333,
              "#9c179e"
             ],
             [
              0.4444444444444444,
              "#bd3786"
             ],
             [
              0.5555555555555556,
              "#d8576b"
             ],
             [
              0.6666666666666666,
              "#ed7953"
             ],
             [
              0.7777777777777778,
              "#fb9f3a"
             ],
             [
              0.8888888888888888,
              "#fdca26"
             ],
             [
              1,
              "#f0f921"
             ]
            ],
            "type": "histogram2d"
           }
          ],
          "histogram2dcontour": [
           {
            "colorbar": {
             "outlinewidth": 0,
             "ticks": ""
            },
            "colorscale": [
             [
              0,
              "#0d0887"
             ],
             [
              0.1111111111111111,
              "#46039f"
             ],
             [
              0.2222222222222222,
              "#7201a8"
             ],
             [
              0.3333333333333333,
              "#9c179e"
             ],
             [
              0.4444444444444444,
              "#bd3786"
             ],
             [
              0.5555555555555556,
              "#d8576b"
             ],
             [
              0.6666666666666666,
              "#ed7953"
             ],
             [
              0.7777777777777778,
              "#fb9f3a"
             ],
             [
              0.8888888888888888,
              "#fdca26"
             ],
             [
              1,
              "#f0f921"
             ]
            ],
            "type": "histogram2dcontour"
           }
          ],
          "mesh3d": [
           {
            "colorbar": {
             "outlinewidth": 0,
             "ticks": ""
            },
            "type": "mesh3d"
           }
          ],
          "parcoords": [
           {
            "line": {
             "colorbar": {
              "outlinewidth": 0,
              "ticks": ""
             }
            },
            "type": "parcoords"
           }
          ],
          "pie": [
           {
            "automargin": true,
            "type": "pie"
           }
          ],
          "scatter": [
           {
            "fillpattern": {
             "fillmode": "overlay",
             "size": 10,
             "solidity": 0.2
            },
            "type": "scatter"
           }
          ],
          "scatter3d": [
           {
            "line": {
             "colorbar": {
              "outlinewidth": 0,
              "ticks": ""
             }
            },
            "marker": {
             "colorbar": {
              "outlinewidth": 0,
              "ticks": ""
             }
            },
            "type": "scatter3d"
           }
          ],
          "scattercarpet": [
           {
            "marker": {
             "colorbar": {
              "outlinewidth": 0,
              "ticks": ""
             }
            },
            "type": "scattercarpet"
           }
          ],
          "scattergeo": [
           {
            "marker": {
             "colorbar": {
              "outlinewidth": 0,
              "ticks": ""
             }
            },
            "type": "scattergeo"
           }
          ],
          "scattergl": [
           {
            "marker": {
             "colorbar": {
              "outlinewidth": 0,
              "ticks": ""
             }
            },
            "type": "scattergl"
           }
          ],
          "scattermapbox": [
           {
            "marker": {
             "colorbar": {
              "outlinewidth": 0,
              "ticks": ""
             }
            },
            "type": "scattermapbox"
           }
          ],
          "scatterpolar": [
           {
            "marker": {
             "colorbar": {
              "outlinewidth": 0,
              "ticks": ""
             }
            },
            "type": "scatterpolar"
           }
          ],
          "scatterpolargl": [
           {
            "marker": {
             "colorbar": {
              "outlinewidth": 0,
              "ticks": ""
             }
            },
            "type": "scatterpolargl"
           }
          ],
          "scatterternary": [
           {
            "marker": {
             "colorbar": {
              "outlinewidth": 0,
              "ticks": ""
             }
            },
            "type": "scatterternary"
           }
          ],
          "surface": [
           {
            "colorbar": {
             "outlinewidth": 0,
             "ticks": ""
            },
            "colorscale": [
             [
              0,
              "#0d0887"
             ],
             [
              0.1111111111111111,
              "#46039f"
             ],
             [
              0.2222222222222222,
              "#7201a8"
             ],
             [
              0.3333333333333333,
              "#9c179e"
             ],
             [
              0.4444444444444444,
              "#bd3786"
             ],
             [
              0.5555555555555556,
              "#d8576b"
             ],
             [
              0.6666666666666666,
              "#ed7953"
             ],
             [
              0.7777777777777778,
              "#fb9f3a"
             ],
             [
              0.8888888888888888,
              "#fdca26"
             ],
             [
              1,
              "#f0f921"
             ]
            ],
            "type": "surface"
           }
          ],
          "table": [
           {
            "cells": {
             "fill": {
              "color": "#EBF0F8"
             },
             "line": {
              "color": "white"
             }
            },
            "header": {
             "fill": {
              "color": "#C8D4E3"
             },
             "line": {
              "color": "white"
             }
            },
            "type": "table"
           }
          ]
         },
         "layout": {
          "annotationdefaults": {
           "arrowcolor": "#2a3f5f",
           "arrowhead": 0,
           "arrowwidth": 1
          },
          "autotypenumbers": "strict",
          "coloraxis": {
           "colorbar": {
            "outlinewidth": 0,
            "ticks": ""
           }
          },
          "colorscale": {
           "diverging": [
            [
             0,
             "#8e0152"
            ],
            [
             0.1,
             "#c51b7d"
            ],
            [
             0.2,
             "#de77ae"
            ],
            [
             0.3,
             "#f1b6da"
            ],
            [
             0.4,
             "#fde0ef"
            ],
            [
             0.5,
             "#f7f7f7"
            ],
            [
             0.6,
             "#e6f5d0"
            ],
            [
             0.7,
             "#b8e186"
            ],
            [
             0.8,
             "#7fbc41"
            ],
            [
             0.9,
             "#4d9221"
            ],
            [
             1,
             "#276419"
            ]
           ],
           "sequential": [
            [
             0,
             "#0d0887"
            ],
            [
             0.1111111111111111,
             "#46039f"
            ],
            [
             0.2222222222222222,
             "#7201a8"
            ],
            [
             0.3333333333333333,
             "#9c179e"
            ],
            [
             0.4444444444444444,
             "#bd3786"
            ],
            [
             0.5555555555555556,
             "#d8576b"
            ],
            [
             0.6666666666666666,
             "#ed7953"
            ],
            [
             0.7777777777777778,
             "#fb9f3a"
            ],
            [
             0.8888888888888888,
             "#fdca26"
            ],
            [
             1,
             "#f0f921"
            ]
           ],
           "sequentialminus": [
            [
             0,
             "#0d0887"
            ],
            [
             0.1111111111111111,
             "#46039f"
            ],
            [
             0.2222222222222222,
             "#7201a8"
            ],
            [
             0.3333333333333333,
             "#9c179e"
            ],
            [
             0.4444444444444444,
             "#bd3786"
            ],
            [
             0.5555555555555556,
             "#d8576b"
            ],
            [
             0.6666666666666666,
             "#ed7953"
            ],
            [
             0.7777777777777778,
             "#fb9f3a"
            ],
            [
             0.8888888888888888,
             "#fdca26"
            ],
            [
             1,
             "#f0f921"
            ]
           ]
          },
          "colorway": [
           "#636efa",
           "#EF553B",
           "#00cc96",
           "#ab63fa",
           "#FFA15A",
           "#19d3f3",
           "#FF6692",
           "#B6E880",
           "#FF97FF",
           "#FECB52"
          ],
          "font": {
           "color": "#2a3f5f"
          },
          "geo": {
           "bgcolor": "white",
           "lakecolor": "white",
           "landcolor": "#E5ECF6",
           "showlakes": true,
           "showland": true,
           "subunitcolor": "white"
          },
          "hoverlabel": {
           "align": "left"
          },
          "hovermode": "closest",
          "mapbox": {
           "style": "light"
          },
          "paper_bgcolor": "white",
          "plot_bgcolor": "#E5ECF6",
          "polar": {
           "angularaxis": {
            "gridcolor": "white",
            "linecolor": "white",
            "ticks": ""
           },
           "bgcolor": "#E5ECF6",
           "radialaxis": {
            "gridcolor": "white",
            "linecolor": "white",
            "ticks": ""
           }
          },
          "scene": {
           "xaxis": {
            "backgroundcolor": "#E5ECF6",
            "gridcolor": "white",
            "gridwidth": 2,
            "linecolor": "white",
            "showbackground": true,
            "ticks": "",
            "zerolinecolor": "white"
           },
           "yaxis": {
            "backgroundcolor": "#E5ECF6",
            "gridcolor": "white",
            "gridwidth": 2,
            "linecolor": "white",
            "showbackground": true,
            "ticks": "",
            "zerolinecolor": "white"
           },
           "zaxis": {
            "backgroundcolor": "#E5ECF6",
            "gridcolor": "white",
            "gridwidth": 2,
            "linecolor": "white",
            "showbackground": true,
            "ticks": "",
            "zerolinecolor": "white"
           }
          },
          "shapedefaults": {
           "line": {
            "color": "#2a3f5f"
           }
          },
          "ternary": {
           "aaxis": {
            "gridcolor": "white",
            "linecolor": "white",
            "ticks": ""
           },
           "baxis": {
            "gridcolor": "white",
            "linecolor": "white",
            "ticks": ""
           },
           "bgcolor": "#E5ECF6",
           "caxis": {
            "gridcolor": "white",
            "linecolor": "white",
            "ticks": ""
           }
          },
          "title": {
           "x": 0.05
          },
          "xaxis": {
           "automargin": true,
           "gridcolor": "white",
           "linecolor": "white",
           "ticks": "",
           "title": {
            "standoff": 15
           },
           "zerolinecolor": "white",
           "zerolinewidth": 2
          },
          "yaxis": {
           "automargin": true,
           "gridcolor": "white",
           "linecolor": "white",
           "ticks": "",
           "title": {
            "standoff": 15
           },
           "zerolinecolor": "white",
           "zerolinewidth": 2
          }
         }
        },
        "title": {
         "text": "Array size = 1000000"
        },
        "xaxis": {
         "anchor": "y",
         "domain": [
          0,
          1
         ],
         "title": {
          "text": "num_ifs"
         },
         "type": "category"
        },
        "yaxis": {
         "anchor": "x",
         "domain": [
          0,
          1
         ],
         "title": {
          "text": "mean"
         },
         "type": "log"
        }
       }
      }
     },
     "metadata": {},
     "output_type": "display_data"
    }
   ],
   "source": [
    "for array_size in df['array_size'].unique():\n",
    "    fig = line(\n",
    "        data_frame=df[df['array_size']==array_size],\n",
    "        title=f'Array size = {array_size}',\n",
    "        x='num_ifs',\n",
    "        y='mean',\n",
    "        log_y=True,\n",
    "        error_y = 'ci',\n",
    "        error_y_mode = 'band',\n",
    "        color='num_threads',\n",
    "        color_discrete_sequence=colors)\n",
    "    fig.update_xaxes(type='category')\n",
    "    fig.update_layout(margin=dict(l=0, r=120, t=50, b=0))\n",
    "    fig.write_image(out+f'{array_size}.png', scale=2)\n",
    "    fig.show()"
   ]
  },
  {
   "cell_type": "code",
   "execution_count": null,
   "metadata": {},
   "outputs": [],
   "source": []
  }
 ],
 "metadata": {
  "kernelspec": {
   "display_name": "venv",
   "language": "python",
   "name": "venv"
  },
  "language_info": {
   "codemirror_mode": {
    "name": "ipython",
    "version": 3
   },
   "file_extension": ".py",
   "mimetype": "text/x-python",
   "name": "python",
   "nbconvert_exporter": "python",
   "pygments_lexer": "ipython3",
   "version": "3.10.4"
  },
  "orig_nbformat": 4
 },
 "nbformat": 4,
 "nbformat_minor": 2
}
